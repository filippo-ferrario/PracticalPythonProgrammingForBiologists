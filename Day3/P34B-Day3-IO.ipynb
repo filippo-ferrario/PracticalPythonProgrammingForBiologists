{
  "cells": [
    {
      "cell_type": "markdown",
      "metadata": {
        "id": "QfYvI-_yE10I"
      },
      "source": [
        "# Practical Python Programming for Biologists\n",
        "Author: Dr. Daniel Pass | www.CompassBioinformatics.com\n",
        "\n",
        "---\n",
        "\n",
        "This session we will look at reading to and from files. Often not as important with beginners coding courses, but biological data is pretty typically depending on lots of large files being read in so lets find out how.\n",
        "\n",
        "Note: You will need to add the Classdata files to the colab runtime to access them, or if running on your own computer know the full path to where you have downloaded the files"
      ]
    },
    {
      "cell_type": "markdown",
      "metadata": {
        "id": "fEnty3q6ImKg"
      },
      "source": [
        "# Python I/O Handling\n",
        "\n",
        "In Python, input/output (I/O) handling is the process of reading data from external sources and writing data to external destinations. This is a fundamental aspect of programming especially in bioinformatics given the amount of data files we work with.\n",
        "\n",
        "## Reading a Text File\n",
        "\n",
        "One of the most regular I/O operations in Python is reading data from a file. In Python, we can read a text file using the `open()` function and the `read()` method. This will load the whole file into one variable.\n"
      ]
    },
    {
      "cell_type": "code",
      "execution_count": 1,
      "metadata": {
        "colab": {
          "base_uri": "https://localhost:8080/"
        },
        "id": "Ow-21O4gIl6g",
        "outputId": "32961ffb-8368-4015-ce0c-c9f4a6ca5d51"
      },
      "outputs": [
        {
          "output_type": "stream",
          "name": "stdout",
          "text": [
            ">U96639.2:5349-6893 Canis familiaris mitochondrion, cytochrome c oxidase subunit I\n",
            "ATGTTCATTAACCGATGACTGTTCTCCACTAATCACAAGGATATTGGTACTTTATACTTACTATTTGGAG\n",
            "CATGAGCCGGTATAGTAGGCACTGCTTTGAGCCTCCTCATCCGAGCCGAACTAGGTCAGCCCGGTACTTT\n",
            "ACTAGGTGACGATCAAATTTATAATGTCATCGTAACCGCCCATGCTTTCGTAATAATCTTCTTCATAGTC\n",
            "ATGCCCATCATAATTGGGGGCTTTGGAAACTGACTAGTGCCGTTAATAATTGGTGCTCCGGACATGGCAT\n",
            "TCCCCCGAATAAATAACATGAGCTTCTGACTCCTTCCTCCATCCTTTCTTCTACTATTAGCATCTTCTAT\n",
            "GGTAGAAGCAGGTGCAGGAACGGGATGAACCGTATACCCCCCACTGGCTGGCAATCTGGCCCATGCAGGA\n",
            "GCATCCGTTGACCTTACAATTTTCTCCTTACACTTAGCCGGAGTCTCTTCTATTTTAGGGGCAATTAATT\n",
            "TCATCACTACTATTATCAACATAAAACCCCCTGCAATATCCCAGTATCAAACTCCCCTGTTTGTATGATC\n",
            "AGTACTAATTACAGCAGTTCTACTCTTACTATCCCTGCCTGTACTGGCTGCTGGAATTACAATACTTTTA\n",
            "ACAGACCGGAATCTTAATACAACATTTTTTGATCCCGCTGGAGGAGGAGACCCTATCCTATATCAACACC\n",
            "TATTCTGATTCTTCGGACATCCTGAAGTTTACATTCTTATCCTGCCCGGATTCGGAATAATTTCTCACAT\n"
          ]
        }
      ],
      "source": [
        "# Open the file in read mode\n",
        "with open('/content/CanisLupisCO1.fasta') as  inputFile:\n",
        "  # Read the contents of the file\n",
        "  data = inputFile.read()\n",
        "\n",
        "print(data)"
      ]
    },
    {
      "cell_type": "markdown",
      "metadata": {
        "id": "L4m8DaW-XbYv"
      },
      "source": [
        "An alternative is to read one line at a time as a temporary variable. This means the whole file isn't stored in memory (good for big files) but you don't have all the data available unless you add it to a variable."
      ]
    },
    {
      "cell_type": "code",
      "execution_count": 3,
      "metadata": {
        "colab": {
          "base_uri": "https://localhost:8080/"
        },
        "id": "9y_qiWm6XxIL",
        "outputId": "c3e0fb07-9624-43b7-aa5f-c35085a8e186"
      },
      "outputs": [
        {
          "output_type": "stream",
          "name": "stdout",
          "text": [
            "This is line number 1 :\t >U96639.2:5349-6893 Canis familiaris mitochondrion, cytochrome c oxidase subunit I\n",
            "This is line number 2 :\t ATGTTCATTAACCGATGACTGTTCTCCACTAATCACAAGGATATTGGTACTTTATACTTACTATTTGGAG\n",
            "This is line number 3 :\t CATGAGCCGGTATAGTAGGCACTGCTTTGAGCCTCCTCATCCGAGCCGAACTAGGTCAGCCCGGTACTTT\n",
            "This is line number 4 :\t ACTAGGTGACGATCAAATTTATAATGTCATCGTAACCGCCCATGCTTTCGTAATAATCTTCTTCATAGTC\n",
            "This is line number 5 :\t ATGCCCATCATAATTGGGGGCTTTGGAAACTGACTAGTGCCGTTAATAATTGGTGCTCCGGACATGGCAT\n",
            "This is line number 6 :\t TCCCCCGAATAAATAACATGAGCTTCTGACTCCTTCCTCCATCCTTTCTTCTACTATTAGCATCTTCTAT\n",
            "This is line number 7 :\t GGTAGAAGCAGGTGCAGGAACGGGATGAACCGTATACCCCCCACTGGCTGGCAATCTGGCCCATGCAGGA\n",
            "This is line number 8 :\t GCATCCGTTGACCTTACAATTTTCTCCTTACACTTAGCCGGAGTCTCTTCTATTTTAGGGGCAATTAATT\n",
            "This is line number 9 :\t TCATCACTACTATTATCAACATAAAACCCCCTGCAATATCCCAGTATCAAACTCCCCTGTTTGTATGATC\n",
            "This is line number 10 :\t AGTACTAATTACAGCAGTTCTACTCTTACTATCCCTGCCTGTACTGGCTGCTGGAATTACAATACTTTTA\n",
            "This is line number 11 :\t ACAGACCGGAATCTTAATACAACATTTTTTGATCCCGCTGGAGGAGGAGACCCTATCCTATATCAACACC\n",
            "This is line number 12 :\t TATTCTGATTCTTCGGACATCCTGAAGTTTACATTCTTATCCTGCCCGGATTCGGAATAATTTCTCACAT\n"
          ]
        }
      ],
      "source": [
        "count = 1\n",
        "\n",
        "with open('/content/CanisLupisCO1.fasta') as dogDNA:\n",
        "  for line in dogDNA.readlines():\n",
        "    print(\"This is line number\", count, \":\\t\", line.strip())\n",
        "    count +=1"
      ]
    },
    {
      "cell_type": "markdown",
      "metadata": {
        "id": "eiH5jnkZbv5U"
      },
      "source": [
        "Somthing a bit more complex now. Another useful python method is .startswith() to check if something.... starts with a character! Here we can use ```not``` so that it skips the first line because it begins with a ```>``` character.\n",
        "\n",
        "Also lets put the data from the file into a list so that we can refer to it later and do more testing"
      ]
    },
    {
      "cell_type": "code",
      "execution_count": 2,
      "metadata": {
        "colab": {
          "base_uri": "https://localhost:8080/"
        },
        "id": "RLG2ldwbbSH1",
        "outputId": "5d0fe4f6-0797-4c65-91f5-e1314100efdf"
      },
      "outputs": [
        {
          "output_type": "stream",
          "name": "stdout",
          "text": [
            "ATGTTCATTAACCGATGACTGTTCTCCACTAATCACAAGGATATTGGTACTTTATACTTACTATTTGGAG\n",
            "TCCCCCGAATAAATAACATGAGCTTCTGACTCCTTCCTCCATCCTTTCTTCTACTATTAGCATCTTCTAT\n",
            "GCATCCGTTGACCTTACAATTTTCTCCTTACACTTAGCCGGAGTCTCTTCTATTTTAGGGGCAATTAATT\n",
            "TATTCTGATTCTTCGGACATCCTGAAGTTTACATTCTTATCCTGCCCGGATTCGGAATAATTTCTCACAT\n"
          ]
        }
      ],
      "source": [
        "my_lines = []\n",
        "\n",
        "with open('/content/CanisLupisCO1.fasta') as dogDNA:\n",
        "  for line in dogDNA.readlines():\n",
        "    if not line.startswith('>'):\n",
        "      my_lines.append(line.strip())\n",
        "\n",
        "for line in my_lines:\n",
        "  if line.count('T') > 25:\n",
        "    print(line)"
      ]
    },
    {
      "cell_type": "markdown",
      "metadata": {
        "id": "yL-uWFY7ZDMR"
      },
      "source": [
        "There is also the similarly named ```.readline()``` (notice it's singular, not plural). That will read just one line from the file at a time. This is powerful for extracting header or title lines without reading the whole file with a loop."
      ]
    },
    {
      "cell_type": "code",
      "execution_count": 4,
      "metadata": {
        "colab": {
          "base_uri": "https://localhost:8080/"
        },
        "id": "NH2cw6zeZVqZ",
        "outputId": "710345a4-78d2-4cb5-d012-f2ac0579cc77"
      },
      "outputs": [
        {
          "output_type": "stream",
          "name": "stdout",
          "text": [
            ">U96639.2:5349-6893 Canis familiaris mitochondrion, cytochrome c oxidase subunit I\n",
            "\n"
          ]
        }
      ],
      "source": [
        "with open('/content/CanisLupisCO1.fasta') as dogDNA:\n",
        "  header = dogDNA.readline()\n",
        "  print(header)"
      ]
    },
    {
      "cell_type": "markdown",
      "metadata": {
        "id": "khTul_LuLAw1"
      },
      "source": [
        "\n",
        "\n",
        "## Writing to a Text File\n",
        "\n",
        "We can of course also write data to a file in Python. Usually this will be more useful than just putting information onto the screen when working with big bioinformatic files.\n",
        "\n",
        "To write to a file, we need to open the file in write mode using the `open()` function and use the `write()` method to choose what to output.\n",
        "\n",
        "Note: The only change in the ```open()``` function is the second parameter of 'w'. We didn't need a second parameter when reading as 'r' is the default.\n"
      ]
    },
    {
      "cell_type": "code",
      "execution_count": 7,
      "metadata": {
        "id": "Kipb30gME0Pm"
      },
      "outputs": [],
      "source": [
        "# Open the file in write mode\n",
        "with open('declaration.txt', 'w') as output_file:\n",
        "  output_file.write('Hello, world! Python <3 Bioinformatics!')"
      ]
    },
    {
      "cell_type": "markdown",
      "metadata": {
        "id": "Q8k6UGNFrdA4"
      },
      "source": [
        "Check the file that you just created!"
      ]
    },
    {
      "cell_type": "markdown",
      "metadata": {
        "id": "9fhInTrKLDEI"
      },
      "source": [
        "\n",
        "## Appending to a Text File\n",
        "\n",
        "We can also append data to a file instead of destroying and creating a new file each time using the `open()` function in ***append*** mode and the `write()` method. Here is an example:"
      ]
    },
    {
      "cell_type": "code",
      "execution_count": null,
      "metadata": {
        "id": "JdHXC4A1K7TZ"
      },
      "outputs": [],
      "source": [
        "# Open the file in append mode\n",
        "with open('declaration.txt', 'a') as outputFile:\n",
        "  # Append to the file\n",
        "  outputFile.write('\\nand again.')\n",
        "  outputFile.write('\\nand again..')\n",
        "  outputFile.write('\\nand again...')\n"
      ]
    },
    {
      "cell_type": "markdown",
      "metadata": {
        "id": "AH0He18CLUrA"
      },
      "source": [
        "## In closing...\n",
        "In Python, it is important to close a file after reading from or writing to it. In the olden days of a few years ago we would use the `close()` method in python, but now it is recommended to use the ```with``` manager for more simple and readable code. I'm mostly including this here in case you see or use older code that uses the previous format.\n",
        "\n",
        "Basically, because you're interacting with files outside of python it needs to be told when you're finished, for a few reasons:\n",
        "\n",
        "1. Memory management: When a file is opened in Python, the operating system allocates memory to store the data read/written from/to a file. If the file is not closed properly, the memory used by the file remains allocated which can cause performance issues or crash the program.\n",
        "\n",
        "2. Data corruption: If a file is not closed properly, any data that has not been written to the file may be lost (think of a USB unplugged too soon). This can result in corrupted or incomplete data, which can cause issues when the data is later read or used.\n",
        "\n",
        "3. Resource management: When a file is opened, it is locked by the operating system to prevent other processes from modifying it. If a file is not closed properly, it remains locked, preventing other processes from accessing or modifying the file. This can cause issues if the file is needed by another program or process.\n",
        "\n",
        "To summarise, always close the file! But if you're using ```with```, then it's automatic."
      ]
    },
    {
      "cell_type": "markdown",
      "metadata": {
        "id": "uRKorAgxMr2I"
      },
      "source": [
        "## Exercises\n",
        "\n",
        "1. Read in the ```am181037.embl``` file and put all lines into a list\n",
        "2. Modify your code to only keep lines that do not begin with empty whitespace or the ```FT``` tag, and have them put into the list\n",
        "3. Write a new file with just the gene descriptions in (The lines that begin with ```KW```).\n",
        "\n",
        "Extension: Include the number of genes in the filename - Can this be done automatically?"
      ]
    },
    {
      "cell_type": "code",
      "execution_count": 18,
      "metadata": {
        "id": "N4rDYuMJMWPA",
        "outputId": "e9361a5b-229c-4947-b348-32ea496dfba9",
        "colab": {
          "base_uri": "https://localhost:8080/",
          "height": 300
        }
      },
      "outputs": [
        {
          "output_type": "stream",
          "name": "stdout",
          "text": [
            "<class 'list'>\n",
            "['ID   AM181037; SV 1; circular; genomic DNA; STD; MAM; 16813 BP.\\n', 'XX\\n', 'AC   AM181037;\\n', 'XX\\n', 'DT   26-SEP-2006 (Rel. 89, Created)\\n', 'DT   21-AUG-2007 (Rel. 92, Last updated, Version 3)\\n', 'XX\\n', 'DE   Vulpes vulpes complete mitochondrial genome\\n', 'XX\\n', 'KW   12S ribosomal RNA; 12S rRNA gene; 16S ribosomal RNA; 16S rRNA gene;\\n', 'KW   ATPase 6 gene; ATPase 8 gene; ATPase subunit 6; ATPase subunit 8; COI gene;\\n', 'KW   COII gene; COIII gene; complete genome; control region; cytb gene;\\n', 'KW   cytochrome b; cytochrome oxidase subunit I; cytochrome oxidase subunit II;\\n', 'KW   cytochrome oxidase subunit III; NADH dehydrogenase subunit 1;\\n', 'KW   NADH dehydrogenase subunit 2; NADH dehydrogenase subunit 3;\\n', 'KW   NADH dehydrogenase subunit 4; NADH dehydrogenase subunit 4L;\\n', 'KW   NADH dehydrogenase subunit 5; NADH dehydrogenase subunit 6; NADH1 gene;\\n', 'KW   NADH2 gene; NADH3 gene; NADH4 gene; NADH4L gene; NADH5 gene; NADH6 gene;\\n', 'KW   transfer RNA-Ala; transfer RNA-Arg; transfer RNA-Asn; transfer RNA-Asp;\\n', 'KW   transfer RNA-Cys; transfer RNA-Gln; transfer RNA-Glu; transfer RNA-Gly;\\n', 'KW   transfer RNA-His; transfer RNA-Ile; transfer RNA-Leu(CUN);\\n', 'KW   transfer RNA-Leu(UUR); transfer RNA-Lys; transfer RNA-Met;\\n', 'KW   transfer RNA-Phe; transfer RNA-Pro; transfer RNA-Ser(AGY);\\n', 'KW   transfer RNA-Ser(UCN); transfer RNA-Thr; transfer RNA-Trp;\\n', 'KW   transfer RNA-Tyr; transfer RNA-Val; tRNA-Ala gene; tRNA-Arg gene;\\n', 'KW   tRNA-Asn gene; tRNA-Asp gene; tRNA-Cys gene; tRNA-Gln gene; tRNA-Glu gene;\\n', 'KW   tRNA-Gly gene; tRNA-His gene; tRNA-Ile gene; tRNA-Leu(CUN) gene;\\n', 'KW   tRNA-Leu(UUR) gene; tRNA-Lys gene; tRNA-Met gene; tRNA-Phe gene;\\n', 'KW   tRNA-Pro gene; tRNA-Ser(AGY) gene; tRNA-Ser(UCN) gene; tRNA-Thr gene;\\n', 'KW   tRNA-Trp gene; tRNA-Tyr gene; tRNA-Val gene.\\n', 'XX\\n', 'OS   Vulpes vulpes (red fox)\\n', 'OC   Eukaryota; Metazoa; Chordata; Craniata; Vertebrata; Euteleostomi; Mammalia;\\n', 'OC   Eutheria; Laurasiatheria; Carnivora; Caniformia; Canidae; Vulpes.\\n', 'OG   Mitochondrion\\n', 'XX\\n', 'RN   [1]\\n', 'RP   1-16813\\n', 'RA   Arnason U.;\\n', 'RT   ;\\n', 'RL   Submitted (04-JAN-2006) to the INSDC.\\n', 'RL   Arnason U., Cell and Organism Biology, Evolutionary Molecular Systematics,\\n', 'RL   Solvegatan 29, S-22362 Lund, SWEDEN.\\n', 'XX\\n', 'RN   [2]\\n', 'RX   DOI; 10.1016/j.ympev.2006.05.022.\\n', 'RX   PUBMED; 16815048.\\n', 'RA   Arnason U., Gullberg A., Janke A., Kullberg M., Lehman N., Petrov E.A.,\\n', 'RA   Vainola R.;\\n', 'RT   \"Pinniped phylogeny and a new hypothesis for their origin and dispersal\";\\n', 'RL   Mol. Phylogenet. Evol. 41(2):345-354(2006).\\n', 'XX\\n', 'DR   MD5; d144ebb62c74d216a7b64ffb815300ff.\\n', 'DR   EuropePMC; PMC2892506; 20525407.\\n', 'DR   EuropePMC; PMC3689046; 23738594.\\n', 'DR   RFAM; RF00005; tRNA.\\n', 'XX\\n', 'FH   Key             Location/Qualifiers\\n', 'FH\\n', 'FT   source          1..16813\\n', 'FT                   /organism=\"Vulpes vulpes\"\\n', 'FT                   /organelle=\"mitochondrion\"\\n', 'FT                   /mol_type=\"genomic DNA\"\\n', 'FT                   /country=\"Sweden\"\\n', 'FT                   /db_xref=\"taxon:9627\"\\n', 'FT   tRNA            1..69\\n', 'FT                   /gene=\"tRNA-Phe\"\\n', 'FT                   /product=\"transfer RNA-Phe\"\\n', 'FT   rRNA            70..1026\\n', 'FT                   /gene=\"12S rRNA\"\\n', 'FT                   /product=\"12S ribosomal RNA\"\\n', 'FT   tRNA            1027..1093\\n', 'FT                   /gene=\"tRNA-Val\"\\n', 'FT                   /product=\"transfer RNA-Val\"\\n', 'FT   rRNA            1094..2671\\n', 'FT                   /gene=\"16S rRNA\"\\n', 'FT                   /product=\"16S ribosomal RNA\"\\n', 'FT   tRNA            2672..2746\\n', 'FT                   /gene=\"tRNA-Leu(UUR)\"\\n', 'FT                   /product=\"transfer RNA-Leu(UUR)\"\\n', 'FT   CDS             2749..3705\\n', 'FT                   /transl_table=2\\n', 'FT                   /gene=\"NADH1\"\\n', 'FT                   /product=\"NADH dehydrogenase subunit 1\"\\n', 'FT                   /db_xref=\"GOA:Q08GV4\"\\n', 'FT                   /db_xref=\"InterPro:IPR001694\"\\n', 'FT                   /db_xref=\"InterPro:IPR018086\"\\n', 'FT                   /db_xref=\"UniProtKB/TrEMBL:Q08GV4\"\\n', 'FT                   /protein_id=\"CAJ57144.1\"\\n', 'FT                   /translation=\"MFFINILSLIVPILLAVAFLTLVERKVLGYMQLRKGPNIVGPYGL\\n', 'FT                   LQPIADAVKLFTKEPLRPLTSSMSMFILAPILALSLALTMWIPLPMPYPLINMNLGVLF\\n', 'FT                   MLAMSSLAVYSILWSGWASNSKYALIGALRAVAQTISYEVTLAIILLSILLMNGSFTLS\\n', 'FT                   TLIITQEHMWLIFPAWPLAMMWFISTLAETNRAPFDLTEGESELVSGFNVEYAAGPFAL\\n', 'FT                   FFLAEYANIIMMNILTTILFFGAFHNPFLPELYSINFTIKTLLLTISFLWIRASYPRFR\\n', 'FT                   YDQLMHLLWKNFLPLTLALCMWHVALPIITASIPPQT\"\\n', 'FT   tRNA            3705..3773\\n', 'FT                   /gene=\"tRNA-Ile\"\\n', 'FT                   /product=\"transfer RNA-Ile\"\\n', 'FT   tRNA            complement(3771..3844)\\n', 'FT                   /gene=\"tRNA-Gln\"\\n', 'FT                   /product=\"transfer RNA-Gln\"\\n', 'FT   tRNA            3846..3915\\n', 'FT                   /gene=\"tRNA-Met\"\\n', 'FT                   /product=\"transfer RNA-Met\"\\n', 'FT   CDS             3916..4959\\n', 'FT                   /transl_table=2\\n', 'FT                   /gene=\"NADH2\"\\n', 'FT                   /product=\"NADH dehydrogenase subunit 2\"\\n', 'FT                   /db_xref=\"GOA:Q08GV3\"\\n', 'FT                   /db_xref=\"InterPro:IPR001750\"\\n', 'FT                   /db_xref=\"InterPro:IPR003917\"\\n', 'FT                   /db_xref=\"InterPro:IPR010933\"\\n', 'FT                   /db_xref=\"UniProtKB/TrEMBL:Q08GV3\"\\n', 'FT                   /protein_id=\"CAJ57145.1\"\\n', 'FT                   /translation=\"MKPPILIAILATVMTGTMIVMLSSHWLLIWIGFEMNMLAIIPILM\\n', 'FT                   KKFNPRAMEASTKYFLTQATASMLLMMGVTINLLYSGQWMISKVSNPAASTMMTIALTM\\n', 'FT                   KLGLSPFHFWVPEVTQGISLSSGMILLTWQKIAPMSVLYQISPSINTDLMTLVALASVL\\n', 'FT                   IGGWGGLNQTQLRKIMAYSSIAHMGWMAAIITYNPTMMFLNLSLYILMTLSTFMLFMLS\\n', 'FT                   ASTTTLSLSHTWNKIPLIASTILTLMLSLGGLPPLSGFIPKWMIIQELTKNDMIVVPTL\\n', 'FT                   MAITALLNLYFYMRLTYSTALTMFPSANNMKMKWQFEHTKKMTLLPPLIIISTMLLPIM\\n', 'FT                   PMMSILD\"\\n', 'FT   tRNA            4958..5025\\n', 'FT                   /gene=\"tRNA-Trp\"\\n', 'FT                   /product=\"transfer RNA-Trp\"\\n', 'FT   tRNA            complement(5038..5106)\\n', 'FT                   /gene=\"tRNA-Ala\"\\n', 'FT                   /product=\"transfer RNA-Ala\"\\n', 'FT   tRNA            complement(5108..5178)\\n', 'FT                   /gene=\"tRNA-Asn\"\\n', 'FT                   /product=\"transfer RNA-Asn\"\\n', 'FT   rep_origin      5180..5215\\n', 'FT                   /direction=RIGHT\\n', 'FT                   /note=\"Origin of L strand replication\"\\n', 'FT   tRNA            complement(5212..5280)\\n', 'FT                   /gene=\"tRNA-Cys\"\\n', 'FT                   /product=\"transfer RNA-Cys\"\\n', 'FT   tRNA            complement(5281..5348)\\n', 'FT                   /gene=\"tRNA-Tyr\"\\n', 'FT                   /product=\"transfer RNA-Tyr\"\\n', 'FT   CDS             5350..6894\\n', 'FT                   /transl_table=2\\n', 'FT                   /gene=\"COI\"\\n', 'FT                   /product=\"cytochrome oxidase subunit I\"\\n', 'FT                   /db_xref=\"GOA:Q08GV2\"\\n', 'FT                   /db_xref=\"InterPro:IPR000883\"\\n', 'FT                   /db_xref=\"InterPro:IPR023615\"\\n', 'FT                   /db_xref=\"InterPro:IPR023616\"\\n', 'FT                   /db_xref=\"UniProtKB/TrEMBL:Q08GV2\"\\n', 'FT                   /protein_id=\"CAJ57146.1\"\\n', 'FT                   /translation=\"MFINRWLFSTNHKDIGTLYLLFGAWAGMVGTALSLLIRAELGQPG\\n', 'FT                   TLLGDDQIYNVIVTAHAFVMIFFMVMPIMIGGFGNWLVPLMIGAPDMAFPRMNNMSFWL\\n', 'FT                   LPPSFLLLLASSMVEAGAGTGWTVYPPLAGNLAHAGASVDLTIFSLHLAGVSSILGAIN\\n', 'FT                   FITTIINMKPPAMSQYQTPLFVWSVLITAVLLLLSLPVLAAGITMLLTDRNLNTTFFDP\\n', 'FT                   AGGGDPILYQHLFWFFGHPEVYILILPGFGMISHIVTYYSGKKEPFGYMGMVWAMMSIG\\n', 'FT                   FLGFIVWAHHMFTVGMDVDTRAYFTSATMIIAIPTGVKVFSWLATLHGGNIKWSPAMLW\\n', 'FT                   ALGFIFLFTVGGLTGIVLANSSLDIVLHDTYYVVAHFHYVLSMGAVFAIMGGFAHWFPL\\n', 'FT                   FSGYTLNDTWAKIHFTIMFVGVNMTFFPQHFLGLSGMPRRYSDYPDAYTTWNTVSSMGS\\n', 'FT                   FISLTAVMLMIFMIWEAFASKREVAMVELTTTNIEWLHGCPPPYHTFEEPTYVIQK\"\\n', 'FT   tRNA            complement(6892..6960)\\n', 'FT                   /gene=\"tRNA-Ser(UCN)\"\\n', 'FT                   /product=\"transfer RNA-Ser(UCN)\"\\n', 'FT   tRNA            6967..7034\\n', 'FT                   /gene=\"tRNA-Asp\"\\n', 'FT                   /product=\"transfer RNA-Asp\"\\n', 'FT   CDS             7035..7718\\n', 'FT                   /transl_table=2\\n', 'FT                   /gene=\"COII\"\\n', 'FT                   /note=\"translation exception (stop codon is completed by\\n', 'FT                   the addition of 3\\' residues to the mRNA)\"\\n', 'FT                   /db_xref=\"GOA:Q539C4\"\\n', 'FT                   /db_xref=\"InterPro:IPR001505\"\\n', 'FT                   /db_xref=\"InterPro:IPR002429\"\\n', 'FT                   /db_xref=\"InterPro:IPR008972\"\\n', 'FT                   /db_xref=\"InterPro:IPR011759\"\\n', 'FT                   /db_xref=\"InterPro:IPR014222\"\\n', 'FT                   /db_xref=\"UniProtKB/TrEMBL:Q539C4\"\\n', 'FT                   /protein_id=\"CAJ57147.1\"\\n', 'FT                   /translation=\"MAYPFQLGLQDATSPIMEELLHFHDHTLMIVFLISSLVLYIITLM\\n', 'FT                   LTTKLTHTSTMDAQEVETVWTILPAIILILIALPSLRILYMMDEINNPSLTVKTMGHQW\\n', 'FT                   YWSYEYTDYEDLNFDSYMIPTQELKPGELRLLEVDNRVVLPMEMTVRMLISSEDVLHSW\\n', 'FT                   AVPSLGLKTDAIPGRLNQTTLMAMRPGLYYGQCSEICGSNHSFMPIVLEMVPLSYFETW\\n', 'FT                   SAVMV\"\\n', 'FT   tRNA            7736..7802\\n', 'FT                   /gene=\"tRNA-Lys\"\\n', 'FT                   /product=\"transfer RNA-Lys\"\\n', 'FT   CDS             7804..8007\\n', 'FT                   /transl_table=2\\n', 'FT                   /gene=\"ATPase 8\"\\n', 'FT                   /product=\"ATPase subunit 8\"\\n', 'FT                   /db_xref=\"GOA:Q08GV0\"\\n', 'FT                   /db_xref=\"InterPro:IPR001421\"\\n', 'FT                   /db_xref=\"UniProtKB/TrEMBL:Q08GV0\"\\n', 'FT                   /protein_id=\"CAJ57148.1\"\\n', 'FT                   /translation=\"MPQLDTSTWLVMILSMILTLFILFQLKVSKHYYPESPGPKSIKSI\\n', 'FT                   SKHTPWENKWTKIYSPLSLPLQ\"\\n', 'FT   CDS             7965..8645\\n', 'FT                   /transl_table=2\\n', 'FT                   /gene=\"ATPase 6\"\\n', 'FT                   /product=\"ATPase subunit 6\"\\n', 'FT                   /db_xref=\"GOA:Q08GU9\"\\n', 'FT                   /db_xref=\"InterPro:IPR000568\"\\n', 'FT                   /db_xref=\"InterPro:IPR023011\"\\n', 'FT                   /db_xref=\"UniProtKB/TrEMBL:Q08GU9\"\\n', 'FT                   /protein_id=\"CAJ57149.1\"\\n', 'FT                   /translation=\"MNENLFASFATPTMMGLPIAVLIVMFPSILFPSPNRLINNRLISI\\n', 'FT                   QQWLIQLTSKQMLTIHNQKGRTWALMLMSLILFIGSTNLLGLLPHSFTPTTQLSMNLGM\\n', 'FT                   AIPLWAGTVITGFRHKTKASLAHFLPQGTPLPLIPMLVIIETISLFIQPMALAVRLTAN\\n', 'FT                   ITAGHLLIHLIGGATLALINISATTALITFMILVLLTILEFAVALIQAYVFTLLVSLYL\\n', 'FT                   HDNT\"\\n', 'FT   CDS             8645..>9427\\n', 'FT                   /transl_table=2\\n', 'FT                   /gene=\"COIII\"\\n', 'FT                   /product=\"cytochrome oxidase subunit III\"\\n', 'FT                   /note=\"translation exception (stop codon is completed by\\n', 'FT                   the addition of 3\\' residues to the mRNA)\"\\n', 'FT                   /db_xref=\"GOA:Q08GU8\"\\n', 'FT                   /db_xref=\"InterPro:IPR000298\"\\n', 'FT                   /db_xref=\"InterPro:IPR013833\"\\n', 'FT                   /db_xref=\"InterPro:IPR024791\"\\n', 'FT                   /db_xref=\"UniProtKB/TrEMBL:Q08GU8\"\\n', 'FT                   /protein_id=\"CAJ57150.1\"\\n', 'FT                   /translation=\"MTHQTHAYHMVNPSPWPLTGALSALLMTSGLIMWFHYNSMSLLTL\\n', 'FT                   GLTTNMLTMYQWWRDVVREGTFQGHHTPTVQKGLRYGMILFIVSEVFFFAGFFWAFYHS\\n', 'FT                   SLAPTPELGGCWPPTGIIPLNPLEVPLLNTSVLLASGVSITWAHHSLMEGNRKHMLQAL\\n', 'FT                   FITISLGVYFTLLQASEYYETSFTISDGVYGSTFFMATGFHGLHVIIGSTFLIVCFMRQ\\n', 'FT                   LHYHFTSNHHFGFEAAAWYWHFVDVVWLFLYVSIYWWGS\"\\n', 'FT   tRNA            9429..9496\\n', 'FT                   /gene=\"tRNA-Gly\"\\n', 'FT                   /product=\"transfer RNA-Gly\"\\n', 'FT   CDS             9497..>9843\\n', 'FT                   /transl_table=2\\n', 'FT                   /gene=\"NADH3\"\\n', 'FT                   /product=\"NADH dehydrogenase subunit 3\"\\n', 'FT                   /note=\"translation exception (stop codon is completed by\\n', 'FT                   the addition of 3\\' residues to the mRNA)\"\\n', 'FT                   /db_xref=\"GOA:Q08GU7\"\\n', 'FT                   /db_xref=\"InterPro:IPR000440\"\\n', 'FT                   /db_xref=\"UniProtKB/TrEMBL:Q08GU7\"\\n', 'FT                   /protein_id=\"CAJ57151.1\"\\n', 'FT                   /translation=\"MNMMLTLMTNITLASLLVMIAFWLPQLNIYADKTSPYECGFDPMG\\n', 'FT                   SARLPFSMKFFLVAITFLLFDLEIALLLPLPWASQTNKLTTMLIMALLLISLLAASLAY\\n', 'FT                   EWTEKGLEWTE\"\\n', 'FT   tRNA            9844..9912\\n', 'FT                   /gene=\"tRNA-Arg\"\\n', 'FT                   /product=\"transfer RNA-Arg\"\\n', 'FT   CDS             9913..10209\\n', 'FT                   /transl_table=2\\n', 'FT                   /gene=\"NADH4L\"\\n', 'FT                   /product=\"NADH dehydrogenase subunit 4L\"\\n', 'FT                   /db_xref=\"GOA:Q08GU6\"\\n', 'FT                   /db_xref=\"InterPro:IPR001133\"\\n', 'FT                   /db_xref=\"UniProtKB/Swiss-Prot:Q08GU6\"\\n', 'FT                   /protein_id=\"CAJ57152.1\"\\n', 'FT                   /translation=\"MSMVYINIFLAFILSLMGMLVYRSHLMSSLLCLEGMMLSLFVMMS\\n', 'FT                   VTILNNHLTLASMMPIVLLVFAACEAALGLSLLVMVSNTYGTDHVQNLNLLQC\"\\n', 'FT   CDS             10203..>11580\\n', 'FT                   /transl_table=2\\n', 'FT                   /gene=\"NADH4\"\\n', 'FT                   /product=\"NADH dehydrogenase subunit 4\"\\n', 'FT                   /note=\"translation exception (stop codon is completed by\\n', 'FT                   the addition of 3\\' residues to the mRNA)\"\\n', 'FT                   /db_xref=\"GOA:Q08GU5\"\\n', 'FT                   /db_xref=\"InterPro:IPR000260\"\\n', 'FT                   /db_xref=\"InterPro:IPR001750\"\\n', 'FT                   /db_xref=\"InterPro:IPR003918\"\\n', 'FT                   /db_xref=\"InterPro:IPR010227\"\\n', 'FT                   /db_xref=\"UniProtKB/TrEMBL:Q08GU5\"\\n', 'FT                   /protein_id=\"CAJ57153.1\"\\n', 'FT                   /translation=\"MLKIIIPTAMLIPLTWTSKPNMIWINSTMYSLLISLISLSYLNQP\\n', 'FT                   NDNTLNSSLLFFSDSLSAPLLALTTWLLPLMLMASQSHLSKEPLIRKKLYISMLILLQL\\n', 'FT                   FLIMTFTATELILFYILFEATLIPTLIIITRWGNQTERLNAGLYFLFYNLTGSLPLLVA\\n', 'FT                   LLYIQNSMGSLNFLMIQYWIQPLPSSWSNIFLWLACMMAFMVKMPLYGLHLWLPKAHVE\\n', 'FT                   APIAGSMVLAAVLLKLGGYGMMRITTLLNPLTDLMVYPFMLLSLWGMIMTSSICLRQTD\\n', 'FT                   LKSLIAYSSVSHMALVIVAVLIQTPWSYMGATALMIAHGLTSSMLFCLANSNYERTHSR\\n', 'FT                   TMILARGLQTLLPLMAAWWLLASLANLALPPTINLIGELFVVMASFSWSNITIILMGMN\\n', 'FT                   IIITALYTLYMLITTQRGKHTHHIKNIKPSFTRENALMTLHLLPLLLLSIDPKVVLGPI\\n', 'FT                   Y\"\\n', 'FT   tRNA            11581..11650\\n', 'FT                   /gene=\"tRNA-His\"\\n', 'FT                   /product=\"transfer RNA-His\"\\n', 'FT   tRNA            11651..11709\\n', 'FT                   /gene=\"tRNA-Ser(AGY)\"\\n', 'FT                   /product=\"transfer RNA-Ser(AGY)\"\\n', 'FT   tRNA            11710..11779\\n', 'FT                   /gene=\"tRNA-Leu(CUN)\"\\n', 'FT                   /product=\"transfer RNA-Leu(CUN)\"\\n', 'FT   CDS             11780..13600\\n', 'FT                   /transl_table=2\\n', 'FT                   /gene=\"NADH5\"\\n', 'FT                   /product=\"NADH dehydrogenase subunit 5\"\\n', 'FT                   /db_xref=\"GOA:Q08GU4\"\\n', 'FT                   /db_xref=\"InterPro:IPR001516\"\\n', 'FT                   /db_xref=\"InterPro:IPR001750\"\\n', 'FT                   /db_xref=\"InterPro:IPR003945\"\\n', 'FT                   /db_xref=\"InterPro:IPR010934\"\\n', 'FT                   /db_xref=\"UniProtKB/TrEMBL:Q08GU4\"\\n', 'FT                   /protein_id=\"CAJ57154.1\"\\n', 'FT                   /translation=\"MNMFASCMITALILLTLPIIMTSTKLYKDKLYPYYVKTATSHAFM\\n', 'FT                   ISMIPAMMFIYSGQEMVVSNWHWMTIQTMKLSMSFKLDYFSMIFVPVALFVTWSIMEFS\\n', 'FT                   MWYMHSDPYINRFFKYLLMFLITMMILVTANNMFQLFIGWEGVGIMSFLLIGWWYGRTD\\n', 'FT                   ANTAALQAILYNRIGDVGFIMAMAWFLLHLNAWDLQQIFMSANDNLNLPLFGLLLAATG\\n', 'FT                   KSAQFGLHPWLPSAMEGPTPVSALLHSSTMVVAGVFLLIRFHPLMEQNPTIQTLTLCLG\\n', 'FT                   AITTLFTAICALTQNDIKKIVAFSTSSQLGLMIVTIGINQPYLAFLHICTHAFFKAMLF\\n', 'FT                   MCSGSIIHSLNDEQDIRKMGGLFKALPFTTTSLIIGSLALTGMPFLTGFYSKDLIIETA\\n', 'FT                   NTSNTNAWALLITLVATSMTAAYSTRILFFALLGQPRFTPIISINENNPYLINSIKRLL\\n', 'FT                   LGSVFAGYVISHSITPTTIPQMTMPHHLKMAALAVTILGFILALELNLTMQGLKFNHSS\\n', 'FT                   HYFKFSNLLGYYPTIMHRLAPKTSLSMSQKSASMLLDHIWLESVLPKSIAFFQMKSSTL\\n', 'FT                   VSNQKGLIKLYFFSFMITMALSLSILNYHV\"\\n', 'FT   CDS             complement(13584..14111)\\n', 'FT                   /transl_table=2\\n', 'FT                   /gene=\"NADH6\"\\n', 'FT                   /product=\"NADH dehydrogenase subunit 6\"\\n', 'FT                   /db_xref=\"GOA:Q08GU3\"\\n', 'FT                   /db_xref=\"InterPro:IPR001457\"\\n', 'FT                   /db_xref=\"UniProtKB/TrEMBL:Q08GU3\"\\n', 'FT                   /protein_id=\"CAJ57155.1\"\\n', 'FT                   /translation=\"MMTYIVFILSIVFVMSFVGFVTKPSPIYGGLVLIISGGIGCAIVL\\n', 'FT                   NFGGSFLGLMVFLIYLGGMLVVFGYTTAMATEQYPEVWVSNKAVLAAFITGLLSELLTA\\n', 'FT                   CYILKDDEVEVVLKFNGMGDWVIYDTGDSGFFSEEAMGIAALYSYGTWLVIVTGWSLLT\\n', 'FT                   GVLVIMEVTRGN\"\\n', 'FT   tRNA            complement(14112..14180)\\n', 'FT                   /gene=\"tRNA-Glu\"\\n', 'FT                   /product=\"transfer RNA-Glu\"\\n', 'FT   CDS             14185..15324\\n', 'FT                   /transl_table=2\\n', 'FT                   /gene=\"cytb\"\\n', 'FT                   /product=\"cytochrome b\"\\n', 'FT                   /db_xref=\"GOA:Q19QU7\"\\n', 'FT                   /db_xref=\"InterPro:IPR005797\"\\n', 'FT                   /db_xref=\"InterPro:IPR005798\"\\n', 'FT                   /db_xref=\"InterPro:IPR016174\"\\n', 'FT                   /db_xref=\"InterPro:IPR027387\"\\n', 'FT                   /db_xref=\"InterPro:IPR030689\"\\n', 'FT                   /db_xref=\"UniProtKB/TrEMBL:Q19QU7\"\\n', 'FT                   /protein_id=\"CAJ57156.1\"\\n', 'FT                   /translation=\"MTNIRKTHPLAKIVNDSFIDLPAPSNISAWWNFGSLLGVCLILQI\\n', 'FT                   ATGLFLAMHYTSDTATAFSSVTHICRDVNYGWIIRYMHANGASMFFICLFMHVGRGLYY\\n', 'FT                   GSYVFMETWNIGIILLFATMATAFMGYVLPWGQMSFWGATVITNLLSAIPYIGTDLVEW\\n', 'FT                   IWGGFSVDKATLTRFFAFHFILPFIIAALAMVHLLFLHETGSNNPSGITSDSDKIPFHP\\n', 'FT                   YYTIKDILGVLLLLSVLMSLVLFSPDLLGDPDNYTPANPLSTPPHIKPEWYFLFAYAIL\\n', 'FT                   RSIPNKLGGVLALVFSILILALIPHLHTSKQRGMMFRPLSQCLFWLLTADLLTLTWIGG\\n', 'FT                   QPVEHPFIIIGQIASILYFAILLILMPTISIIENNLLKW\"\\n', 'FT   tRNA            15325..15394\\n', 'FT                   /gene=\"tRNA-Thr\"\\n', 'FT                   /product=\"transfer RNA-Thr\"\\n', 'FT   tRNA            complement(15394..15459)\\n', 'FT                   /gene=\"tRNA-Pro\"\\n', 'FT                   /product=\"transfer RNA-Pro\"\\n', 'FT   D-loop          15460..16813\\n', 'XX\\n', 'SQ   Sequence 16813 BP; 5257 A; 4378 C; 2502 G; 4676 T; 0 other;\\n', '     gttaatgtag cttaattagt aaagcaaggc actgaaaatg ccaagatgag tcataagact        60\\n', '     ccataaacac aaaggtttgg tcctggcctt cctattagtc cttagtaaac ttacacatgc       120\\n', '     aagcctccac gccccagtga gaatgccctt aaaatcgcta acgatctaaa ggagcaggta       180\\n', '     tcaagcacac tcctaagtag ctcataacac cttgctaagc cacgccccca cgggatacag       240\\n', '     cagtgataaa aattaagcca tgaacgaaag ttcgactaag ttatactaaa gagggttggt       300\\n', '     aaatttcgtg ccagccaccg cggtcatacg attaacccga actaataggc ccacggcgta       360\\n', '     aagcgtgttt aagataacat attactaaag ttaaaactta actaagccgt aaaaagctac       420\\n', '     agttaccata aaatatacta cgaaagtgac tttaaaattt tctgattaca cgatagctaa       480\\n', '     gacccaaact gggattagat accccactat gcttagccct aaacataaat agttctataa       540\\n', '     caaaacaatt cgccagagaa ctactagcaa cagcttaaaa ctcaaaggac ttggcggtgc       600\\n', '     tttatatccc tctagaggag cctgttctat aatcgataaa ccccgataaa cctcaccatc       660\\n', '     ccttgctaat acagtctata taccgccatc ttcagcaaac ccttaaaagg tagagcagta       720\\n', '     agcaggatca tcacgcataa aaaagttagg tcaaggtgta acttatggga tgggaagaaa       780\\n', '     tgggctacat tttctatttt aagaacactt tacgaaagtt tttatgaaac tagaaactga       840\\n', '     aggaggattt agtagtaaat taagaataga gagcttaatt gaatagggcc atgaagcacg       900\\n', '     cacacaccgc ccgtcaccct cctcaagtaa taagactgag gccataaaca tattaactca       960\\n', '     catcaaaaca cgagaggaga taagtcgtaa caaggtaagc ataccggaag gtgtgcttgg      1020\\n', '     attaaccaaa gtgtagctta ataaaagcat ctggcttaca cccagaagat ttcatgatta      1080\\n', '     atgaccactt tgaacgaaag ctagcccaat cgactttaaa ttaaactatc acagagttac      1140\\n', '     aaaacaaaac atttagtcaa accattaaag tataggagat agaaattcta attggagcta      1200\\n', '     tagagatagt accgcaaggg aatgatgaaa gacattttca aagtacaaaa cagcaaagat      1260\\n', '     tacaccttgt accttttgca taatgagcta gctagaaata acttaacaaa gagaacttaa      1320\\n', '     gctaagtacc ccgaaaccag acgagctacc tatgaacaat ctaaaaggat caactcgtct      1380\\n', '     atgtggcaaa atagtgagaa gatttatagg tagaggtgaa aagccaaacg agcctggtga      1440\\n', '     tagctggtta cccacaaaca gaattttagt tcaactttaa atttacctaa aaaaaacgaa      1500\\n', '     atttcaatgt aaatttaaaa tataatctaa aaaggtacag ctttttagag caaggacaca      1560\\n', '     acctttatta gagagtaaat attaacataa ccatagttgg cctaaaagca gccatcaatt      1620\\n', '     gagaaagcgt tcaagctcaa caaacaatgc aacttaatcc caaccatatt gcatcaactc      1680\\n', '     ctaattcacc tcctgggtta ttctatttaa gtatagaagc aataatgcta gtatgagtaa      1740\\n', '     caagaattat ttctccccgc ataagcttat atcagaaacg gatagaccac tgatagttaa      1800\\n', '     caacctgata aaaccaaccc aaaaataaaa cacttatcta ccccattgtt aacccaacac      1860\\n', '     aggtatgcac tcaaggaaag attaaaagaa gtaaaaggaa ctcggcaaac ataaaccccg      1920\\n', '     cctgtttacc aaaaacatca cctccagcat taccagtatt ggaggcactg cctgcccagt      1980\\n', '     gacatccgtt aaacggccgc ggtatcctga ccgtgcaaag gtagcataat catttgttct      2040\\n', '     ctaaataggg acttgtatga atggccacac gagggtttaa ctgtctctta cttccaatca      2100\\n', '     gtgaaattga ccttcccgtg aagaggcggg aatactataa taagacgaga agaccctatg      2160\\n', '     gagctttaat taattagccc aaacttatga actttaaacc ccactgggaa taacatacta      2220\\n', '     ccattgttat gggctgacaa tttaggttgg ggtgacctcg gaatataaaa aaactcccga      2280\\n', '     gtgattaaaa tttagaccta ccagtcaaaa tgtaccatca cttattgatc caataatctt      2340\\n', '     tgatcaacga aacaagttac cctagggata acagcgcaat cctatttaag agtccatatc      2400\\n', '     gacaataggg tttacgacct cgatgttgga tcaggacatc ctaatggtgc agcagctatt      2460\\n', '     aagggttcgt ttgttcaacg attaaagtcc tacgtgatct gagttcagac cggagtaatc      2520\\n', '     caggtcggtt tctatctatt aaacagtttc tcccagtacg aaaggacaag agaaacaagg      2580\\n', '     cctaccttac agaggcgcct tagaactaat agatgaagtt aagctcaatc taaccagttt      2640\\n', '     atccctctaa aagcccaaga aaaggggctt tgttagggtg gcagagcccg gcaattgcgt      2700\\n', '     aagacttaaa cctttatccc cagaggttca attcctctcc ctaacaacat gttctttatc      2760\\n', '     aacattctct cccttatcgt cccaatcctt ctcgccgtag ctttcctcac tctcgttgaa      2820\\n', '     cggaaagtcc taggctatat acaacttcga aaaggaccca atattgtagg tccctatggt      2880\\n', '     ctcctccaac caatcgccga tgctgtaaaa ctctttacaa aagaacccct acgtcccctt      2940\\n', '     acatcgtcta tatcaatatt tattctagca cccattctgg ccctatcatt agctctaacc      3000\\n', '     atatgaatcc cactccccat gccctaccca ctcattaata taaatctagg ggtgctattt      3060\\n', '     atattagcca tgtcaagcct cgccgtatac tccatcctct gatcaggatg ggcctcgaac      3120\\n', '     tccaagtacg ccctaatcgg agcccttcga gccgtagctc aaacaatctc atacgaagtc      3180\\n', '     acactagcga tcatcctcct ttctattttg ctaataaacg gatcattcac actatccaca      3240\\n', '     ctcattatta cccaagaaca tatatgacta attttccctg cctgacctct agccatgata      3300\\n', '     tgatttatct ctaccctagc agaaacaaac cgggccccct ttgacttaac tgagggggaa      3360\\n', '     tcagaactgg tctcagggtt taacgtggag tatgcagccg gacccttcgc cctattcttc      3420\\n', '     ctagcagagt atgcaaatat tatcataata aatatcctca caacaatttt attcttcggc      3480\\n', '     gcattccaca atccattctt accagagctc tactccatca acttcaccat taagaccctt      3540\\n', '     ctactaacca tctcttttct atgaattcga gcatcctacc ctcggttccg ctatgaccaa      3600\\n', '     ttaatacacc tcctatgaaa aaacttccta ccactaactt tggccctgtg catatgacac      3660\\n', '     gtcgccctac ctattatcac tgcaagcatt ccacctcaaa cataagaaat atgtctgaca      3720\\n', '     aaagagttac tttgatagag taaatcatag aggtttaaac cctcttattt ctagaataat      3780\\n', '     aggcctcgaa cctaatccta agaattcaaa gatcttcgtg ctaccaaatt tacaccatat      3840\\n', '     tctacagtaa ggtcagctaa attaagctat cgggcccata ccccgaaaat gttggtttat      3900\\n', '     atccttcccg tactaataaa acctcctatc ctcattgcca ttctagcaac cgtcataact      3960\\n', '     ggaactataa tcgtaatact aagctcccac tggttactaa tctgaatcgg attcgaaatg      4020\\n', '     aatatgttag ccatcattcc tattctaata aaaaaattca atccacgagc catagaggca      4080\\n', '     tccacaaagt atttcctcac acaagcaaca gcctcgatat tactaataat aggagtcact      4140\\n', '     atcaaccttc tctactccgg tcagtgaata atctcaaaag tctcgaatcc tgcagcatca      4200\\n', '     actataataa ctattgccct aacaataaaa ctgggtctat ccccatttca cttctgagtc      4260\\n', '     cctgaagtaa cccaaggcat ttcactctca tcaggtatga tcctactgac atgacaaaaa      4320\\n', '     attgcaccaa tatccgttct ctaccagatc tcaccatcaa tcaatactga ccttataaca      4380\\n', '     ctagtggccc tcgcgtctgt cctaatcgga ggatgaggcg gacttaatca gactcaacta      4440\\n', '     cgaaaaatca tagcatattc ctccatcgca catataggct gaatagcggc aatcattact      4500\\n', '     tacaacccca caataatatt tctaaacctg tccctataca ttctaataac cctatcaaca      4560\\n', '     tttatactat tcatactgag cgcatctacc acaaccctat ctctctcaca cacatgaaac      4620\\n', '     aaaatccccc taattgcttc caccatccta actctaatac tatccctggg agggcttcca      4680\\n', '     ccactgtccg gctttattcc taaatgaata attattcaag aactaacaaa aaatgatata      4740\\n', '     attgttgtcc caacacttat agccatcact gcactactca acctatactt ctacatacga      4800\\n', '     ctcacataca gtaccgcact cactatattc ccatccgcaa acaacataaa aataaaatga      4860\\n', '     caatttgaac acacaaaaaa gataaccttg ctaccccctc tgattattat ctcaaccata      4920\\n', '     ctactcccca tcatacccat aatatcaatt ctggactagg ggtttaggtt aaacgagacc      4980\\n', '     aagagccttc aaagctctaa gcaagtgctg cacacttaac ccctgaccaa aacgctttaa      5040\\n', '     ggactgcagg aatttatcct acatcaattg aatgcaaatc aaacacttta attaagctaa      5100\\n', '     gtccttacta gattggtggg cttctacccc acgaagtttt agttaacagc taaataccct      5160\\n', '     ataactggct tcaatctagc ttctcccgcc gtgtaggaaa aaaaggcggg agaagccccg      5220\\n', '     gcggcgtcta agctgcttct ttgaatttgc aattcaatat gaataattca ccacaaggct      5280\\n', '     tggtaaaaag aggacttaca cccctatctt tagatttaca gtctaacgct tttatcagcc      5340\\n', '     attttaccta tgttcattaa tcgatgatta ttctctacta accacaaaga catcggtact      5400\\n', '     ttatatttgc tattcggagc atgagccggt atagtaggca ctgccctaag cctcctaatt      5460\\n', '     cgagccgaat taggtcaacc cggcacctta ttaggggacg atcagattta taacgtaatc      5520\\n', '     gtaaccgcac atgccttcgt aataatcttc ttcatggtca taccaattat aattggggga      5580\\n', '     tttgggaact gattagttcc cctgataatt ggtgccccag acatagcatt tcctcggata      5640\\n', '     aataacataa gcttctgact acttccccca tcctttcttc tactattagc atcttccata      5700\\n', '     gtagaagcgg gtgcgggaac tgggtgaacc gtatatcccc cattagctgg taacctggct      5760\\n', '     catgctggag catcagtgga ccttacaatt ttctccctgc acctggccgg agtctcttca      5820\\n', '     attttaggag ctattaattt catcactact attatcaata taaaacctcc cgccatatcc      5880\\n', '     caataccaaa cccccctatt tgtgtgatca gtcctaatta cagctgttct attactacta      5940\\n', '     tcactaccag tactggctgc tggaattact atgcttctga cagaccgtaa ccttaacacg      6000\\n', '     acattttttg atcctgctgg aggaggggac cctattttat accaacactt gttttgattc      6060\\n', '     ttcggacacc ctgaagtcta cattttaatc ttgcctgggt ttggtataat ctcccacatc      6120\\n', '     gttacttatt attcaggaaa gaaagagccc ttcggttaca tgggaatggt atgagcaata      6180\\n', '     atgtctatcg gattcttagg ctttatcgta tgagctcacc acatattcac tgtaggaata      6240\\n', '     gatgtggata cacgagcata cttcacgtct gctactataa ttatcgctat tcctacaggg      6300\\n', '     gttaaagtat tcagttgatt agcaacactc catgggggca atattaaatg atctccagct      6360\\n', '     atactatgag ctctaggttt tattttccta ttcacagtag gtggcctaac gggcatcgtt      6420\\n', '     ttagccaact catccttaga tatcgttctt catgacacgt actacgtcgt agctcacttc      6480\\n', '     cactacgttc tctcaatagg agcagtattt gctattatag gcggatttgc ccactgattc      6540\\n', '     cccctattct caggctacac tctaaatgac acctgagcaa aaatccactt tacaattata      6600\\n', '     tttgtagggg tgaacataac tttcttccct caacacttcc tagggctatc gggtatgccc      6660\\n', '     cgtcgatatt ctgactaccc agatgcatac accacttgaa ataccgtctc atctataggc      6720\\n', '     tcattcatct cacttacagc agtaatactt ataatcttca taatctggga agccttcgct      6780\\n', '     tctaaacggg aggtcgcaat agtagaactc actacaacta acattgaatg attacacgga      6840\\n', '     tgtcctcctc cgtaccacac atttgaagag cctacgtatg tcatccaaaa ataagaaagg      6900\\n', '     aaggaatcga accccctaaa actggtttca agccagtgcc ataaccacta tgtctttctc      6960\\n', '     aattaggagg tattagtaaa acattacatg actttgtcaa agtcaagtca taggtgaaac      7020\\n', '     ccctatatat ctctatggcg tacccttttc aactcggatt acaggacgcg acctccccta      7080\\n', '     ttatagagga gctacttcat tttcatgatc ataccctaat aatcgtattc ttaatcagct      7140\\n', '     cattagttct ttacattatt actttaatac taactaccaa gctaacccac acaagtacaa      7200\\n', '     tagacgcgca agaggtagaa acagtctgaa ccattctacc agccattatc ctaatcctga      7260\\n', '     ttgctcttcc ttctctacga attctctaca taatggatga aattaataac ccatcactaa      7320\\n', '     ccgtaaaaac aataggccat caatgatatt gaagctacga gtacactgac tatgaagatc      7380\\n', '     tgaactttga ctcctacatg attcctacac aagaattaaa accaggagaa ctccgactat      7440\\n', '     tagaagtcga caaccgagtc gttctcccaa tggaaataac tgtccgaata cttatttctt      7500\\n', '     cagaagacgt attgcactca tgagccgttc catcactagg cttaaaaact gatgccatcc      7560\\n', '     caggacgatt aaatcaaact accctaatag cgatacgacc agggctatac tacggccaat      7620\\n', '     gctctgaaat ttgcggatcc aaccacagct ttataccaat tgttcttgaa atagtcccac      7680\\n', '     tgtcctactt cgaaacctga tctgctgtaa tggtttaaca tagacaagac ttactcattg      7740\\n', '     agaagctata aagcgttaac cttttaagtt aaagactgag agttataacc tctccttaat      7800\\n', '     gaaatgccac agctagacac atcaacttga ttagttataa ttctttcaat aattctaact      7860\\n', '     ctgtttatct tattccaact aaaagtatca aaacactact atccagagag cccaggacct      7920\\n', '     aaatctatca agtctattag caaacacacc ccttgagaaa acaaatgaac gaaaatttat      7980\\n', '     tcgcctcttt cgctacccct acaataatgg gcctcccaat cgctgtatta atcgtaatat      8040\\n', '     tcccatctat tctattccca tcacctaatc gactaattaa caatcgatta atttctatcc      8100\\n', '     aacagtgatt aattcaactt acatccaaac agatactaac aattcacaac caaaaaggac      8160\\n', '     gaacctgagc ccttatgctg atatcactga ttttatttat tggctcgact aatctcctcg      8220\\n', '     gattgctacc ccactcattc acacccacaa cccaattgtc tataaaccta ggaatagcaa      8280\\n', '     ttcccctgtg agcagggaca gtaattaccg ggttccgcca caaaactaag gcctctctag      8340\\n', '     cacacttcct gccccaagga acacccctcc ccctaattcc catgctagta atcatcgaga      8400\\n', '     caattagtct attcatccaa cctatggcct tagctgtccg attaacagcc aacattaccg      8460\\n', '     caggacacct attaattcac ctaattggag gggccactct agccctaatc aacatcagtg      8520\\n', '     ctaccacagc ccttattact tttataattc tagttttact taccattctc gaattcgccg      8580\\n', '     tcgctcttat tcaggcctac gtctttacac tactagtaag tctatactta catgacaata      8640\\n', '     cctaatgacc caccaaaccc atgcttacca tatagtcaat ccgagcccat gaccactaac      8700\\n', '     aggagcccta tctgccctac ttataacatc gggtctcatc atatgatttc actacaactc      8760\\n', '     aatatcttta ctcactctag gacttacaac taacatacta actatgtatc aatgatgacg      8820\\n', '     agacgtagtt cgagaaggca cgtttcaagg acaccatacc cccactgtgc aaaaagggct      8880\\n', '     acgatatgga ataatcctat ttatcgtctc agaagttttc tttttcgctg gcttcttttg      8940\\n', '     agccttctac cactccagcc tagctccaac ccccgaactc gggggttgct ggccacccac      9000\\n', '     tggcatcatt cctctgaatc cgcttgaagt ccctctactc aacacctctg tcctgctagc      9060\\n', '     ctcaggggtc tcaatcacct gagcccacca cagcctaata gaaggcaatc gcaagcacat      9120\\n', '     acttcaagcc ctatttatta ctatctccct aggcgtatat ttcacactac tacaagcctc      9180\\n', '     tgaatattat gagacatcct tcacaatctc cgacggagtc tatgggtcca cattctttat      9240\\n', '     ggctaccgga ttccacggac tgcatgtaat tatcggctcc acattcctta ttgtctgctt      9300\\n', '     tatgcgacaa ctgcactacc acttcacatc taatcaccac tttggatttg aagctgctgc      9360\\n', '     atggtactga cacttcgtcg atgtagtatg actattccta tatgtttcca tctattgatg      9420\\n', '     aggatcttac ttctttagta taattagtac aattgacttc caatcagtta gcttcagaca      9480\\n', '     gatctgaaaa gaagtaatta acataatact tactctgata accaatatta ccctggcttc      9540\\n', '     cctactcgta ataatcgcat tttgacttcc tcaactaaat atttatgccg acaaaaccag      9600\\n', '     tccttacgaa tgtggctttg accccatagg atcggcacgt ttaccatttt ctataaaatt      9660\\n', '     tttcctggtt gcaattacat tcctactctt tgacttagaa atcgccctcc tacttccact      9720\\n', '     accctgggca tcacaaacca ataagctaac aactatgctt atcatggcac tccttctaat      9780\\n', '     ctcacttctg gctgcaagcc tagcatatga atgaactgaa aaaggcctag aatgaactga      9840\\n', '     atatgataat tagtttaaac taaaacaaat gatttcgact cattaaatta tgatttaact      9900\\n', '     cataattatc atatgtccat agtatatatt aacatcttcc tggcattcat tctatcatta      9960\\n', '     atgggcatac tcgtctaccg atcccaccta atatcatcac tgctatgcct agaaggcatg     10020\\n', '     atactgtcac tattcgtgat gatatctgtg actatcctga ataatcacct cacattagct     10080\\n', '     agcataatac caattgtact gctagtattc gccgcctgcg aagcagcatt gggattatct     10140\\n', '     ctactagtta tagtatctaa cacttacgga actgatcatg tgcaaaacct aaaccttcta     10200\\n', '     caatgctaaa aattattatt cctaccgcta tacttattcc cctaacatga acatcaaagc     10260\\n', '     ctaacataat ctgaattaac tccacaatat acagcctgct aattagccta attagtttgt     10320\\n', '     cttatctaaa tcaaccgaac gacaacaccc taaactcgtc cttactattc ttctccgact     10380\\n', '     ccctatcagc accactactg gcactcacaa catgacttct accacttata ttgatagcaa     10440\\n', '     gccaatccca tctatcaaaa gagcctctta tccgaaaaaa actatatatc tcaatactaa     10500\\n', '     ttctactcca actattctta attataacct tcaccgccac agaattaatc ctcttctata     10560\\n', '     ttctattcga agctacccta attcccaccc ttattattat cacccggtga ggtaatcaga     10620\\n', '     ccgaacgact aaacgcaggg ctatacttcc tgttttacaa cttgacagga tccctaccac     10680\\n', '     ttctcgtagc acttctgtat attcaaaata gcataggctc tctaaacttc ctcataatcc     10740\\n', '     aatactgaat tcagcctcta ccaagctcct gatctaacat ttttctatgg ttagcatgta     10800\\n', '     tgatggcttt catagtaaaa atacccctat acggcctcca cttgtgacta ccaaaggcac     10860\\n', '     atgtagaggc ccctattgcc ggttctatgg tacttgcagc cgtacttcta aaactaggag     10920\\n', '     gttacggtat aatacgaatc acaaccctac taaaccccct aaccgacctg atagtatacc     10980\\n', '     ccttcatatt actatcacta tggggcataa ttataactag ttctatttgt ttacgtcaaa     11040\\n', '     cggacctaaa atctctaatc gcatactctt ccgttagcca tatagcactt gtcattgtag     11100\\n', '     cggtacttat ccaaacaccg tgaagttaca taggggcaac agctctaata atcgcccatg     11160\\n', '     gtttaacatc atccatacta ttctgcttag ccaactcaaa ctacgaacga acccacagtc     11220\\n', '     gtactataat tctcgcacga ggcctccaaa ccctcctccc cctgatagct gcttgatgac     11280\\n', '     tattagcgag tctcgcaaac ctagcccttc ccccaacaat taacttaatc ggggagctgt     11340\\n', '     tcgtagtaat agcctcattc tcatgatcca atattacaat tatcctgata ggaataaaca     11400\\n', '     tcatcattac cgccctttat accctatata tactaatcac tacacaacgc ggtaaacata     11460\\n', '     cccaccatat taaaaacatc aaaccgtcct ttacacggga gaatgcccta ataaccctcc     11520\\n', '     acttgctgcc cttgcttctc ctatccatcg accccaaagt tgttctgggg cccatctact     11580\\n', '     gcaggcatag tttaacaaaa acatcagatt gtgaatctga taataaaagc tcaaatcttt     11640\\n', '     ttgcctaccg aaaaagtatt gcaagaactg ctaactcatg ctcccatgca taaaagcatg     11700\\n', '     gctttttcaa cttttatagg atagaagtaa tccattggtc ttaggaatca aaaaatcggt     11760\\n', '     gcaactccga ataaaagtaa taaatatatt cgcctcctgc atgatcactg ccttaatctt     11820\\n', '     actcacccta ccaatcatta taacctctac caagctctac aaagacaaat tatatccata     11880\\n', '     ttatgtaaaa acagcaacct cccacgcatt tataattagc ataattcctg caataatgtt     11940\\n', '     catctattct ggacaggaaa tggtagtctc gaactggcac tgaataacga tccaaaccat     12000\\n', '     aaaactgtct ataagcttta aactagatta cttctcaata atttttgtac ccgtggcttt     12060\\n', '     gtttgtcaca tggtccatta tggagttctc tatatgatat atacactcag acccctacat     12120\\n', '     caaccgattt tttaaatatc tccttatatt ccttatcact ataataattc tagtgaccgc     12180\\n', '     aaacaacata tttcaattgt tcatcggctg agaaggagta ggcattatat ctttcctact     12240\\n', '     tattggatga tgatacggtc gaaccgatgc aaatacagcc gccctacaag ccattctcta     12300\\n', '     caaccgaatt ggagatgtcg gattcatcat agctatagca tgattcttac tacacctaaa     12360\\n', '     tgcgtgagac cttcaacaaa tttttatatc agccaacgac aaccttaatc ttcccctatt     12420\\n', '     tggtctttta ctagcagcca ccggcaaatc tgcccaattc ggactacacc catgactccc     12480\\n', '     ctcagctatg gaaggtccaa ctcccgtatc agccctactc cactccagta ctatagttgt     12540\\n', '     cgcaggagta tttctactaa ttcgtttcca ccccctaata gaacaaaatc caactatcca     12600\\n', '     aaccctcact ctatgtctag gggccatcac tacactgttt actgcaatct gcgctcttac     12660\\n', '     acaaaatgat attaaaaaaa ttgttgcatt ctctacctca agccaactag gacttataat     12720\\n', '     cgtaacaatt ggcattaacc aaccttactt ggcctttctg cacatctgca cccacgcatt     12780\\n', '     ctttaaagcc atattattca tgtgctccgg gtcaattatc catagtttaa atgatgagca     12840\\n', '     agacattcga aaaataggcg gactatttaa agccctcccc tttaccacga cctcccttat     12900\\n', '     tattggaagc ctcgcactga caggcatacc attcctcaca ggcttctatt ccaaagacct     12960\\n', '     gattatcgag accgccaaca cgtcgaatac caacgcctga gccctcttaa ttaccctcgt     13020\\n', '     tgccacatct ataactgccg cctacagcac tcgaattcta ttcttcgcac tattaggcca     13080\\n', '     gccccgcttt acccccatta tttccatcaa cgagaataat ccttacctaa ttaactctat     13140\\n', '     taaacgccta cttctcggga gtgtgttcgc agggtatgtt atctcccaca gtattactcc     13200\\n', '     cactaccatc ccacaaatga ctatgcctca tcatctgaaa atagctgccc tcgcagtaac     13260\\n', '     catcttgggt ttcatcctgg cattagaact aaaccttaca atgcaagggc tcaaattcaa     13320\\n', '     ccactcatct cactatttca agttttcaaa cctccttggc tattacccca ccatcataca     13380\\n', '     ccgtctggca cccaaaacaa gcctatccat aagtcaaaaa tcagcatcca tactcctaga     13440\\n', '     tcatatctga ctagaaagtg ttctaccaaa atcaatcgca ttcttccaaa taaaatcctc     13500\\n', '     caccctagtt tcaaatcaaa aaggcctcat taagctctat ttcttctcat tcataatcac     13560\\n', '     catggccctc agcctctcaa ttcttaatta ccacgtgtaa cctccataat aactaacaca     13620\\n', '     ccagttaata atgaccaacc agtaacaatt accagtcaag taccatagct gtataacgct     13680\\n', '     gcaataccca tagcctcttc actaaaaaat ccagaatcac ctgtatcata aataacccag     13740\\n', '     tctcccatac cattaaactt tagtaccacc tccacctcat catcctttaa gatatagcag     13800\\n', '     gcggtcaata actcagacag caggccagtg ataaaagccg ccaatacagc tttattagac     13860\\n', '     acccaaactt cagggtattg ctctgtagct atagcagttg tataaccaaa aactaccaat     13920\\n', '     atacccccta agtaaattaa gaacaccatt aaccccaaga aagatcctcc aaaattcaat     13980\\n', '     acaatagcac aaccaatccc accactaata atcaacacca acccaccata aataggagag     14040\\n', '     ggcttcgtaa caaatcccac aaagctcatc acaaaaacaa tacttagaat aaatacaatg     14100\\n', '     tatgttatca ttattcccac atggaattta accatgacta atgacatgaa aaatcatcgt     14160\\n', '     tgtatttcaa ctataagaac attaatgacc aacattcgaa agactcaccc actagctaaa     14220\\n', '     atcgtaaacg actcattcat cgaccttccc gcaccatcaa atatttctgc ctgatggaac     14280\\n', '     ttcgggtccc tgctaggtgt atgccttatt ctacagattg caacaggtct atttttagcc     14340\\n', '     atacactata catctgacac agctactgct ttctcatctg tcactcacat ctgccgagac     14400\\n', '     gttaactatg gctgaattat ccgctacata catgcaaacg gagcatctat attttttatc     14460\\n', '     tgcctcttca tgcacgtggg acgaggctta tattatggat cttatgtatt catagaaaca     14520\\n', '     tgaaatattg gaattatctt attgttcgca accatggcca cagcatttat gggctacgtt     14580\\n', '     ttaccgtgag gacaaatatc attctgaggg gcaaccgtaa ttacaaatct tctatctgct     14640\\n', '     attccctata tcggaaccga tctagtagaa tgaatttgag ggggcttctc agtagacaaa     14700\\n', '     gcaaccctaa cacgattctt tgcattccac tttatccttc cattcatcat cgcagcatta     14760\\n', '     gcgatggttc atctcttatt tctccacgaa acaggatcca acaatccttc aggaatcaca     14820\\n', '     tccgactcag acaaaattcc gtttcacccc tactacacaa ttaaagacat cctaggagtt     14880\\n', '     ttacttctcc tttcagttct aatatcacta gtcctattct caccagatct tttaggagac     14940\\n', '     ccagacaatt acacccccgc aaaccctctc agcactcccc cacatattaa acccgaatga     15000\\n', '     tactttctat ttgcctatgc cattctccgg tccatcccta acaaactagg aggagtccta     15060\\n', '     gccctagtgt tctcaatcct aatcttagca cttatccccc acctacacac ctcaaaacaa     15120\\n', '     cgtgggataa tattccgacc ccttagtcaa tgcctattct gacttctaac cgcagacctc     15180\\n', '     ctcaccttaa cttgaatcgg agggcagcca gtagaacacc cctttatcat cattggccaa     15240\\n', '     attgcctcca tcctgtattt tgctatctta ttgattctaa tgccaaccat tagcattatc     15300\\n', '     gaaaacaatc tcctaaaatg aagagtcttc gtagtatatt aattacattg gtcttgtaaa     15360\\n', '     ccaaaaatgg agattaataa ttctccccaa gactcaagga agaggcacac gccccaccgt     15420\\n', '     cagcacccaa agctgaaatt ctttttaaac tattccctga cacccgcatt aaccagtgta     15480\\n', '     ttacgactat cccgcgctcc caaaacttgc cctatgtacg tcgtgcatta ctgctatgcc     15540\\n', '     ccatgcatat taagcatgta catatactta tataattaca taagacatac tatgtttaat     15600\\n', '     cttacaataa tctctatcag gagcatacat gactgcacgt cacttagtcc agtaagggat     15660\\n', '     ttatcaccat gcctcgagaa accatcaatc cttgctcgaa gtatccctct tctcgctccg     15720\\n', '     ggcccatatc aacgtggggg tttctatcat ggaactatac ctggcatctg gttcttacct     15780\\n', '     cagggccatt ctacttgttc actccaatcc tactaatcct ctcaaatggg acatctcgat     15840\\n', '     ggactaatga ctaatcagcc catgatcaca cataactgtg gtgtcatgca tttggtatct     15900\\n', '     ttttttttgg ggggggggaa cttgctatca ctcagctatg accgcaacgg cactaactct     15960\\n', '     aacctacatc tgcactcagg gaatatgccc gtcgcggccc cgacgcagtc agatgatctg     16020\\n', '     tagctggact tattcattat catttatcaa ctccgtgcac aattcaaggt gctattcagt     16080\\n', '     caatggtttc aggacataag gactttacac acgtacacac gtacgtacac acgtacacac     16140\\n', '     gtacgtacac acgtacacac gtacgtacac acgtacacac gtacgtacac acgtacacac     16200\\n', '     gtacgtacac acgtacgtac gtacgtacac acgtacgtac acacgtacac acgtacgtac     16260\\n', '     acacgtacgt acgtacgtac gtacgtacgt acgtacgacg cacgtacgta cgtacgtacg     16320\\n', '     tacgtacgta cgcacgtacg tacgtacgta cgcacgtacg tacgtacgta cgtacgtacg     16380\\n', '     tacgtacgta cgtacgtacg tacgtacgta cgtacgtacg tacacacgta cgtacgtacg     16440\\n', '     tacacacgta cacacgtacg tacacacgta cacacgtaca cacgtacgta cacacgtacg     16500\\n', '     tacacacgta cacacacgta cgtacgtaca cgcaagatat tgagttagct catacaaacc     16560\\n', '     ccccttaccc cccgtaaact catgctactc gctatacacc tatatatgcc ccgccaaacc     16620\\n', '     ccaaaaacag gactaagtat atatggtact cataagcttc atgtaaatat cgcacaaatg     16680\\n', '     tattgctact ccagttaacc taactcagcg gtcttacacc cgccaaatct tgctgtctat     16740\\n', '     ctatagatat catttcctcg atattttatt tttaccgcct ctataattcg cactaataat     16800\\n', '     gccaaaaaca aaa                                                        16813\\n', '//\\n']\n",
            "~~~~~~~~~~~~~~`\n",
            "<class 'list'>\n",
            "['ID   AM181037; SV 1; circular; genomic DNA; STD; MAM; 16813 BP.\\n', 'XX\\n', 'AC   AM181037;\\n', 'XX\\n', 'DT   26-SEP-2006 (Rel. 89, Created)\\n', 'DT   21-AUG-2007 (Rel. 92, Last updated, Version 3)\\n', 'XX\\n', 'DE   Vulpes vulpes complete mitochondrial genome\\n', 'XX\\n', 'KW   12S ribosomal RNA; 12S rRNA gene; 16S ribosomal RNA; 16S rRNA gene;\\n', 'KW   ATPase 6 gene; ATPase 8 gene; ATPase subunit 6; ATPase subunit 8; COI gene;\\n', 'KW   COII gene; COIII gene; complete genome; control region; cytb gene;\\n', 'KW   cytochrome b; cytochrome oxidase subunit I; cytochrome oxidase subunit II;\\n', 'KW   cytochrome oxidase subunit III; NADH dehydrogenase subunit 1;\\n', 'KW   NADH dehydrogenase subunit 2; NADH dehydrogenase subunit 3;\\n', 'KW   NADH dehydrogenase subunit 4; NADH dehydrogenase subunit 4L;\\n', 'KW   NADH dehydrogenase subunit 5; NADH dehydrogenase subunit 6; NADH1 gene;\\n', 'KW   NADH2 gene; NADH3 gene; NADH4 gene; NADH4L gene; NADH5 gene; NADH6 gene;\\n', 'KW   transfer RNA-Ala; transfer RNA-Arg; transfer RNA-Asn; transfer RNA-Asp;\\n', 'KW   transfer RNA-Cys; transfer RNA-Gln; transfer RNA-Glu; transfer RNA-Gly;\\n', 'KW   transfer RNA-His; transfer RNA-Ile; transfer RNA-Leu(CUN);\\n', 'KW   transfer RNA-Leu(UUR); transfer RNA-Lys; transfer RNA-Met;\\n', 'KW   transfer RNA-Phe; transfer RNA-Pro; transfer RNA-Ser(AGY);\\n', 'KW   transfer RNA-Ser(UCN); transfer RNA-Thr; transfer RNA-Trp;\\n', 'KW   transfer RNA-Tyr; transfer RNA-Val; tRNA-Ala gene; tRNA-Arg gene;\\n', 'KW   tRNA-Asn gene; tRNA-Asp gene; tRNA-Cys gene; tRNA-Gln gene; tRNA-Glu gene;\\n', 'KW   tRNA-Gly gene; tRNA-His gene; tRNA-Ile gene; tRNA-Leu(CUN) gene;\\n', 'KW   tRNA-Leu(UUR) gene; tRNA-Lys gene; tRNA-Met gene; tRNA-Phe gene;\\n', 'KW   tRNA-Pro gene; tRNA-Ser(AGY) gene; tRNA-Ser(UCN) gene; tRNA-Thr gene;\\n', 'KW   tRNA-Trp gene; tRNA-Tyr gene; tRNA-Val gene.\\n', 'XX\\n', 'OS   Vulpes vulpes (red fox)\\n', 'OC   Eukaryota; Metazoa; Chordata; Craniata; Vertebrata; Euteleostomi; Mammalia;\\n', 'OC   Eutheria; Laurasiatheria; Carnivora; Caniformia; Canidae; Vulpes.\\n', 'OG   Mitochondrion\\n', 'XX\\n', 'RN   [1]\\n', 'RP   1-16813\\n', 'RA   Arnason U.;\\n', 'RT   ;\\n', 'RL   Submitted (04-JAN-2006) to the INSDC.\\n', 'RL   Arnason U., Cell and Organism Biology, Evolutionary Molecular Systematics,\\n', 'RL   Solvegatan 29, S-22362 Lund, SWEDEN.\\n', 'XX\\n', 'RN   [2]\\n', 'RX   DOI; 10.1016/j.ympev.2006.05.022.\\n', 'RX   PUBMED; 16815048.\\n', 'RA   Arnason U., Gullberg A., Janke A., Kullberg M., Lehman N., Petrov E.A.,\\n', 'RA   Vainola R.;\\n', 'RT   \"Pinniped phylogeny and a new hypothesis for their origin and dispersal\";\\n', 'RL   Mol. Phylogenet. Evol. 41(2):345-354(2006).\\n', 'XX\\n', 'DR   MD5; d144ebb62c74d216a7b64ffb815300ff.\\n', 'DR   EuropePMC; PMC2892506; 20525407.\\n', 'DR   EuropePMC; PMC3689046; 23738594.\\n', 'DR   RFAM; RF00005; tRNA.\\n', 'XX\\n', 'FH   Key             Location/Qualifiers\\n', 'FH\\n', 'XX\\n', 'SQ   Sequence 16813 BP; 5257 A; 4378 C; 2502 G; 4676 T; 0 other;\\n', '//\\n']\n",
            "['KW   12S ribosomal RNA; 12S rRNA gene; 16S ribosomal RNA; 16S rRNA gene;\\n', 'KW   ATPase 6 gene; ATPase 8 gene; ATPase subunit 6; ATPase subunit 8; COI gene;\\n', 'KW   COII gene; COIII gene; complete genome; control region; cytb gene;\\n', 'KW   cytochrome b; cytochrome oxidase subunit I; cytochrome oxidase subunit II;\\n', 'KW   cytochrome oxidase subunit III; NADH dehydrogenase subunit 1;\\n', 'KW   NADH dehydrogenase subunit 2; NADH dehydrogenase subunit 3;\\n', 'KW   NADH dehydrogenase subunit 4; NADH dehydrogenase subunit 4L;\\n', 'KW   NADH dehydrogenase subunit 5; NADH dehydrogenase subunit 6; NADH1 gene;\\n', 'KW   NADH2 gene; NADH3 gene; NADH4 gene; NADH4L gene; NADH5 gene; NADH6 gene;\\n', 'KW   transfer RNA-Ala; transfer RNA-Arg; transfer RNA-Asn; transfer RNA-Asp;\\n', 'KW   transfer RNA-Cys; transfer RNA-Gln; transfer RNA-Glu; transfer RNA-Gly;\\n', 'KW   transfer RNA-His; transfer RNA-Ile; transfer RNA-Leu(CUN);\\n', 'KW   transfer RNA-Leu(UUR); transfer RNA-Lys; transfer RNA-Met;\\n', 'KW   transfer RNA-Phe; transfer RNA-Pro; transfer RNA-Ser(AGY);\\n', 'KW   transfer RNA-Ser(UCN); transfer RNA-Thr; transfer RNA-Trp;\\n', 'KW   transfer RNA-Tyr; transfer RNA-Val; tRNA-Ala gene; tRNA-Arg gene;\\n', 'KW   tRNA-Asn gene; tRNA-Asp gene; tRNA-Cys gene; tRNA-Gln gene; tRNA-Glu gene;\\n', 'KW   tRNA-Gly gene; tRNA-His gene; tRNA-Ile gene; tRNA-Leu(CUN) gene;\\n', 'KW   tRNA-Leu(UUR) gene; tRNA-Lys gene; tRNA-Met gene; tRNA-Phe gene;\\n', 'KW   tRNA-Pro gene; tRNA-Ser(AGY) gene; tRNA-Ser(UCN) gene; tRNA-Thr gene;\\n', 'KW   tRNA-Trp gene; tRNA-Tyr gene; tRNA-Val gene.\\n']\n"
          ]
        },
        {
          "output_type": "error",
          "ename": "TypeError",
          "evalue": "write() argument must be str, not list",
          "traceback": [
            "\u001b[0;31m---------------------------------------------------------------------------\u001b[0m",
            "\u001b[0;31mTypeError\u001b[0m                                 Traceback (most recent call last)",
            "\u001b[0;32m/tmp/ipython-input-1873696426.py\u001b[0m in \u001b[0;36m<cell line: 0>\u001b[0;34m()\u001b[0m\n\u001b[1;32m     27\u001b[0m \u001b[0;34m\u001b[0m\u001b[0m\n\u001b[1;32m     28\u001b[0m \u001b[0;32mwith\u001b[0m \u001b[0mopen\u001b[0m\u001b[0;34m(\u001b[0m\u001b[0;34m'out_test.embl'\u001b[0m\u001b[0;34m,\u001b[0m \u001b[0;34m'w'\u001b[0m\u001b[0;34m)\u001b[0m \u001b[0;32mas\u001b[0m \u001b[0mout\u001b[0m\u001b[0;34m:\u001b[0m\u001b[0;34m\u001b[0m\u001b[0;34m\u001b[0m\u001b[0m\n\u001b[0;32m---> 29\u001b[0;31m    \u001b[0mout\u001b[0m\u001b[0;34m.\u001b[0m\u001b[0mwrite\u001b[0m\u001b[0;34m(\u001b[0m\u001b[0mnew_data\u001b[0m\u001b[0;34m)\u001b[0m\u001b[0;34m\u001b[0m\u001b[0;34m\u001b[0m\u001b[0m\n\u001b[0m",
            "\u001b[0;31mTypeError\u001b[0m: write() argument must be str, not list"
          ]
        }
      ],
      "source": [
        "# Write your script here\n",
        "\n",
        "data=[]\n",
        "with open('am181037.embl') as inp:\n",
        "  for line in inp.readlines():\n",
        "    data.append(line)\n",
        "\n",
        "print(type(data))\n",
        "print(data)\n",
        "\n",
        "\n",
        "print('~~~~~~~~~~~~~~`')\n",
        "data=[]\n",
        "with open('am181037.embl') as inp:\n",
        "  for line in inp.readlines():\n",
        "    if not (line.startswith(' ') or line.startswith('FT')): data.append(line)\n",
        "\n",
        "print(type(data))\n",
        "print(data)\n",
        "\n",
        "new_data = []\n",
        "for line in data:\n",
        " if line.startswith('KW') :\n",
        "    new_data.append(line)\n",
        "\n",
        "print(new_data)\n",
        "\n",
        "with open('out_test.embl', 'w') as out:\n",
        "   out.write(new_data)"
      ]
    }
  ],
  "metadata": {
    "colab": {
      "provenance": []
    },
    "kernelspec": {
      "display_name": "Python 3",
      "name": "python3"
    },
    "language_info": {
      "codemirror_mode": {
        "name": "ipython",
        "version": 3
      },
      "file_extension": ".py",
      "mimetype": "text/x-python",
      "name": "python",
      "nbconvert_exporter": "python",
      "pygments_lexer": "ipython3",
      "version": "3.11.5"
    }
  },
  "nbformat": 4,
  "nbformat_minor": 0
}