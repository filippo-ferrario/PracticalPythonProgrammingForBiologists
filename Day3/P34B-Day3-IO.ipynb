{
  "cells": [
    {
      "cell_type": "markdown",
      "metadata": {
        "id": "QfYvI-_yE10I"
      },
      "source": [
        "# Practical Python Programming for Biologists\n",
        "Author: Dr. Daniel Pass | www.CompassBioinformatics.com\n",
        "\n",
        "---\n",
        "\n",
        "This session we will look at reading to and from files. Often not as important with beginners coding courses, but biological data is pretty typically depending on lots of large files being read in so lets find out how.\n",
        "\n",
        "Note: You will need to add the Classdata files to the colab runtime to access them, or if running on your own computer know the full path to where you have downloaded the files"
      ]
    },
    {
      "cell_type": "markdown",
      "metadata": {
        "id": "fEnty3q6ImKg"
      },
      "source": [
        "# Python I/O Handling\n",
        "\n",
        "In Python, input/output (I/O) handling is the process of reading data from external sources and writing data to external destinations. This is a fundamental aspect of programming especially in bioinformatics given the amount of data files we work with.\n",
        "\n",
        "## Reading a Text File\n",
        "\n",
        "One of the most regular I/O operations in Python is reading data from a file. In Python, we can read a text file using the `open()` function and the `read()` method. This will load the whole file into one variable.\n"
      ]
    },
    {
      "cell_type": "code",
      "execution_count": 1,
      "metadata": {
        "colab": {
          "base_uri": "https://localhost:8080/"
        },
        "id": "Ow-21O4gIl6g",
        "outputId": "32961ffb-8368-4015-ce0c-c9f4a6ca5d51"
      },
      "outputs": [
        {
          "output_type": "stream",
          "name": "stdout",
          "text": [
            ">U96639.2:5349-6893 Canis familiaris mitochondrion, cytochrome c oxidase subunit I\n",
            "ATGTTCATTAACCGATGACTGTTCTCCACTAATCACAAGGATATTGGTACTTTATACTTACTATTTGGAG\n",
            "CATGAGCCGGTATAGTAGGCACTGCTTTGAGCCTCCTCATCCGAGCCGAACTAGGTCAGCCCGGTACTTT\n",
            "ACTAGGTGACGATCAAATTTATAATGTCATCGTAACCGCCCATGCTTTCGTAATAATCTTCTTCATAGTC\n",
            "ATGCCCATCATAATTGGGGGCTTTGGAAACTGACTAGTGCCGTTAATAATTGGTGCTCCGGACATGGCAT\n",
            "TCCCCCGAATAAATAACATGAGCTTCTGACTCCTTCCTCCATCCTTTCTTCTACTATTAGCATCTTCTAT\n",
            "GGTAGAAGCAGGTGCAGGAACGGGATGAACCGTATACCCCCCACTGGCTGGCAATCTGGCCCATGCAGGA\n",
            "GCATCCGTTGACCTTACAATTTTCTCCTTACACTTAGCCGGAGTCTCTTCTATTTTAGGGGCAATTAATT\n",
            "TCATCACTACTATTATCAACATAAAACCCCCTGCAATATCCCAGTATCAAACTCCCCTGTTTGTATGATC\n",
            "AGTACTAATTACAGCAGTTCTACTCTTACTATCCCTGCCTGTACTGGCTGCTGGAATTACAATACTTTTA\n",
            "ACAGACCGGAATCTTAATACAACATTTTTTGATCCCGCTGGAGGAGGAGACCCTATCCTATATCAACACC\n",
            "TATTCTGATTCTTCGGACATCCTGAAGTTTACATTCTTATCCTGCCCGGATTCGGAATAATTTCTCACAT\n"
          ]
        }
      ],
      "source": [
        "# Open the file in read mode\n",
        "with open('/content/CanisLupisCO1.fasta') as  inputFile:\n",
        "  # Read the contents of the file\n",
        "  data = inputFile.read()\n",
        "\n",
        "print(data)"
      ]
    },
    {
      "cell_type": "markdown",
      "metadata": {
        "id": "L4m8DaW-XbYv"
      },
      "source": [
        "An alternative is to read one line at a time as a temporary variable. This means the whole file isn't stored in memory (good for big files) but you don't have all the data available unless you add it to a variable."
      ]
    },
    {
      "cell_type": "code",
      "execution_count": 3,
      "metadata": {
        "colab": {
          "base_uri": "https://localhost:8080/"
        },
        "id": "9y_qiWm6XxIL",
        "outputId": "c3e0fb07-9624-43b7-aa5f-c35085a8e186"
      },
      "outputs": [
        {
          "output_type": "stream",
          "name": "stdout",
          "text": [
            "This is line number 1 :\t >U96639.2:5349-6893 Canis familiaris mitochondrion, cytochrome c oxidase subunit I\n",
            "This is line number 2 :\t ATGTTCATTAACCGATGACTGTTCTCCACTAATCACAAGGATATTGGTACTTTATACTTACTATTTGGAG\n",
            "This is line number 3 :\t CATGAGCCGGTATAGTAGGCACTGCTTTGAGCCTCCTCATCCGAGCCGAACTAGGTCAGCCCGGTACTTT\n",
            "This is line number 4 :\t ACTAGGTGACGATCAAATTTATAATGTCATCGTAACCGCCCATGCTTTCGTAATAATCTTCTTCATAGTC\n",
            "This is line number 5 :\t ATGCCCATCATAATTGGGGGCTTTGGAAACTGACTAGTGCCGTTAATAATTGGTGCTCCGGACATGGCAT\n",
            "This is line number 6 :\t TCCCCCGAATAAATAACATGAGCTTCTGACTCCTTCCTCCATCCTTTCTTCTACTATTAGCATCTTCTAT\n",
            "This is line number 7 :\t GGTAGAAGCAGGTGCAGGAACGGGATGAACCGTATACCCCCCACTGGCTGGCAATCTGGCCCATGCAGGA\n",
            "This is line number 8 :\t GCATCCGTTGACCTTACAATTTTCTCCTTACACTTAGCCGGAGTCTCTTCTATTTTAGGGGCAATTAATT\n",
            "This is line number 9 :\t TCATCACTACTATTATCAACATAAAACCCCCTGCAATATCCCAGTATCAAACTCCCCTGTTTGTATGATC\n",
            "This is line number 10 :\t AGTACTAATTACAGCAGTTCTACTCTTACTATCCCTGCCTGTACTGGCTGCTGGAATTACAATACTTTTA\n",
            "This is line number 11 :\t ACAGACCGGAATCTTAATACAACATTTTTTGATCCCGCTGGAGGAGGAGACCCTATCCTATATCAACACC\n",
            "This is line number 12 :\t TATTCTGATTCTTCGGACATCCTGAAGTTTACATTCTTATCCTGCCCGGATTCGGAATAATTTCTCACAT\n"
          ]
        }
      ],
      "source": [
        "count = 1\n",
        "\n",
        "with open('/content/CanisLupisCO1.fasta') as dogDNA:\n",
        "  for line in dogDNA.readlines():\n",
        "    print(\"This is line number\", count, \":\\t\", line.strip())\n",
        "    count +=1"
      ]
    },
    {
      "cell_type": "markdown",
      "metadata": {
        "id": "eiH5jnkZbv5U"
      },
      "source": [
        "Somthing a bit more complex now. Another useful python method is .startswith() to check if something.... starts with a character! Here we can use ```not``` so that it skips the first line because it begins with a ```>``` character.\n",
        "\n",
        "Also lets put the data from the file into a list so that we can refer to it later and do more testing"
      ]
    },
    {
      "cell_type": "code",
      "execution_count": 2,
      "metadata": {
        "colab": {
          "base_uri": "https://localhost:8080/"
        },
        "id": "RLG2ldwbbSH1",
        "outputId": "5d0fe4f6-0797-4c65-91f5-e1314100efdf"
      },
      "outputs": [
        {
          "output_type": "stream",
          "name": "stdout",
          "text": [
            "ATGTTCATTAACCGATGACTGTTCTCCACTAATCACAAGGATATTGGTACTTTATACTTACTATTTGGAG\n",
            "TCCCCCGAATAAATAACATGAGCTTCTGACTCCTTCCTCCATCCTTTCTTCTACTATTAGCATCTTCTAT\n",
            "GCATCCGTTGACCTTACAATTTTCTCCTTACACTTAGCCGGAGTCTCTTCTATTTTAGGGGCAATTAATT\n",
            "TATTCTGATTCTTCGGACATCCTGAAGTTTACATTCTTATCCTGCCCGGATTCGGAATAATTTCTCACAT\n"
          ]
        }
      ],
      "source": [
        "my_lines = []\n",
        "\n",
        "with open('/content/CanisLupisCO1.fasta') as dogDNA:\n",
        "  for line in dogDNA.readlines():\n",
        "    if not line.startswith('>'):\n",
        "      my_lines.append(line.strip())\n",
        "\n",
        "for line in my_lines:\n",
        "  if line.count('T') > 25:\n",
        "    print(line)"
      ]
    },
    {
      "cell_type": "markdown",
      "metadata": {
        "id": "yL-uWFY7ZDMR"
      },
      "source": [
        "There is also the similarly named ```.readline()``` (notice it's singular, not plural). That will read just one line from the file at a time. This is powerful for extracting header or title lines without reading the whole file with a loop."
      ]
    },
    {
      "cell_type": "code",
      "execution_count": 4,
      "metadata": {
        "colab": {
          "base_uri": "https://localhost:8080/"
        },
        "id": "NH2cw6zeZVqZ",
        "outputId": "710345a4-78d2-4cb5-d012-f2ac0579cc77"
      },
      "outputs": [
        {
          "output_type": "stream",
          "name": "stdout",
          "text": [
            ">U96639.2:5349-6893 Canis familiaris mitochondrion, cytochrome c oxidase subunit I\n",
            "\n"
          ]
        }
      ],
      "source": [
        "with open('/content/CanisLupisCO1.fasta') as dogDNA:\n",
        "  header = dogDNA.readline()\n",
        "  print(header)"
      ]
    },
    {
      "cell_type": "markdown",
      "metadata": {
        "id": "khTul_LuLAw1"
      },
      "source": [
        "\n",
        "\n",
        "## Writing to a Text File\n",
        "\n",
        "We can of course also write data to a file in Python. Usually this will be more useful than just putting information onto the screen when working with big bioinformatic files.\n",
        "\n",
        "To write to a file, we need to open the file in write mode using the `open()` function and use the `write()` method to choose what to output.\n",
        "\n",
        "Note: The only change in the ```open()``` function is the second parameter of 'w'. We didn't need a second parameter when reading as 'r' is the default.\n"
      ]
    },
    {
      "cell_type": "code",
      "execution_count": 7,
      "metadata": {
        "id": "Kipb30gME0Pm"
      },
      "outputs": [],
      "source": [
        "# Open the file in write mode\n",
        "with open('declaration.txt', 'w') as output_file:\n",
        "  output_file.write('Hello, world! Python <3 Bioinformatics!')"
      ]
    },
    {
      "cell_type": "markdown",
      "metadata": {
        "id": "Q8k6UGNFrdA4"
      },
      "source": [
        "Check the file that you just created!"
      ]
    },
    {
      "cell_type": "markdown",
      "metadata": {
        "id": "9fhInTrKLDEI"
      },
      "source": [
        "\n",
        "## Appending to a Text File\n",
        "\n",
        "We can also append data to a file instead of destroying and creating a new file each time using the `open()` function in ***append*** mode and the `write()` method. Here is an example:"
      ]
    },
    {
      "cell_type": "code",
      "execution_count": null,
      "metadata": {
        "id": "JdHXC4A1K7TZ"
      },
      "outputs": [],
      "source": [
        "# Open the file in append mode\n",
        "with open('declaration.txt', 'a') as outputFile:\n",
        "  # Append to the file\n",
        "  outputFile.write('\\nand again.')\n",
        "  outputFile.write('\\nand again..')\n",
        "  outputFile.write('\\nand again...')\n"
      ]
    },
    {
      "cell_type": "markdown",
      "metadata": {
        "id": "AH0He18CLUrA"
      },
      "source": [
        "## In closing...\n",
        "In Python, it is important to close a file after reading from or writing to it. In the olden days of a few years ago we would use the `close()` method in python, but now it is recommended to use the ```with``` manager for more simple and readable code. I'm mostly including this here in case you see or use older code that uses the previous format.\n",
        "\n",
        "Basically, because you're interacting with files outside of python it needs to be told when you're finished, for a few reasons:\n",
        "\n",
        "1. Memory management: When a file is opened in Python, the operating system allocates memory to store the data read/written from/to a file. If the file is not closed properly, the memory used by the file remains allocated which can cause performance issues or crash the program.\n",
        "\n",
        "2. Data corruption: If a file is not closed properly, any data that has not been written to the file may be lost (think of a USB unplugged too soon). This can result in corrupted or incomplete data, which can cause issues when the data is later read or used.\n",
        "\n",
        "3. Resource management: When a file is opened, it is locked by the operating system to prevent other processes from modifying it. If a file is not closed properly, it remains locked, preventing other processes from accessing or modifying the file. This can cause issues if the file is needed by another program or process.\n",
        "\n",
        "To summarise, always close the file! But if you're using ```with```, then it's automatic."
      ]
    },
    {
      "cell_type": "markdown",
      "metadata": {
        "id": "uRKorAgxMr2I"
      },
      "source": [
        "## Exercises\n",
        "\n",
        "1. Read in the ```am181037.embl``` file and put all lines into a list\n",
        "2. Modify your code to only keep lines that do not begin with empty whitespace or the ```FT``` tag, and have them put into the list\n",
        "3. Write a new file with just the gene descriptions in (The lines that begin with ```KW```).\n",
        "\n",
        "Extension: Include the number of genes in the filename - Can this be done automatically?"
      ]
    },
    {
      "cell_type": "code",
      "execution_count": 23,
      "metadata": {
        "id": "N4rDYuMJMWPA",
        "colab": {
          "base_uri": "https://localhost:8080/"
        },
        "outputId": "de53f04c-811d-439a-ed20-f83001b927c1"
      },
      "outputs": [
        {
          "output_type": "stream",
          "name": "stdout",
          "text": [
            "<class 'list'>\n",
            "['ID   AM181037; SV 1; circular; genomic DNA; STD; MAM; 16813 BP.', 'XX', 'AC   AM181037;', 'XX', 'DT   26-SEP-2006 (Rel. 89, Created)', 'DT   21-AUG-2007 (Rel. 92, Last updated, Version 3)', 'XX', 'DE   Vulpes vulpes complete mitochondrial genome', 'XX', 'KW   12S ribosomal RNA; 12S rRNA gene; 16S ribosomal RNA; 16S rRNA gene;', 'KW   ATPase 6 gene; ATPase 8 gene; ATPase subunit 6; ATPase subunit 8; COI gene;', 'KW   COII gene; COIII gene; complete genome; control region; cytb gene;', 'KW   cytochrome b; cytochrome oxidase subunit I; cytochrome oxidase subunit II;', 'KW   cytochrome oxidase subunit III; NADH dehydrogenase subunit 1;', 'KW   NADH dehydrogenase subunit 2; NADH dehydrogenase subunit 3;', 'KW   NADH dehydrogenase subunit 4; NADH dehydrogenase subunit 4L;', 'KW   NADH dehydrogenase subunit 5; NADH dehydrogenase subunit 6; NADH1 gene;', 'KW   NADH2 gene; NADH3 gene; NADH4 gene; NADH4L gene; NADH5 gene; NADH6 gene;', 'KW   transfer RNA-Ala; transfer RNA-Arg; transfer RNA-Asn; transfer RNA-Asp;', 'KW   transfer RNA-Cys; transfer RNA-Gln; transfer RNA-Glu; transfer RNA-Gly;', 'KW   transfer RNA-His; transfer RNA-Ile; transfer RNA-Leu(CUN);', 'KW   transfer RNA-Leu(UUR); transfer RNA-Lys; transfer RNA-Met;', 'KW   transfer RNA-Phe; transfer RNA-Pro; transfer RNA-Ser(AGY);', 'KW   transfer RNA-Ser(UCN); transfer RNA-Thr; transfer RNA-Trp;', 'KW   transfer RNA-Tyr; transfer RNA-Val; tRNA-Ala gene; tRNA-Arg gene;', 'KW   tRNA-Asn gene; tRNA-Asp gene; tRNA-Cys gene; tRNA-Gln gene; tRNA-Glu gene;', 'KW   tRNA-Gly gene; tRNA-His gene; tRNA-Ile gene; tRNA-Leu(CUN) gene;', 'KW   tRNA-Leu(UUR) gene; tRNA-Lys gene; tRNA-Met gene; tRNA-Phe gene;', 'KW   tRNA-Pro gene; tRNA-Ser(AGY) gene; tRNA-Ser(UCN) gene; tRNA-Thr gene;', 'KW   tRNA-Trp gene; tRNA-Tyr gene; tRNA-Val gene.', 'XX', 'OS   Vulpes vulpes (red fox)', 'OC   Eukaryota; Metazoa; Chordata; Craniata; Vertebrata; Euteleostomi; Mammalia;', 'OC   Eutheria; Laurasiatheria; Carnivora; Caniformia; Canidae; Vulpes.', 'OG   Mitochondrion', 'XX', 'RN   [1]', 'RP   1-16813', 'RA   Arnason U.;', 'RT   ;', 'RL   Submitted (04-JAN-2006) to the INSDC.', 'RL   Arnason U., Cell and Organism Biology, Evolutionary Molecular Systematics,', 'RL   Solvegatan 29, S-22362 Lund, SWEDEN.', 'XX', 'RN   [2]', 'RX   DOI; 10.1016/j.ympev.2006.05.022.', 'RX   PUBMED; 16815048.', 'RA   Arnason U., Gullberg A., Janke A., Kullberg M., Lehman N., Petrov E.A.,', 'RA   Vainola R.;', 'RT   \"Pinniped phylogeny and a new hypothesis for their origin and dispersal\";', 'RL   Mol. Phylogenet. Evol. 41(2):345-354(2006).', 'XX', 'DR   MD5; d144ebb62c74d216a7b64ffb815300ff.', 'DR   EuropePMC; PMC2892506; 20525407.', 'DR   EuropePMC; PMC3689046; 23738594.', 'DR   RFAM; RF00005; tRNA.', 'XX', 'FH   Key             Location/Qualifiers', 'FH', 'FT   source          1..16813', 'FT                   /organism=\"Vulpes vulpes\"', 'FT                   /organelle=\"mitochondrion\"', 'FT                   /mol_type=\"genomic DNA\"', 'FT                   /country=\"Sweden\"', 'FT                   /db_xref=\"taxon:9627\"', 'FT   tRNA            1..69', 'FT                   /gene=\"tRNA-Phe\"', 'FT                   /product=\"transfer RNA-Phe\"', 'FT   rRNA            70..1026', 'FT                   /gene=\"12S rRNA\"', 'FT                   /product=\"12S ribosomal RNA\"', 'FT   tRNA            1027..1093', 'FT                   /gene=\"tRNA-Val\"', 'FT                   /product=\"transfer RNA-Val\"', 'FT   rRNA            1094..2671', 'FT                   /gene=\"16S rRNA\"', 'FT                   /product=\"16S ribosomal RNA\"', 'FT   tRNA            2672..2746', 'FT                   /gene=\"tRNA-Leu(UUR)\"', 'FT                   /product=\"transfer RNA-Leu(UUR)\"', 'FT   CDS             2749..3705', 'FT                   /transl_table=2', 'FT                   /gene=\"NADH1\"', 'FT                   /product=\"NADH dehydrogenase subunit 1\"', 'FT                   /db_xref=\"GOA:Q08GV4\"', 'FT                   /db_xref=\"InterPro:IPR001694\"', 'FT                   /db_xref=\"InterPro:IPR018086\"', 'FT                   /db_xref=\"UniProtKB/TrEMBL:Q08GV4\"', 'FT                   /protein_id=\"CAJ57144.1\"', 'FT                   /translation=\"MFFINILSLIVPILLAVAFLTLVERKVLGYMQLRKGPNIVGPYGL', 'FT                   LQPIADAVKLFTKEPLRPLTSSMSMFILAPILALSLALTMWIPLPMPYPLINMNLGVLF', 'FT                   MLAMSSLAVYSILWSGWASNSKYALIGALRAVAQTISYEVTLAIILLSILLMNGSFTLS', 'FT                   TLIITQEHMWLIFPAWPLAMMWFISTLAETNRAPFDLTEGESELVSGFNVEYAAGPFAL', 'FT                   FFLAEYANIIMMNILTTILFFGAFHNPFLPELYSINFTIKTLLLTISFLWIRASYPRFR', 'FT                   YDQLMHLLWKNFLPLTLALCMWHVALPIITASIPPQT\"', 'FT   tRNA            3705..3773', 'FT                   /gene=\"tRNA-Ile\"', 'FT                   /product=\"transfer RNA-Ile\"', 'FT   tRNA            complement(3771..3844)', 'FT                   /gene=\"tRNA-Gln\"', 'FT                   /product=\"transfer RNA-Gln\"', 'FT   tRNA            3846..3915', 'FT                   /gene=\"tRNA-Met\"', 'FT                   /product=\"transfer RNA-Met\"', 'FT   CDS             3916..4959', 'FT                   /transl_table=2', 'FT                   /gene=\"NADH2\"', 'FT                   /product=\"NADH dehydrogenase subunit 2\"', 'FT                   /db_xref=\"GOA:Q08GV3\"', 'FT                   /db_xref=\"InterPro:IPR001750\"', 'FT                   /db_xref=\"InterPro:IPR003917\"', 'FT                   /db_xref=\"InterPro:IPR010933\"', 'FT                   /db_xref=\"UniProtKB/TrEMBL:Q08GV3\"', 'FT                   /protein_id=\"CAJ57145.1\"', 'FT                   /translation=\"MKPPILIAILATVMTGTMIVMLSSHWLLIWIGFEMNMLAIIPILM', 'FT                   KKFNPRAMEASTKYFLTQATASMLLMMGVTINLLYSGQWMISKVSNPAASTMMTIALTM', 'FT                   KLGLSPFHFWVPEVTQGISLSSGMILLTWQKIAPMSVLYQISPSINTDLMTLVALASVL', 'FT                   IGGWGGLNQTQLRKIMAYSSIAHMGWMAAIITYNPTMMFLNLSLYILMTLSTFMLFMLS', 'FT                   ASTTTLSLSHTWNKIPLIASTILTLMLSLGGLPPLSGFIPKWMIIQELTKNDMIVVPTL', 'FT                   MAITALLNLYFYMRLTYSTALTMFPSANNMKMKWQFEHTKKMTLLPPLIIISTMLLPIM', 'FT                   PMMSILD\"', 'FT   tRNA            4958..5025', 'FT                   /gene=\"tRNA-Trp\"', 'FT                   /product=\"transfer RNA-Trp\"', 'FT   tRNA            complement(5038..5106)', 'FT                   /gene=\"tRNA-Ala\"', 'FT                   /product=\"transfer RNA-Ala\"', 'FT   tRNA            complement(5108..5178)', 'FT                   /gene=\"tRNA-Asn\"', 'FT                   /product=\"transfer RNA-Asn\"', 'FT   rep_origin      5180..5215', 'FT                   /direction=RIGHT', 'FT                   /note=\"Origin of L strand replication\"', 'FT   tRNA            complement(5212..5280)', 'FT                   /gene=\"tRNA-Cys\"', 'FT                   /product=\"transfer RNA-Cys\"', 'FT   tRNA            complement(5281..5348)', 'FT                   /gene=\"tRNA-Tyr\"', 'FT                   /product=\"transfer RNA-Tyr\"', 'FT   CDS             5350..6894', 'FT                   /transl_table=2', 'FT                   /gene=\"COI\"', 'FT                   /product=\"cytochrome oxidase subunit I\"', 'FT                   /db_xref=\"GOA:Q08GV2\"', 'FT                   /db_xref=\"InterPro:IPR000883\"', 'FT                   /db_xref=\"InterPro:IPR023615\"', 'FT                   /db_xref=\"InterPro:IPR023616\"', 'FT                   /db_xref=\"UniProtKB/TrEMBL:Q08GV2\"', 'FT                   /protein_id=\"CAJ57146.1\"', 'FT                   /translation=\"MFINRWLFSTNHKDIGTLYLLFGAWAGMVGTALSLLIRAELGQPG', 'FT                   TLLGDDQIYNVIVTAHAFVMIFFMVMPIMIGGFGNWLVPLMIGAPDMAFPRMNNMSFWL', 'FT                   LPPSFLLLLASSMVEAGAGTGWTVYPPLAGNLAHAGASVDLTIFSLHLAGVSSILGAIN', 'FT                   FITTIINMKPPAMSQYQTPLFVWSVLITAVLLLLSLPVLAAGITMLLTDRNLNTTFFDP', 'FT                   AGGGDPILYQHLFWFFGHPEVYILILPGFGMISHIVTYYSGKKEPFGYMGMVWAMMSIG', 'FT                   FLGFIVWAHHMFTVGMDVDTRAYFTSATMIIAIPTGVKVFSWLATLHGGNIKWSPAMLW', 'FT                   ALGFIFLFTVGGLTGIVLANSSLDIVLHDTYYVVAHFHYVLSMGAVFAIMGGFAHWFPL', 'FT                   FSGYTLNDTWAKIHFTIMFVGVNMTFFPQHFLGLSGMPRRYSDYPDAYTTWNTVSSMGS', 'FT                   FISLTAVMLMIFMIWEAFASKREVAMVELTTTNIEWLHGCPPPYHTFEEPTYVIQK\"', 'FT   tRNA            complement(6892..6960)', 'FT                   /gene=\"tRNA-Ser(UCN)\"', 'FT                   /product=\"transfer RNA-Ser(UCN)\"', 'FT   tRNA            6967..7034', 'FT                   /gene=\"tRNA-Asp\"', 'FT                   /product=\"transfer RNA-Asp\"', 'FT   CDS             7035..7718', 'FT                   /transl_table=2', 'FT                   /gene=\"COII\"', 'FT                   /note=\"translation exception (stop codon is completed by', 'FT                   the addition of 3\\' residues to the mRNA)\"', 'FT                   /db_xref=\"GOA:Q539C4\"', 'FT                   /db_xref=\"InterPro:IPR001505\"', 'FT                   /db_xref=\"InterPro:IPR002429\"', 'FT                   /db_xref=\"InterPro:IPR008972\"', 'FT                   /db_xref=\"InterPro:IPR011759\"', 'FT                   /db_xref=\"InterPro:IPR014222\"', 'FT                   /db_xref=\"UniProtKB/TrEMBL:Q539C4\"', 'FT                   /protein_id=\"CAJ57147.1\"', 'FT                   /translation=\"MAYPFQLGLQDATSPIMEELLHFHDHTLMIVFLISSLVLYIITLM', 'FT                   LTTKLTHTSTMDAQEVETVWTILPAIILILIALPSLRILYMMDEINNPSLTVKTMGHQW', 'FT                   YWSYEYTDYEDLNFDSYMIPTQELKPGELRLLEVDNRVVLPMEMTVRMLISSEDVLHSW', 'FT                   AVPSLGLKTDAIPGRLNQTTLMAMRPGLYYGQCSEICGSNHSFMPIVLEMVPLSYFETW', 'FT                   SAVMV\"', 'FT   tRNA            7736..7802', 'FT                   /gene=\"tRNA-Lys\"', 'FT                   /product=\"transfer RNA-Lys\"', 'FT   CDS             7804..8007', 'FT                   /transl_table=2', 'FT                   /gene=\"ATPase 8\"', 'FT                   /product=\"ATPase subunit 8\"', 'FT                   /db_xref=\"GOA:Q08GV0\"', 'FT                   /db_xref=\"InterPro:IPR001421\"', 'FT                   /db_xref=\"UniProtKB/TrEMBL:Q08GV0\"', 'FT                   /protein_id=\"CAJ57148.1\"', 'FT                   /translation=\"MPQLDTSTWLVMILSMILTLFILFQLKVSKHYYPESPGPKSIKSI', 'FT                   SKHTPWENKWTKIYSPLSLPLQ\"', 'FT   CDS             7965..8645', 'FT                   /transl_table=2', 'FT                   /gene=\"ATPase 6\"', 'FT                   /product=\"ATPase subunit 6\"', 'FT                   /db_xref=\"GOA:Q08GU9\"', 'FT                   /db_xref=\"InterPro:IPR000568\"', 'FT                   /db_xref=\"InterPro:IPR023011\"', 'FT                   /db_xref=\"UniProtKB/TrEMBL:Q08GU9\"', 'FT                   /protein_id=\"CAJ57149.1\"', 'FT                   /translation=\"MNENLFASFATPTMMGLPIAVLIVMFPSILFPSPNRLINNRLISI', 'FT                   QQWLIQLTSKQMLTIHNQKGRTWALMLMSLILFIGSTNLLGLLPHSFTPTTQLSMNLGM', 'FT                   AIPLWAGTVITGFRHKTKASLAHFLPQGTPLPLIPMLVIIETISLFIQPMALAVRLTAN', 'FT                   ITAGHLLIHLIGGATLALINISATTALITFMILVLLTILEFAVALIQAYVFTLLVSLYL', 'FT                   HDNT\"', 'FT   CDS             8645..>9427', 'FT                   /transl_table=2', 'FT                   /gene=\"COIII\"', 'FT                   /product=\"cytochrome oxidase subunit III\"', 'FT                   /note=\"translation exception (stop codon is completed by', 'FT                   the addition of 3\\' residues to the mRNA)\"', 'FT                   /db_xref=\"GOA:Q08GU8\"', 'FT                   /db_xref=\"InterPro:IPR000298\"', 'FT                   /db_xref=\"InterPro:IPR013833\"', 'FT                   /db_xref=\"InterPro:IPR024791\"', 'FT                   /db_xref=\"UniProtKB/TrEMBL:Q08GU8\"', 'FT                   /protein_id=\"CAJ57150.1\"', 'FT                   /translation=\"MTHQTHAYHMVNPSPWPLTGALSALLMTSGLIMWFHYNSMSLLTL', 'FT                   GLTTNMLTMYQWWRDVVREGTFQGHHTPTVQKGLRYGMILFIVSEVFFFAGFFWAFYHS', 'FT                   SLAPTPELGGCWPPTGIIPLNPLEVPLLNTSVLLASGVSITWAHHSLMEGNRKHMLQAL', 'FT                   FITISLGVYFTLLQASEYYETSFTISDGVYGSTFFMATGFHGLHVIIGSTFLIVCFMRQ', 'FT                   LHYHFTSNHHFGFEAAAWYWHFVDVVWLFLYVSIYWWGS\"', 'FT   tRNA            9429..9496', 'FT                   /gene=\"tRNA-Gly\"', 'FT                   /product=\"transfer RNA-Gly\"', 'FT   CDS             9497..>9843', 'FT                   /transl_table=2', 'FT                   /gene=\"NADH3\"', 'FT                   /product=\"NADH dehydrogenase subunit 3\"', 'FT                   /note=\"translation exception (stop codon is completed by', 'FT                   the addition of 3\\' residues to the mRNA)\"', 'FT                   /db_xref=\"GOA:Q08GU7\"', 'FT                   /db_xref=\"InterPro:IPR000440\"', 'FT                   /db_xref=\"UniProtKB/TrEMBL:Q08GU7\"', 'FT                   /protein_id=\"CAJ57151.1\"', 'FT                   /translation=\"MNMMLTLMTNITLASLLVMIAFWLPQLNIYADKTSPYECGFDPMG', 'FT                   SARLPFSMKFFLVAITFLLFDLEIALLLPLPWASQTNKLTTMLIMALLLISLLAASLAY', 'FT                   EWTEKGLEWTE\"', 'FT   tRNA            9844..9912', 'FT                   /gene=\"tRNA-Arg\"', 'FT                   /product=\"transfer RNA-Arg\"', 'FT   CDS             9913..10209', 'FT                   /transl_table=2', 'FT                   /gene=\"NADH4L\"', 'FT                   /product=\"NADH dehydrogenase subunit 4L\"', 'FT                   /db_xref=\"GOA:Q08GU6\"', 'FT                   /db_xref=\"InterPro:IPR001133\"', 'FT                   /db_xref=\"UniProtKB/Swiss-Prot:Q08GU6\"', 'FT                   /protein_id=\"CAJ57152.1\"', 'FT                   /translation=\"MSMVYINIFLAFILSLMGMLVYRSHLMSSLLCLEGMMLSLFVMMS', 'FT                   VTILNNHLTLASMMPIVLLVFAACEAALGLSLLVMVSNTYGTDHVQNLNLLQC\"', 'FT   CDS             10203..>11580', 'FT                   /transl_table=2', 'FT                   /gene=\"NADH4\"', 'FT                   /product=\"NADH dehydrogenase subunit 4\"', 'FT                   /note=\"translation exception (stop codon is completed by', 'FT                   the addition of 3\\' residues to the mRNA)\"', 'FT                   /db_xref=\"GOA:Q08GU5\"', 'FT                   /db_xref=\"InterPro:IPR000260\"', 'FT                   /db_xref=\"InterPro:IPR001750\"', 'FT                   /db_xref=\"InterPro:IPR003918\"', 'FT                   /db_xref=\"InterPro:IPR010227\"', 'FT                   /db_xref=\"UniProtKB/TrEMBL:Q08GU5\"', 'FT                   /protein_id=\"CAJ57153.1\"', 'FT                   /translation=\"MLKIIIPTAMLIPLTWTSKPNMIWINSTMYSLLISLISLSYLNQP', 'FT                   NDNTLNSSLLFFSDSLSAPLLALTTWLLPLMLMASQSHLSKEPLIRKKLYISMLILLQL', 'FT                   FLIMTFTATELILFYILFEATLIPTLIIITRWGNQTERLNAGLYFLFYNLTGSLPLLVA', 'FT                   LLYIQNSMGSLNFLMIQYWIQPLPSSWSNIFLWLACMMAFMVKMPLYGLHLWLPKAHVE', 'FT                   APIAGSMVLAAVLLKLGGYGMMRITTLLNPLTDLMVYPFMLLSLWGMIMTSSICLRQTD', 'FT                   LKSLIAYSSVSHMALVIVAVLIQTPWSYMGATALMIAHGLTSSMLFCLANSNYERTHSR', 'FT                   TMILARGLQTLLPLMAAWWLLASLANLALPPTINLIGELFVVMASFSWSNITIILMGMN', 'FT                   IIITALYTLYMLITTQRGKHTHHIKNIKPSFTRENALMTLHLLPLLLLSIDPKVVLGPI', 'FT                   Y\"', 'FT   tRNA            11581..11650', 'FT                   /gene=\"tRNA-His\"', 'FT                   /product=\"transfer RNA-His\"', 'FT   tRNA            11651..11709', 'FT                   /gene=\"tRNA-Ser(AGY)\"', 'FT                   /product=\"transfer RNA-Ser(AGY)\"', 'FT   tRNA            11710..11779', 'FT                   /gene=\"tRNA-Leu(CUN)\"', 'FT                   /product=\"transfer RNA-Leu(CUN)\"', 'FT   CDS             11780..13600', 'FT                   /transl_table=2', 'FT                   /gene=\"NADH5\"', 'FT                   /product=\"NADH dehydrogenase subunit 5\"', 'FT                   /db_xref=\"GOA:Q08GU4\"', 'FT                   /db_xref=\"InterPro:IPR001516\"', 'FT                   /db_xref=\"InterPro:IPR001750\"', 'FT                   /db_xref=\"InterPro:IPR003945\"', 'FT                   /db_xref=\"InterPro:IPR010934\"', 'FT                   /db_xref=\"UniProtKB/TrEMBL:Q08GU4\"', 'FT                   /protein_id=\"CAJ57154.1\"', 'FT                   /translation=\"MNMFASCMITALILLTLPIIMTSTKLYKDKLYPYYVKTATSHAFM', 'FT                   ISMIPAMMFIYSGQEMVVSNWHWMTIQTMKLSMSFKLDYFSMIFVPVALFVTWSIMEFS', 'FT                   MWYMHSDPYINRFFKYLLMFLITMMILVTANNMFQLFIGWEGVGIMSFLLIGWWYGRTD', 'FT                   ANTAALQAILYNRIGDVGFIMAMAWFLLHLNAWDLQQIFMSANDNLNLPLFGLLLAATG', 'FT                   KSAQFGLHPWLPSAMEGPTPVSALLHSSTMVVAGVFLLIRFHPLMEQNPTIQTLTLCLG', 'FT                   AITTLFTAICALTQNDIKKIVAFSTSSQLGLMIVTIGINQPYLAFLHICTHAFFKAMLF', 'FT                   MCSGSIIHSLNDEQDIRKMGGLFKALPFTTTSLIIGSLALTGMPFLTGFYSKDLIIETA', 'FT                   NTSNTNAWALLITLVATSMTAAYSTRILFFALLGQPRFTPIISINENNPYLINSIKRLL', 'FT                   LGSVFAGYVISHSITPTTIPQMTMPHHLKMAALAVTILGFILALELNLTMQGLKFNHSS', 'FT                   HYFKFSNLLGYYPTIMHRLAPKTSLSMSQKSASMLLDHIWLESVLPKSIAFFQMKSSTL', 'FT                   VSNQKGLIKLYFFSFMITMALSLSILNYHV\"', 'FT   CDS             complement(13584..14111)', 'FT                   /transl_table=2', 'FT                   /gene=\"NADH6\"', 'FT                   /product=\"NADH dehydrogenase subunit 6\"', 'FT                   /db_xref=\"GOA:Q08GU3\"', 'FT                   /db_xref=\"InterPro:IPR001457\"', 'FT                   /db_xref=\"UniProtKB/TrEMBL:Q08GU3\"', 'FT                   /protein_id=\"CAJ57155.1\"', 'FT                   /translation=\"MMTYIVFILSIVFVMSFVGFVTKPSPIYGGLVLIISGGIGCAIVL', 'FT                   NFGGSFLGLMVFLIYLGGMLVVFGYTTAMATEQYPEVWVSNKAVLAAFITGLLSELLTA', 'FT                   CYILKDDEVEVVLKFNGMGDWVIYDTGDSGFFSEEAMGIAALYSYGTWLVIVTGWSLLT', 'FT                   GVLVIMEVTRGN\"', 'FT   tRNA            complement(14112..14180)', 'FT                   /gene=\"tRNA-Glu\"', 'FT                   /product=\"transfer RNA-Glu\"', 'FT   CDS             14185..15324', 'FT                   /transl_table=2', 'FT                   /gene=\"cytb\"', 'FT                   /product=\"cytochrome b\"', 'FT                   /db_xref=\"GOA:Q19QU7\"', 'FT                   /db_xref=\"InterPro:IPR005797\"', 'FT                   /db_xref=\"InterPro:IPR005798\"', 'FT                   /db_xref=\"InterPro:IPR016174\"', 'FT                   /db_xref=\"InterPro:IPR027387\"', 'FT                   /db_xref=\"InterPro:IPR030689\"', 'FT                   /db_xref=\"UniProtKB/TrEMBL:Q19QU7\"', 'FT                   /protein_id=\"CAJ57156.1\"', 'FT                   /translation=\"MTNIRKTHPLAKIVNDSFIDLPAPSNISAWWNFGSLLGVCLILQI', 'FT                   ATGLFLAMHYTSDTATAFSSVTHICRDVNYGWIIRYMHANGASMFFICLFMHVGRGLYY', 'FT                   GSYVFMETWNIGIILLFATMATAFMGYVLPWGQMSFWGATVITNLLSAIPYIGTDLVEW', 'FT                   IWGGFSVDKATLTRFFAFHFILPFIIAALAMVHLLFLHETGSNNPSGITSDSDKIPFHP', 'FT                   YYTIKDILGVLLLLSVLMSLVLFSPDLLGDPDNYTPANPLSTPPHIKPEWYFLFAYAIL', 'FT                   RSIPNKLGGVLALVFSILILALIPHLHTSKQRGMMFRPLSQCLFWLLTADLLTLTWIGG', 'FT                   QPVEHPFIIIGQIASILYFAILLILMPTISIIENNLLKW\"', 'FT   tRNA            15325..15394', 'FT                   /gene=\"tRNA-Thr\"', 'FT                   /product=\"transfer RNA-Thr\"', 'FT   tRNA            complement(15394..15459)', 'FT                   /gene=\"tRNA-Pro\"', 'FT                   /product=\"transfer RNA-Pro\"', 'FT   D-loop          15460..16813', 'XX', 'SQ   Sequence 16813 BP; 5257 A; 4378 C; 2502 G; 4676 T; 0 other;', 'gttaatgtag cttaattagt aaagcaaggc actgaaaatg ccaagatgag tcataagact        60', 'ccataaacac aaaggtttgg tcctggcctt cctattagtc cttagtaaac ttacacatgc       120', 'aagcctccac gccccagtga gaatgccctt aaaatcgcta acgatctaaa ggagcaggta       180', 'tcaagcacac tcctaagtag ctcataacac cttgctaagc cacgccccca cgggatacag       240', 'cagtgataaa aattaagcca tgaacgaaag ttcgactaag ttatactaaa gagggttggt       300', 'aaatttcgtg ccagccaccg cggtcatacg attaacccga actaataggc ccacggcgta       360', 'aagcgtgttt aagataacat attactaaag ttaaaactta actaagccgt aaaaagctac       420', 'agttaccata aaatatacta cgaaagtgac tttaaaattt tctgattaca cgatagctaa       480', 'gacccaaact gggattagat accccactat gcttagccct aaacataaat agttctataa       540', 'caaaacaatt cgccagagaa ctactagcaa cagcttaaaa ctcaaaggac ttggcggtgc       600', 'tttatatccc tctagaggag cctgttctat aatcgataaa ccccgataaa cctcaccatc       660', 'ccttgctaat acagtctata taccgccatc ttcagcaaac ccttaaaagg tagagcagta       720', 'agcaggatca tcacgcataa aaaagttagg tcaaggtgta acttatggga tgggaagaaa       780', 'tgggctacat tttctatttt aagaacactt tacgaaagtt tttatgaaac tagaaactga       840', 'aggaggattt agtagtaaat taagaataga gagcttaatt gaatagggcc atgaagcacg       900', 'cacacaccgc ccgtcaccct cctcaagtaa taagactgag gccataaaca tattaactca       960', 'catcaaaaca cgagaggaga taagtcgtaa caaggtaagc ataccggaag gtgtgcttgg      1020', 'attaaccaaa gtgtagctta ataaaagcat ctggcttaca cccagaagat ttcatgatta      1080', 'atgaccactt tgaacgaaag ctagcccaat cgactttaaa ttaaactatc acagagttac      1140', 'aaaacaaaac atttagtcaa accattaaag tataggagat agaaattcta attggagcta      1200', 'tagagatagt accgcaaggg aatgatgaaa gacattttca aagtacaaaa cagcaaagat      1260', 'tacaccttgt accttttgca taatgagcta gctagaaata acttaacaaa gagaacttaa      1320', 'gctaagtacc ccgaaaccag acgagctacc tatgaacaat ctaaaaggat caactcgtct      1380', 'atgtggcaaa atagtgagaa gatttatagg tagaggtgaa aagccaaacg agcctggtga      1440', 'tagctggtta cccacaaaca gaattttagt tcaactttaa atttacctaa aaaaaacgaa      1500', 'atttcaatgt aaatttaaaa tataatctaa aaaggtacag ctttttagag caaggacaca      1560', 'acctttatta gagagtaaat attaacataa ccatagttgg cctaaaagca gccatcaatt      1620', 'gagaaagcgt tcaagctcaa caaacaatgc aacttaatcc caaccatatt gcatcaactc      1680', 'ctaattcacc tcctgggtta ttctatttaa gtatagaagc aataatgcta gtatgagtaa      1740', 'caagaattat ttctccccgc ataagcttat atcagaaacg gatagaccac tgatagttaa      1800', 'caacctgata aaaccaaccc aaaaataaaa cacttatcta ccccattgtt aacccaacac      1860', 'aggtatgcac tcaaggaaag attaaaagaa gtaaaaggaa ctcggcaaac ataaaccccg      1920', 'cctgtttacc aaaaacatca cctccagcat taccagtatt ggaggcactg cctgcccagt      1980', 'gacatccgtt aaacggccgc ggtatcctga ccgtgcaaag gtagcataat catttgttct      2040', 'ctaaataggg acttgtatga atggccacac gagggtttaa ctgtctctta cttccaatca      2100', 'gtgaaattga ccttcccgtg aagaggcggg aatactataa taagacgaga agaccctatg      2160', 'gagctttaat taattagccc aaacttatga actttaaacc ccactgggaa taacatacta      2220', 'ccattgttat gggctgacaa tttaggttgg ggtgacctcg gaatataaaa aaactcccga      2280', 'gtgattaaaa tttagaccta ccagtcaaaa tgtaccatca cttattgatc caataatctt      2340', 'tgatcaacga aacaagttac cctagggata acagcgcaat cctatttaag agtccatatc      2400', 'gacaataggg tttacgacct cgatgttgga tcaggacatc ctaatggtgc agcagctatt      2460', 'aagggttcgt ttgttcaacg attaaagtcc tacgtgatct gagttcagac cggagtaatc      2520', 'caggtcggtt tctatctatt aaacagtttc tcccagtacg aaaggacaag agaaacaagg      2580', 'cctaccttac agaggcgcct tagaactaat agatgaagtt aagctcaatc taaccagttt      2640', 'atccctctaa aagcccaaga aaaggggctt tgttagggtg gcagagcccg gcaattgcgt      2700', 'aagacttaaa cctttatccc cagaggttca attcctctcc ctaacaacat gttctttatc      2760', 'aacattctct cccttatcgt cccaatcctt ctcgccgtag ctttcctcac tctcgttgaa      2820', 'cggaaagtcc taggctatat acaacttcga aaaggaccca atattgtagg tccctatggt      2880', 'ctcctccaac caatcgccga tgctgtaaaa ctctttacaa aagaacccct acgtcccctt      2940', 'acatcgtcta tatcaatatt tattctagca cccattctgg ccctatcatt agctctaacc      3000', 'atatgaatcc cactccccat gccctaccca ctcattaata taaatctagg ggtgctattt      3060', 'atattagcca tgtcaagcct cgccgtatac tccatcctct gatcaggatg ggcctcgaac      3120', 'tccaagtacg ccctaatcgg agcccttcga gccgtagctc aaacaatctc atacgaagtc      3180', 'acactagcga tcatcctcct ttctattttg ctaataaacg gatcattcac actatccaca      3240', 'ctcattatta cccaagaaca tatatgacta attttccctg cctgacctct agccatgata      3300', 'tgatttatct ctaccctagc agaaacaaac cgggccccct ttgacttaac tgagggggaa      3360', 'tcagaactgg tctcagggtt taacgtggag tatgcagccg gacccttcgc cctattcttc      3420', 'ctagcagagt atgcaaatat tatcataata aatatcctca caacaatttt attcttcggc      3480', 'gcattccaca atccattctt accagagctc tactccatca acttcaccat taagaccctt      3540', 'ctactaacca tctcttttct atgaattcga gcatcctacc ctcggttccg ctatgaccaa      3600', 'ttaatacacc tcctatgaaa aaacttccta ccactaactt tggccctgtg catatgacac      3660', 'gtcgccctac ctattatcac tgcaagcatt ccacctcaaa cataagaaat atgtctgaca      3720', 'aaagagttac tttgatagag taaatcatag aggtttaaac cctcttattt ctagaataat      3780', 'aggcctcgaa cctaatccta agaattcaaa gatcttcgtg ctaccaaatt tacaccatat      3840', 'tctacagtaa ggtcagctaa attaagctat cgggcccata ccccgaaaat gttggtttat      3900', 'atccttcccg tactaataaa acctcctatc ctcattgcca ttctagcaac cgtcataact      3960', 'ggaactataa tcgtaatact aagctcccac tggttactaa tctgaatcgg attcgaaatg      4020', 'aatatgttag ccatcattcc tattctaata aaaaaattca atccacgagc catagaggca      4080', 'tccacaaagt atttcctcac acaagcaaca gcctcgatat tactaataat aggagtcact      4140', 'atcaaccttc tctactccgg tcagtgaata atctcaaaag tctcgaatcc tgcagcatca      4200', 'actataataa ctattgccct aacaataaaa ctgggtctat ccccatttca cttctgagtc      4260', 'cctgaagtaa cccaaggcat ttcactctca tcaggtatga tcctactgac atgacaaaaa      4320', 'attgcaccaa tatccgttct ctaccagatc tcaccatcaa tcaatactga ccttataaca      4380', 'ctagtggccc tcgcgtctgt cctaatcgga ggatgaggcg gacttaatca gactcaacta      4440', 'cgaaaaatca tagcatattc ctccatcgca catataggct gaatagcggc aatcattact      4500', 'tacaacccca caataatatt tctaaacctg tccctataca ttctaataac cctatcaaca      4560', 'tttatactat tcatactgag cgcatctacc acaaccctat ctctctcaca cacatgaaac      4620', 'aaaatccccc taattgcttc caccatccta actctaatac tatccctggg agggcttcca      4680', 'ccactgtccg gctttattcc taaatgaata attattcaag aactaacaaa aaatgatata      4740', 'attgttgtcc caacacttat agccatcact gcactactca acctatactt ctacatacga      4800', 'ctcacataca gtaccgcact cactatattc ccatccgcaa acaacataaa aataaaatga      4860', 'caatttgaac acacaaaaaa gataaccttg ctaccccctc tgattattat ctcaaccata      4920', 'ctactcccca tcatacccat aatatcaatt ctggactagg ggtttaggtt aaacgagacc      4980', 'aagagccttc aaagctctaa gcaagtgctg cacacttaac ccctgaccaa aacgctttaa      5040', 'ggactgcagg aatttatcct acatcaattg aatgcaaatc aaacacttta attaagctaa      5100', 'gtccttacta gattggtggg cttctacccc acgaagtttt agttaacagc taaataccct      5160', 'ataactggct tcaatctagc ttctcccgcc gtgtaggaaa aaaaggcggg agaagccccg      5220', 'gcggcgtcta agctgcttct ttgaatttgc aattcaatat gaataattca ccacaaggct      5280', 'tggtaaaaag aggacttaca cccctatctt tagatttaca gtctaacgct tttatcagcc      5340', 'attttaccta tgttcattaa tcgatgatta ttctctacta accacaaaga catcggtact      5400', 'ttatatttgc tattcggagc atgagccggt atagtaggca ctgccctaag cctcctaatt      5460', 'cgagccgaat taggtcaacc cggcacctta ttaggggacg atcagattta taacgtaatc      5520', 'gtaaccgcac atgccttcgt aataatcttc ttcatggtca taccaattat aattggggga      5580', 'tttgggaact gattagttcc cctgataatt ggtgccccag acatagcatt tcctcggata      5640', 'aataacataa gcttctgact acttccccca tcctttcttc tactattagc atcttccata      5700', 'gtagaagcgg gtgcgggaac tgggtgaacc gtatatcccc cattagctgg taacctggct      5760', 'catgctggag catcagtgga ccttacaatt ttctccctgc acctggccgg agtctcttca      5820', 'attttaggag ctattaattt catcactact attatcaata taaaacctcc cgccatatcc      5880', 'caataccaaa cccccctatt tgtgtgatca gtcctaatta cagctgttct attactacta      5940', 'tcactaccag tactggctgc tggaattact atgcttctga cagaccgtaa ccttaacacg      6000', 'acattttttg atcctgctgg aggaggggac cctattttat accaacactt gttttgattc      6060', 'ttcggacacc ctgaagtcta cattttaatc ttgcctgggt ttggtataat ctcccacatc      6120', 'gttacttatt attcaggaaa gaaagagccc ttcggttaca tgggaatggt atgagcaata      6180', 'atgtctatcg gattcttagg ctttatcgta tgagctcacc acatattcac tgtaggaata      6240', 'gatgtggata cacgagcata cttcacgtct gctactataa ttatcgctat tcctacaggg      6300', 'gttaaagtat tcagttgatt agcaacactc catgggggca atattaaatg atctccagct      6360', 'atactatgag ctctaggttt tattttccta ttcacagtag gtggcctaac gggcatcgtt      6420', 'ttagccaact catccttaga tatcgttctt catgacacgt actacgtcgt agctcacttc      6480', 'cactacgttc tctcaatagg agcagtattt gctattatag gcggatttgc ccactgattc      6540', 'cccctattct caggctacac tctaaatgac acctgagcaa aaatccactt tacaattata      6600', 'tttgtagggg tgaacataac tttcttccct caacacttcc tagggctatc gggtatgccc      6660', 'cgtcgatatt ctgactaccc agatgcatac accacttgaa ataccgtctc atctataggc      6720', 'tcattcatct cacttacagc agtaatactt ataatcttca taatctggga agccttcgct      6780', 'tctaaacggg aggtcgcaat agtagaactc actacaacta acattgaatg attacacgga      6840', 'tgtcctcctc cgtaccacac atttgaagag cctacgtatg tcatccaaaa ataagaaagg      6900', 'aaggaatcga accccctaaa actggtttca agccagtgcc ataaccacta tgtctttctc      6960', 'aattaggagg tattagtaaa acattacatg actttgtcaa agtcaagtca taggtgaaac      7020', 'ccctatatat ctctatggcg tacccttttc aactcggatt acaggacgcg acctccccta      7080', 'ttatagagga gctacttcat tttcatgatc ataccctaat aatcgtattc ttaatcagct      7140', 'cattagttct ttacattatt actttaatac taactaccaa gctaacccac acaagtacaa      7200', 'tagacgcgca agaggtagaa acagtctgaa ccattctacc agccattatc ctaatcctga      7260', 'ttgctcttcc ttctctacga attctctaca taatggatga aattaataac ccatcactaa      7320', 'ccgtaaaaac aataggccat caatgatatt gaagctacga gtacactgac tatgaagatc      7380', 'tgaactttga ctcctacatg attcctacac aagaattaaa accaggagaa ctccgactat      7440', 'tagaagtcga caaccgagtc gttctcccaa tggaaataac tgtccgaata cttatttctt      7500', 'cagaagacgt attgcactca tgagccgttc catcactagg cttaaaaact gatgccatcc      7560', 'caggacgatt aaatcaaact accctaatag cgatacgacc agggctatac tacggccaat      7620', 'gctctgaaat ttgcggatcc aaccacagct ttataccaat tgttcttgaa atagtcccac      7680', 'tgtcctactt cgaaacctga tctgctgtaa tggtttaaca tagacaagac ttactcattg      7740', 'agaagctata aagcgttaac cttttaagtt aaagactgag agttataacc tctccttaat      7800', 'gaaatgccac agctagacac atcaacttga ttagttataa ttctttcaat aattctaact      7860', 'ctgtttatct tattccaact aaaagtatca aaacactact atccagagag cccaggacct      7920', 'aaatctatca agtctattag caaacacacc ccttgagaaa acaaatgaac gaaaatttat      7980', 'tcgcctcttt cgctacccct acaataatgg gcctcccaat cgctgtatta atcgtaatat      8040', 'tcccatctat tctattccca tcacctaatc gactaattaa caatcgatta atttctatcc      8100', 'aacagtgatt aattcaactt acatccaaac agatactaac aattcacaac caaaaaggac      8160', 'gaacctgagc ccttatgctg atatcactga ttttatttat tggctcgact aatctcctcg      8220', 'gattgctacc ccactcattc acacccacaa cccaattgtc tataaaccta ggaatagcaa      8280', 'ttcccctgtg agcagggaca gtaattaccg ggttccgcca caaaactaag gcctctctag      8340', 'cacacttcct gccccaagga acacccctcc ccctaattcc catgctagta atcatcgaga      8400', 'caattagtct attcatccaa cctatggcct tagctgtccg attaacagcc aacattaccg      8460', 'caggacacct attaattcac ctaattggag gggccactct agccctaatc aacatcagtg      8520', 'ctaccacagc ccttattact tttataattc tagttttact taccattctc gaattcgccg      8580', 'tcgctcttat tcaggcctac gtctttacac tactagtaag tctatactta catgacaata      8640', 'cctaatgacc caccaaaccc atgcttacca tatagtcaat ccgagcccat gaccactaac      8700', 'aggagcccta tctgccctac ttataacatc gggtctcatc atatgatttc actacaactc      8760', 'aatatcttta ctcactctag gacttacaac taacatacta actatgtatc aatgatgacg      8820', 'agacgtagtt cgagaaggca cgtttcaagg acaccatacc cccactgtgc aaaaagggct      8880', 'acgatatgga ataatcctat ttatcgtctc agaagttttc tttttcgctg gcttcttttg      8940', 'agccttctac cactccagcc tagctccaac ccccgaactc gggggttgct ggccacccac      9000', 'tggcatcatt cctctgaatc cgcttgaagt ccctctactc aacacctctg tcctgctagc      9060', 'ctcaggggtc tcaatcacct gagcccacca cagcctaata gaaggcaatc gcaagcacat      9120', 'acttcaagcc ctatttatta ctatctccct aggcgtatat ttcacactac tacaagcctc      9180', 'tgaatattat gagacatcct tcacaatctc cgacggagtc tatgggtcca cattctttat      9240', 'ggctaccgga ttccacggac tgcatgtaat tatcggctcc acattcctta ttgtctgctt      9300', 'tatgcgacaa ctgcactacc acttcacatc taatcaccac tttggatttg aagctgctgc      9360', 'atggtactga cacttcgtcg atgtagtatg actattccta tatgtttcca tctattgatg      9420', 'aggatcttac ttctttagta taattagtac aattgacttc caatcagtta gcttcagaca      9480', 'gatctgaaaa gaagtaatta acataatact tactctgata accaatatta ccctggcttc      9540', 'cctactcgta ataatcgcat tttgacttcc tcaactaaat atttatgccg acaaaaccag      9600', 'tccttacgaa tgtggctttg accccatagg atcggcacgt ttaccatttt ctataaaatt      9660', 'tttcctggtt gcaattacat tcctactctt tgacttagaa atcgccctcc tacttccact      9720', 'accctgggca tcacaaacca ataagctaac aactatgctt atcatggcac tccttctaat      9780', 'ctcacttctg gctgcaagcc tagcatatga atgaactgaa aaaggcctag aatgaactga      9840', 'atatgataat tagtttaaac taaaacaaat gatttcgact cattaaatta tgatttaact      9900', 'cataattatc atatgtccat agtatatatt aacatcttcc tggcattcat tctatcatta      9960', 'atgggcatac tcgtctaccg atcccaccta atatcatcac tgctatgcct agaaggcatg     10020', 'atactgtcac tattcgtgat gatatctgtg actatcctga ataatcacct cacattagct     10080', 'agcataatac caattgtact gctagtattc gccgcctgcg aagcagcatt gggattatct     10140', 'ctactagtta tagtatctaa cacttacgga actgatcatg tgcaaaacct aaaccttcta     10200', 'caatgctaaa aattattatt cctaccgcta tacttattcc cctaacatga acatcaaagc     10260', 'ctaacataat ctgaattaac tccacaatat acagcctgct aattagccta attagtttgt     10320', 'cttatctaaa tcaaccgaac gacaacaccc taaactcgtc cttactattc ttctccgact     10380', 'ccctatcagc accactactg gcactcacaa catgacttct accacttata ttgatagcaa     10440', 'gccaatccca tctatcaaaa gagcctctta tccgaaaaaa actatatatc tcaatactaa     10500', 'ttctactcca actattctta attataacct tcaccgccac agaattaatc ctcttctata     10560', 'ttctattcga agctacccta attcccaccc ttattattat cacccggtga ggtaatcaga     10620', 'ccgaacgact aaacgcaggg ctatacttcc tgttttacaa cttgacagga tccctaccac     10680', 'ttctcgtagc acttctgtat attcaaaata gcataggctc tctaaacttc ctcataatcc     10740', 'aatactgaat tcagcctcta ccaagctcct gatctaacat ttttctatgg ttagcatgta     10800', 'tgatggcttt catagtaaaa atacccctat acggcctcca cttgtgacta ccaaaggcac     10860', 'atgtagaggc ccctattgcc ggttctatgg tacttgcagc cgtacttcta aaactaggag     10920', 'gttacggtat aatacgaatc acaaccctac taaaccccct aaccgacctg atagtatacc     10980', 'ccttcatatt actatcacta tggggcataa ttataactag ttctatttgt ttacgtcaaa     11040', 'cggacctaaa atctctaatc gcatactctt ccgttagcca tatagcactt gtcattgtag     11100', 'cggtacttat ccaaacaccg tgaagttaca taggggcaac agctctaata atcgcccatg     11160', 'gtttaacatc atccatacta ttctgcttag ccaactcaaa ctacgaacga acccacagtc     11220', 'gtactataat tctcgcacga ggcctccaaa ccctcctccc cctgatagct gcttgatgac     11280', 'tattagcgag tctcgcaaac ctagcccttc ccccaacaat taacttaatc ggggagctgt     11340', 'tcgtagtaat agcctcattc tcatgatcca atattacaat tatcctgata ggaataaaca     11400', 'tcatcattac cgccctttat accctatata tactaatcac tacacaacgc ggtaaacata     11460', 'cccaccatat taaaaacatc aaaccgtcct ttacacggga gaatgcccta ataaccctcc     11520', 'acttgctgcc cttgcttctc ctatccatcg accccaaagt tgttctgggg cccatctact     11580', 'gcaggcatag tttaacaaaa acatcagatt gtgaatctga taataaaagc tcaaatcttt     11640', 'ttgcctaccg aaaaagtatt gcaagaactg ctaactcatg ctcccatgca taaaagcatg     11700', 'gctttttcaa cttttatagg atagaagtaa tccattggtc ttaggaatca aaaaatcggt     11760', 'gcaactccga ataaaagtaa taaatatatt cgcctcctgc atgatcactg ccttaatctt     11820', 'actcacccta ccaatcatta taacctctac caagctctac aaagacaaat tatatccata     11880', 'ttatgtaaaa acagcaacct cccacgcatt tataattagc ataattcctg caataatgtt     11940', 'catctattct ggacaggaaa tggtagtctc gaactggcac tgaataacga tccaaaccat     12000', 'aaaactgtct ataagcttta aactagatta cttctcaata atttttgtac ccgtggcttt     12060', 'gtttgtcaca tggtccatta tggagttctc tatatgatat atacactcag acccctacat     12120', 'caaccgattt tttaaatatc tccttatatt ccttatcact ataataattc tagtgaccgc     12180', 'aaacaacata tttcaattgt tcatcggctg agaaggagta ggcattatat ctttcctact     12240', 'tattggatga tgatacggtc gaaccgatgc aaatacagcc gccctacaag ccattctcta     12300', 'caaccgaatt ggagatgtcg gattcatcat agctatagca tgattcttac tacacctaaa     12360', 'tgcgtgagac cttcaacaaa tttttatatc agccaacgac aaccttaatc ttcccctatt     12420', 'tggtctttta ctagcagcca ccggcaaatc tgcccaattc ggactacacc catgactccc     12480', 'ctcagctatg gaaggtccaa ctcccgtatc agccctactc cactccagta ctatagttgt     12540', 'cgcaggagta tttctactaa ttcgtttcca ccccctaata gaacaaaatc caactatcca     12600', 'aaccctcact ctatgtctag gggccatcac tacactgttt actgcaatct gcgctcttac     12660', 'acaaaatgat attaaaaaaa ttgttgcatt ctctacctca agccaactag gacttataat     12720', 'cgtaacaatt ggcattaacc aaccttactt ggcctttctg cacatctgca cccacgcatt     12780', 'ctttaaagcc atattattca tgtgctccgg gtcaattatc catagtttaa atgatgagca     12840', 'agacattcga aaaataggcg gactatttaa agccctcccc tttaccacga cctcccttat     12900', 'tattggaagc ctcgcactga caggcatacc attcctcaca ggcttctatt ccaaagacct     12960', 'gattatcgag accgccaaca cgtcgaatac caacgcctga gccctcttaa ttaccctcgt     13020', 'tgccacatct ataactgccg cctacagcac tcgaattcta ttcttcgcac tattaggcca     13080', 'gccccgcttt acccccatta tttccatcaa cgagaataat ccttacctaa ttaactctat     13140', 'taaacgccta cttctcggga gtgtgttcgc agggtatgtt atctcccaca gtattactcc     13200', 'cactaccatc ccacaaatga ctatgcctca tcatctgaaa atagctgccc tcgcagtaac     13260', 'catcttgggt ttcatcctgg cattagaact aaaccttaca atgcaagggc tcaaattcaa     13320', 'ccactcatct cactatttca agttttcaaa cctccttggc tattacccca ccatcataca     13380', 'ccgtctggca cccaaaacaa gcctatccat aagtcaaaaa tcagcatcca tactcctaga     13440', 'tcatatctga ctagaaagtg ttctaccaaa atcaatcgca ttcttccaaa taaaatcctc     13500', 'caccctagtt tcaaatcaaa aaggcctcat taagctctat ttcttctcat tcataatcac     13560', 'catggccctc agcctctcaa ttcttaatta ccacgtgtaa cctccataat aactaacaca     13620', 'ccagttaata atgaccaacc agtaacaatt accagtcaag taccatagct gtataacgct     13680', 'gcaataccca tagcctcttc actaaaaaat ccagaatcac ctgtatcata aataacccag     13740', 'tctcccatac cattaaactt tagtaccacc tccacctcat catcctttaa gatatagcag     13800', 'gcggtcaata actcagacag caggccagtg ataaaagccg ccaatacagc tttattagac     13860', 'acccaaactt cagggtattg ctctgtagct atagcagttg tataaccaaa aactaccaat     13920', 'atacccccta agtaaattaa gaacaccatt aaccccaaga aagatcctcc aaaattcaat     13980', 'acaatagcac aaccaatccc accactaata atcaacacca acccaccata aataggagag     14040', 'ggcttcgtaa caaatcccac aaagctcatc acaaaaacaa tacttagaat aaatacaatg     14100', 'tatgttatca ttattcccac atggaattta accatgacta atgacatgaa aaatcatcgt     14160', 'tgtatttcaa ctataagaac attaatgacc aacattcgaa agactcaccc actagctaaa     14220', 'atcgtaaacg actcattcat cgaccttccc gcaccatcaa atatttctgc ctgatggaac     14280', 'ttcgggtccc tgctaggtgt atgccttatt ctacagattg caacaggtct atttttagcc     14340', 'atacactata catctgacac agctactgct ttctcatctg tcactcacat ctgccgagac     14400', 'gttaactatg gctgaattat ccgctacata catgcaaacg gagcatctat attttttatc     14460', 'tgcctcttca tgcacgtggg acgaggctta tattatggat cttatgtatt catagaaaca     14520', 'tgaaatattg gaattatctt attgttcgca accatggcca cagcatttat gggctacgtt     14580', 'ttaccgtgag gacaaatatc attctgaggg gcaaccgtaa ttacaaatct tctatctgct     14640', 'attccctata tcggaaccga tctagtagaa tgaatttgag ggggcttctc agtagacaaa     14700', 'gcaaccctaa cacgattctt tgcattccac tttatccttc cattcatcat cgcagcatta     14760', 'gcgatggttc atctcttatt tctccacgaa acaggatcca acaatccttc aggaatcaca     14820', 'tccgactcag acaaaattcc gtttcacccc tactacacaa ttaaagacat cctaggagtt     14880', 'ttacttctcc tttcagttct aatatcacta gtcctattct caccagatct tttaggagac     14940', 'ccagacaatt acacccccgc aaaccctctc agcactcccc cacatattaa acccgaatga     15000', 'tactttctat ttgcctatgc cattctccgg tccatcccta acaaactagg aggagtccta     15060', 'gccctagtgt tctcaatcct aatcttagca cttatccccc acctacacac ctcaaaacaa     15120', 'cgtgggataa tattccgacc ccttagtcaa tgcctattct gacttctaac cgcagacctc     15180', 'ctcaccttaa cttgaatcgg agggcagcca gtagaacacc cctttatcat cattggccaa     15240', 'attgcctcca tcctgtattt tgctatctta ttgattctaa tgccaaccat tagcattatc     15300', 'gaaaacaatc tcctaaaatg aagagtcttc gtagtatatt aattacattg gtcttgtaaa     15360', 'ccaaaaatgg agattaataa ttctccccaa gactcaagga agaggcacac gccccaccgt     15420', 'cagcacccaa agctgaaatt ctttttaaac tattccctga cacccgcatt aaccagtgta     15480', 'ttacgactat cccgcgctcc caaaacttgc cctatgtacg tcgtgcatta ctgctatgcc     15540', 'ccatgcatat taagcatgta catatactta tataattaca taagacatac tatgtttaat     15600', 'cttacaataa tctctatcag gagcatacat gactgcacgt cacttagtcc agtaagggat     15660', 'ttatcaccat gcctcgagaa accatcaatc cttgctcgaa gtatccctct tctcgctccg     15720', 'ggcccatatc aacgtggggg tttctatcat ggaactatac ctggcatctg gttcttacct     15780', 'cagggccatt ctacttgttc actccaatcc tactaatcct ctcaaatggg acatctcgat     15840', 'ggactaatga ctaatcagcc catgatcaca cataactgtg gtgtcatgca tttggtatct     15900', 'ttttttttgg ggggggggaa cttgctatca ctcagctatg accgcaacgg cactaactct     15960', 'aacctacatc tgcactcagg gaatatgccc gtcgcggccc cgacgcagtc agatgatctg     16020', 'tagctggact tattcattat catttatcaa ctccgtgcac aattcaaggt gctattcagt     16080', 'caatggtttc aggacataag gactttacac acgtacacac gtacgtacac acgtacacac     16140', 'gtacgtacac acgtacacac gtacgtacac acgtacacac gtacgtacac acgtacacac     16200', 'gtacgtacac acgtacgtac gtacgtacac acgtacgtac acacgtacac acgtacgtac     16260', 'acacgtacgt acgtacgtac gtacgtacgt acgtacgacg cacgtacgta cgtacgtacg     16320', 'tacgtacgta cgcacgtacg tacgtacgta cgcacgtacg tacgtacgta cgtacgtacg     16380', 'tacgtacgta cgtacgtacg tacgtacgta cgtacgtacg tacacacgta cgtacgtacg     16440', 'tacacacgta cacacgtacg tacacacgta cacacgtaca cacgtacgta cacacgtacg     16500', 'tacacacgta cacacacgta cgtacgtaca cgcaagatat tgagttagct catacaaacc     16560', 'ccccttaccc cccgtaaact catgctactc gctatacacc tatatatgcc ccgccaaacc     16620', 'ccaaaaacag gactaagtat atatggtact cataagcttc atgtaaatat cgcacaaatg     16680', 'tattgctact ccagttaacc taactcagcg gtcttacacc cgccaaatct tgctgtctat     16740', 'ctatagatat catttcctcg atattttatt tttaccgcct ctataattcg cactaataat     16800', 'gccaaaaaca aaa                                                        16813', '//']\n",
            "~~~~~~~~~~~~~~`\n",
            "<class 'list'>\n",
            "['ID   AM181037; SV 1; circular; genomic DNA; STD; MAM; 16813 BP.', 'XX', 'AC   AM181037;', 'XX', 'DT   26-SEP-2006 (Rel. 89, Created)', 'DT   21-AUG-2007 (Rel. 92, Last updated, Version 3)', 'XX', 'DE   Vulpes vulpes complete mitochondrial genome', 'XX', 'KW   12S ribosomal RNA; 12S rRNA gene; 16S ribosomal RNA; 16S rRNA gene;', 'KW   ATPase 6 gene; ATPase 8 gene; ATPase subunit 6; ATPase subunit 8; COI gene;', 'KW   COII gene; COIII gene; complete genome; control region; cytb gene;', 'KW   cytochrome b; cytochrome oxidase subunit I; cytochrome oxidase subunit II;', 'KW   cytochrome oxidase subunit III; NADH dehydrogenase subunit 1;', 'KW   NADH dehydrogenase subunit 2; NADH dehydrogenase subunit 3;', 'KW   NADH dehydrogenase subunit 4; NADH dehydrogenase subunit 4L;', 'KW   NADH dehydrogenase subunit 5; NADH dehydrogenase subunit 6; NADH1 gene;', 'KW   NADH2 gene; NADH3 gene; NADH4 gene; NADH4L gene; NADH5 gene; NADH6 gene;', 'KW   transfer RNA-Ala; transfer RNA-Arg; transfer RNA-Asn; transfer RNA-Asp;', 'KW   transfer RNA-Cys; transfer RNA-Gln; transfer RNA-Glu; transfer RNA-Gly;', 'KW   transfer RNA-His; transfer RNA-Ile; transfer RNA-Leu(CUN);', 'KW   transfer RNA-Leu(UUR); transfer RNA-Lys; transfer RNA-Met;', 'KW   transfer RNA-Phe; transfer RNA-Pro; transfer RNA-Ser(AGY);', 'KW   transfer RNA-Ser(UCN); transfer RNA-Thr; transfer RNA-Trp;', 'KW   transfer RNA-Tyr; transfer RNA-Val; tRNA-Ala gene; tRNA-Arg gene;', 'KW   tRNA-Asn gene; tRNA-Asp gene; tRNA-Cys gene; tRNA-Gln gene; tRNA-Glu gene;', 'KW   tRNA-Gly gene; tRNA-His gene; tRNA-Ile gene; tRNA-Leu(CUN) gene;', 'KW   tRNA-Leu(UUR) gene; tRNA-Lys gene; tRNA-Met gene; tRNA-Phe gene;', 'KW   tRNA-Pro gene; tRNA-Ser(AGY) gene; tRNA-Ser(UCN) gene; tRNA-Thr gene;', 'KW   tRNA-Trp gene; tRNA-Tyr gene; tRNA-Val gene.', 'XX', 'OS   Vulpes vulpes (red fox)', 'OC   Eukaryota; Metazoa; Chordata; Craniata; Vertebrata; Euteleostomi; Mammalia;', 'OC   Eutheria; Laurasiatheria; Carnivora; Caniformia; Canidae; Vulpes.', 'OG   Mitochondrion', 'XX', 'RN   [1]', 'RP   1-16813', 'RA   Arnason U.;', 'RT   ;', 'RL   Submitted (04-JAN-2006) to the INSDC.', 'RL   Arnason U., Cell and Organism Biology, Evolutionary Molecular Systematics,', 'RL   Solvegatan 29, S-22362 Lund, SWEDEN.', 'XX', 'RN   [2]', 'RX   DOI; 10.1016/j.ympev.2006.05.022.', 'RX   PUBMED; 16815048.', 'RA   Arnason U., Gullberg A., Janke A., Kullberg M., Lehman N., Petrov E.A.,', 'RA   Vainola R.;', 'RT   \"Pinniped phylogeny and a new hypothesis for their origin and dispersal\";', 'RL   Mol. Phylogenet. Evol. 41(2):345-354(2006).', 'XX', 'DR   MD5; d144ebb62c74d216a7b64ffb815300ff.', 'DR   EuropePMC; PMC2892506; 20525407.', 'DR   EuropePMC; PMC3689046; 23738594.', 'DR   RFAM; RF00005; tRNA.', 'XX', 'FH   Key             Location/Qualifiers', 'FH', 'XX', 'SQ   Sequence 16813 BP; 5257 A; 4378 C; 2502 G; 4676 T; 0 other;', '//']\n",
            "KW   12S ribosomal RNA; 12S rRNA gene; 16S ribosomal RNA; 16S rRNA gene;\n",
            "KW   ATPase 6 gene; ATPase 8 gene; ATPase subunit 6; ATPase subunit 8; COI gene;\n",
            "KW   COII gene; COIII gene; complete genome; control region; cytb gene;\n",
            "KW   cytochrome b; cytochrome oxidase subunit I; cytochrome oxidase subunit II;\n",
            "KW   cytochrome oxidase subunit III; NADH dehydrogenase subunit 1;\n",
            "KW   NADH dehydrogenase subunit 2; NADH dehydrogenase subunit 3;\n",
            "KW   NADH dehydrogenase subunit 4; NADH dehydrogenase subunit 4L;\n",
            "KW   NADH dehydrogenase subunit 5; NADH dehydrogenase subunit 6; NADH1 gene;\n",
            "KW   NADH2 gene; NADH3 gene; NADH4 gene; NADH4L gene; NADH5 gene; NADH6 gene;\n",
            "KW   transfer RNA-Ala; transfer RNA-Arg; transfer RNA-Asn; transfer RNA-Asp;\n",
            "KW   transfer RNA-Cys; transfer RNA-Gln; transfer RNA-Glu; transfer RNA-Gly;\n",
            "KW   transfer RNA-His; transfer RNA-Ile; transfer RNA-Leu(CUN);\n",
            "KW   transfer RNA-Leu(UUR); transfer RNA-Lys; transfer RNA-Met;\n",
            "KW   transfer RNA-Phe; transfer RNA-Pro; transfer RNA-Ser(AGY);\n",
            "KW   transfer RNA-Ser(UCN); transfer RNA-Thr; transfer RNA-Trp;\n",
            "KW   transfer RNA-Tyr; transfer RNA-Val; tRNA-Ala gene; tRNA-Arg gene;\n",
            "KW   tRNA-Asn gene; tRNA-Asp gene; tRNA-Cys gene; tRNA-Gln gene; tRNA-Glu gene;\n",
            "KW   tRNA-Gly gene; tRNA-His gene; tRNA-Ile gene; tRNA-Leu(CUN) gene;\n",
            "KW   tRNA-Leu(UUR) gene; tRNA-Lys gene; tRNA-Met gene; tRNA-Phe gene;\n",
            "KW   tRNA-Pro gene; tRNA-Ser(AGY) gene; tRNA-Ser(UCN) gene; tRNA-Thr gene;\n",
            "KW   tRNA-Trp gene; tRNA-Tyr gene; tRNA-Val gene.\n"
          ]
        }
      ],
      "source": [
        "# Write your script here\n",
        "\n",
        "data=[]\n",
        "with open('am181037.embl') as inp:\n",
        "  for line in inp.readlines():\n",
        "    data.append(line.strip())\n",
        "\n",
        "print(type(data))\n",
        "print(data)\n",
        "\n",
        "\n",
        "print('~~~~~~~~~~~~~~`')\n",
        "data=[]\n",
        "with open('am181037.embl') as inp:\n",
        "  for line in inp.readlines():\n",
        "    if not (line.startswith(' ') or line.startswith('FT')): data.append(line.strip())\n",
        "\n",
        "print(type(data))\n",
        "print(data)\n",
        "\n",
        "new_data = []\n",
        "for line in data:\n",
        " if line.startswith('KW') :\n",
        "    new_data.append(line)\n",
        "\n",
        "for i in new_data:\n",
        "  print(i)\n",
        "\n",
        "with open('out_test.txt', 'w') as out:\n",
        "   #out.write(new_data)\n",
        "   for lin in new_data:\n",
        "    out.write(lin + '\\n')"
      ]
    }
  ],
  "metadata": {
    "colab": {
      "provenance": []
    },
    "kernelspec": {
      "display_name": "Python 3",
      "name": "python3"
    },
    "language_info": {
      "codemirror_mode": {
        "name": "ipython",
        "version": 3
      },
      "file_extension": ".py",
      "mimetype": "text/x-python",
      "name": "python",
      "nbconvert_exporter": "python",
      "pygments_lexer": "ipython3",
      "version": "3.11.5"
    }
  },
  "nbformat": 4,
  "nbformat_minor": 0
}