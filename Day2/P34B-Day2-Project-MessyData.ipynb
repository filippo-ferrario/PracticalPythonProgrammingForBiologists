{
  "cells": [
    {
      "cell_type": "markdown",
      "metadata": {
        "id": "8y4AK8T2UmTw"
      },
      "source": [
        "# Practical Python Programming for Biologists\n",
        "Author: Dr. Daniel Pass | www.CompassBioinformatics.com\n",
        "\n",
        "---"
      ]
    },
    {
      "cell_type": "markdown",
      "metadata": {
        "id": "QxikhAFLUpPh"
      },
      "source": [
        "---\n",
        "\n",
        "# Day 2 Project - More strings & loops - and very messy data\n",
        "\n",
        "Data is messy. Biologist data even more so. Here we have some data on bacterial abundance as collected by some well meaning scientists but unfortunately it's a bit of a mess. It is technically in a four column format liks this, howver when you look below it's mixed up:\n",
        "\n",
        "```\n",
        "| Collector | Percentage abundance | Dominant Phyla | Date |\n",
        "```\n",
        "\n",
        "Delimeters:\n",
        "- Between collected sample records: ```,```\n",
        "- Between data fields per sample: ```-```\n",
        "\n",
        "We want to clean up the data and make some sense out of it. **The objective is to output a count of the number of samples with a high proportion of each phyla.**\n",
        "\n",
        "1. Look at the text file first so that you know what we are looking at!\n",
        "2. We will read in the file ```MessyData.txt``` with ```open()``` as one object (it is too mixed-up to read line-by-line), and then split based on the delimiters above. We will learn more about loading files in the IO session.\n",
        "\n",
        "If you want to challange yourself try to clean the data first before looking in this guide section!\n",
        "I recommend using ```print()``` functions after each step to check the output is as expected.\n",
        "\n",
        "---\n",
        "\n",
        "<details>\n",
        "<summary>Step-by-step guide</summary>\n",
        "\n",
        "2. First split the data by commas into a new list of ```records``` with the function ```.split()```\n",
        "2. Create a new loop to go through your ```records``` list and split each record by ```-``` into the 4 data elements (put the output into a new list too)\n",
        "3. Create a **2D/nested** loop for your latest list, to remove the whitepace off each element with ```.strip()```. (First go through each record, then through each element. Make sure to keep experiments together!)\n",
        "4. Create a long list of all the dominant phyla per sample (The third column of the data) - some samples have multiple phyla, so have to be split again first! Careful here, because you want a basic list, not a list of lists.\n",
        "\n",
        "</details>\n",
        "\n",
        "---\n",
        "\n",
        "5. Print out your new clean dataframe!\n",
        "\n",
        "**Extensions**\n",
        "1. Calculate the average abundance per collection date (4 options) (use ```if date_column == ....```. We'll look at automatically building lists later)\n",
        "2. Output a clean list of all named phyla from the data column in a list named ```phyla_count```. There may be more than one phyla in the list per sample. There is a codeblock at the end that will count for each of the list I've given you, and summarise your output for a list of phyla."
      ]
    },
    {
      "cell_type": "code",
      "execution_count": 1,
      "metadata": {
        "id": "xCi8rep_TvGs",
        "outputId": "a9d65318-fcf7-4986-a68a-c5db6f9be352",
        "colab": {
          "base_uri": "https://localhost:8080/"
        }
      },
      "outputs": [
        {
          "output_type": "stream",
          "name": "stdout",
          "text": [
            "Edith Mcbride   -%1.21   -   Chloroflexi - \n",
            "04/05/22   ,Herbert Tran   -   %7.29- \n",
            "Chloroflexi&Acidobacteria-   04/05/22 ,Paul Clarke -%12.52 \n",
            "-   Chloroflexi&Acidobacteria - 04/05/22 ,Lucille Caldwell   \n",
            "-   %5.13   - Chloroflexi   - 04/05/22,\n",
            "Eduardo George   -%20.39- Chloroflexi&Bacillus \n",
            "-04/05/22   ,   Danny Mclaughlin-%30.82-   \n",
            "Actinomycetes -04/05/22 ,Stacy Vargas- %1.85   - \n",
            "Actinomycetes&Bacillus -01/08/22,   Shaun Brock- \n",
            "%17.98-Actinomycetes&Bacillus - 01/08/22 , \n",
            "Erick Harper -%17.41- Acidobacteria - 01/08/22, \n",
            "Michelle Howell -%28.59- Acidobacteria-   01/08/22   , \n",
            "Carroll Boyd- %14.51-   Actinomycetes&Acidobacteria   -   \n",
            "01/08/22   , Teresa Carter   - %19.64 - \n",
            "Chloroflexi-01/08/22   ,   Jacob Kennedy - %11.40   \n",
            "- Chloroflexi&Firmicutes   - 01/08/22, Craig Chambers- \n",
            "%8.79 - Chloroflexi&Acidobacteria&Firmicutes   -01/08/22   , Peggy Bell- %8.65 -Acidobacteria   - 01/08/22,   Kenneth Cunningham -   %10.53-   Proteobacteria&Acidobacteria   - \n",
            "01/08/22   ,   Marvin Morgan-   %16.49- \n",
            "Proteobacteria&Acidobacteria&Firmicutes   -   01/08/22 ,Marjorie Russell \n",
            "- %6.55 -   Proteobacteria&Acidobacteria&Firmicutes-   01/08/22 ,\n",
            "Israel Cummings-   %11.86   -Cyanobacteria-  \n",
            "01/08/22,   June Doyle   -   %22.29 -  \n",
            "Cyanobacteria&Bacillus -01/08/22 , Jaime Buchanan   -   \n",
            "%8.35-   Chloroflexi&Cyanobacteria&Bacillus   -   01/08/22,   \n",
            "Rhonda Farmer-%2.91 -   Chloroflexi&Cyanobacteria&Bacillus   \n",
            "-01/08/22, Darren Mckenzie -%22.94-Proteobacteria \n",
            "-01/08/22,Rufus Malone-%4.70   - Proteobacteria&Bacillus \n",
            "- 01/08/22   ,Hubert Miles-   %3.59   \n",
            "-Proteobacteria&Bacillus&Acidobacteria-   01/08/22   , Joseph Bridges  -%5.66   - Proteobacteria&Bacillus&Actinomycetes&Acidobacteria \n",
            "-   01/08/22 , Sergio Murphy   -%17.51   -   \n",
            "Cyanobacteria   -   01/08/22 , Audrey Ferguson - \n",
            "%5.54-Cyanobacteria&Acidobacteria   -01/08/22 ,Edna Williams - \n",
            "%17.13- Cyanobacteria&Acidobacteria-   04/05/22,   Randy Fleming-   %21.13 -Cyanobacteria -04/05/22 ,Elisa Hart- %0.35   - Cyanobacteria&Actinomycetes-   04/05/22   ,\n",
            "Ernesto Hunt - %13.91   -   Cyanobacteria&Actinomycetes -   \n",
            "04/05/22,   Shannon Chavez   -%19.26   - \n",
            "Bacillus- 04/05/22   , Sammy Cain- %5.45-   \n",
            "Bacillus&Firmicutes -04/05/22 ,   Steven Reeves -%5.50   \n",
            "-   Bacillus-   04/05/22, Ruben Jones   - \n",
            "%14.56 -   Bacillus&Acidobacteria-04/05/22 , Essie Hansen-   %7.33   -   Bacillus&Acidobacteria&Firmicutes\n",
            "- 04/05/22   ,   Rene Hardy   - %20.22   - \n",
            "Cyanobacteria -   04/05/22 ,   Lucy Snyder   - %8.67   \n",
            "-Cyanobacteria&Firmicutes  - 04/05/22 ,Dallas Obrien -   \n",
            "%8.31-   Cyanobacteria&Firmicutes -   15/03/22,   Stacey Payne \n",
            "-   %15.70   -   Chloroflexi&Cyanobacteria&Firmicutes -15/03/22   \n",
            ",   Tanya Cox   -   %6.74   -Bacillus   - \n",
            "15/03/22 , Melody Moran -   %30.84   \n",
            "-Bacillus&Cyanobacteria-   15/03/22 , Louise Becker   - \n",
            "%12.31 - Proteobacteria&Bacillus&Cyanobacteria-   15/03/22 ,\n",
            "Ryan Webster-%2.94 - Bacillus - 15/03/22 \n",
            ",Justin Blake - %22.46   -Chloroflexi&Bacillus -   \n",
            "15/03/22,   Beverly Baldwin -   %6.60-   \n",
            "Chloroflexi&Bacillus&Cyanobacteria -15/03/22   ,   Dale Brady   \n",
            "-   %6.27 - Bacillus   -15/03/22 ,Guadalupe Potter -%21.12   - Bacillus- 15/03/22   , \n",
            "Desiree Butler -%2.10   -Chloroflexi- 15/03/22  \n",
            ",Sonja Barnett - %14.22 -Chloroflexi&Cyanobacteria-   \n",
            "15/03/22, Angelica Garza-%11.60-Chloroflexi&Cyanobacteria   \n",
            "-   15/03/22   ,   Jamie Welch   - %25.27   - \n",
            "Chloroflexi&Cyanobacteria&Firmicutes -15/03/22   ,   Rex Hudson   \n",
            "-%8.26-   Actinomycetes- 04/05/22 ,   Nadine Gibbs \n",
            "-   %30.80 -   Actinomycetes&Bacillus   - 04/05/22   , \n",
            "Hannah Pratt-   %22.61   -   Actinomycetes&Bacillus   \n",
            "-04/05/22,Gayle Richards-%22.19 - \n",
            "Proteobacteria&Actinomycetes&Bacillus -04/05/22   ,Stanley Holland \n",
            "- %7.47   - Firmicutes - 04/05/22 , Anna Dean-%5.49 - Bacillus&Firmicutes -   04/05/22   ,\n",
            "Terrance Saunders -   %23.70  -Proteobacteria&Bacillus&Firmicutes \n",
            "- 04/05/22 ,   Brandi Zimmerman - %26.66 - \n",
            "Firmicutes   -04/05/22 ,Guadalupe Freeman - %25.95- \n",
            "Proteobacteria&Firmicutes -   21/06/22   ,Irving Patterson \n",
            "-%19.55 - Proteobacteria&Chloroflexi&Firmicutes -   21/06/22 ,Karl Ross-   %15.68-   Chloroflexi -   21/06/22 , Brandy Cortez -%23.57-   Chloroflexi&Firmicutes   -21/06/22, \n",
            "Mamie Riley   -%29.32- Actinomycetes-21/06/22 ,Mike Thornton   - %26.44 -   Actinomycetes   - 21/06/22, \n",
            "Jamie Vaughn   - %17.24-Proteobacteria - 21/06/22   , \n",
            "Noah Day -   %8.49   -Proteobacteria   -21/06/22   \n",
            ",Josephine Keller -%13.10 -Proteobacteria-   21/06/22 ,   Tracey Wolfe-%20.39 - Firmicutes   - 21/06/22 ,\n",
            "Ignacio Parks-%14.70   - Chloroflexi&Firmicutes -21/06/22 \n",
            ", Beatrice Newman -%22.45   -Chloroflexi&Actinomycetes&Firmicutes \n",
            "-   21/06/22, Andre Norris   -   %28.46   -   \n",
            "Firmicutes-   21/06/22 ,   Albert Lewis - %23.89-   \n",
            "Cyanobacteria&Firmicutes- 01/08/22,   Javier Bailey   -   \n",
            "%24.49   - Cyanobacteria&Firmicutes - 01/08/22   , Everett Lyons -%1.81-   Cyanobacteria&Firmicutes - 01/08/22 ,   \n",
            "Abraham Maxwell- %6.81   -Proteobacteria-   01/08/22   \n",
            ",   Traci Craig -%0.65- Proteobacteria&Bacillus- \n",
            "01/08/22 , Jeffrey Jenkins   -%26.45- \n",
            "Proteobacteria&Bacillus&Acidobacteria   -   01/08/22,   Merle Wilson \n",
            "-   %7.69 - Actinomycetes- 01/08/22,Janis Franklin   \n",
            "-%8.74   - Actinomycetes&Cyanobacteria   -01/08/22 ,  \n",
            "Leonard Guerrero -   %1.86   -Bacillus  \n",
            "-01/08/22,Lana Sanchez-%14.75   - Bacillus-   \n",
            "01/08/22   ,Donna Ball - %28.10  - \n",
            "Bacillus&Acidobacteria-   01/08/22   , Terrell Barber   - \n",
            "%9.91   - Proteobacteria -01/08/22   ,Jody Flores- \n",
            "%16.34 - Proteobacteria -   01/08/22,   Daryl Herrera \n",
            "-%27.57- Chloroflexi-   21/06/22   , Miguel Mcguire-%5.25- Chloroflexi&Acidobacteria   -   01/08/22 ,   \n",
            "Rogelio Gonzalez- %9.51-   Chloroflexi&Cyanobacteria&Acidobacteria   \n",
            "-   21/06/22   ,   Lora Hammond -%20.56 - \n",
            "Proteobacteria-   21/06/22,Owen Ward- %21.64   -   \n",
            "Proteobacteria&Bacillus-21/06/22,Malcolm Morales -   \n",
            "%24.99   -   Proteobacteria&Bacillus&Cyanobacteria- 21/06/22 ,   \n",
            "Eric Mcdaniel -%29.70- Proteobacteria - 21/06/22 \n",
            ",Madeline Estrada-   %15.52-Proteobacteria-   21/06/22 \n",
            ", Leticia Manning-%15.70 - Proteobacteria&Actinomycetes- \n",
            "21/06/22 ,   Mario Wallace - %12.36 -Proteobacteria - \n",
            "21/06/22,Lewis Glover-   %13.66   -   \n",
            "Proteobacteria&Chloroflexi-21/06/22,   Gail Phelps   -%30.52   \n",
            "- Proteobacteria&Chloroflexi&Acidobacteria   - 21/06/22 , Myrtle Morris \n",
            "-   %22.66   - Proteobacteria&Chloroflexi&Acidobacteria-21/06/22\n",
            "\n"
          ]
        }
      ],
      "source": [
        "# Write your code here\n",
        "# Read file in as one block because too messy to read line by line\n",
        "with open(\"/content/Day2-Project-MessyData.txt\") as inFile:\n",
        "  data = inFile.read()\n",
        "\n",
        "print(data)\n"
      ]
    },
    {
      "cell_type": "code",
      "source": [
        "record = data.split(',')\n",
        "print(record)\n",
        "\n",
        "print('~~~~~~~~~~~~~')\n",
        "print('~~~~~~~~~~~~~')\n",
        "\n",
        "out = []\n",
        "\n",
        "for rec in record :\n",
        "  #print('~~~~~~~~~~~~~')\n",
        "  #print('~~~~~~~~~~~~~')\n",
        "  fields = rec.split('-')\n",
        "  #print(fields)\n",
        "\n",
        "  clean_field = []\n",
        "  for fld in fields:\n",
        "     new_fld = fld.strip()\n",
        "     clean_field.append(new_fld)\n",
        "\n",
        "  out.append(clean_field)\n",
        "\n",
        "print(out)"
      ],
      "metadata": {
        "id": "XaDt0dzrvat5",
        "outputId": "9d9ed3b5-ede2-42d8-d4aa-0fed488999d7",
        "colab": {
          "base_uri": "https://localhost:8080/"
        }
      },
      "execution_count": 13,
      "outputs": [
        {
          "output_type": "stream",
          "name": "stdout",
          "text": [
            "['Edith Mcbride   -%1.21   -   Chloroflexi - \\n04/05/22   ', 'Herbert Tran   -   %7.29- \\nChloroflexi&Acidobacteria-   04/05/22 ', 'Paul Clarke -%12.52 \\n-   Chloroflexi&Acidobacteria - 04/05/22 ', 'Lucille Caldwell   \\n-   %5.13   - Chloroflexi   - 04/05/22', '\\nEduardo George   -%20.39- Chloroflexi&Bacillus \\n-04/05/22   ', '   Danny Mclaughlin-%30.82-   \\nActinomycetes -04/05/22 ', 'Stacy Vargas- %1.85   - \\nActinomycetes&Bacillus -01/08/22', '   Shaun Brock- \\n%17.98-Actinomycetes&Bacillus - 01/08/22 ', ' \\nErick Harper -%17.41- Acidobacteria - 01/08/22', ' \\nMichelle Howell -%28.59- Acidobacteria-   01/08/22   ', ' \\nCarroll Boyd- %14.51-   Actinomycetes&Acidobacteria   -   \\n01/08/22   ', ' Teresa Carter   - %19.64 - \\nChloroflexi-01/08/22   ', '   Jacob Kennedy - %11.40   \\n- Chloroflexi&Firmicutes   - 01/08/22', ' Craig Chambers- \\n%8.79 - Chloroflexi&Acidobacteria&Firmicutes   -01/08/22   ', ' Peggy Bell- %8.65 -Acidobacteria   - 01/08/22', '   Kenneth Cunningham -   %10.53-   Proteobacteria&Acidobacteria   - \\n01/08/22   ', '   Marvin Morgan-   %16.49- \\nProteobacteria&Acidobacteria&Firmicutes   -   01/08/22 ', 'Marjorie Russell \\n- %6.55 -   Proteobacteria&Acidobacteria&Firmicutes-   01/08/22 ', '\\nIsrael Cummings-   %11.86   -Cyanobacteria-  \\n01/08/22', '   June Doyle   -   %22.29 -  \\nCyanobacteria&Bacillus -01/08/22 ', ' Jaime Buchanan   -   \\n%8.35-   Chloroflexi&Cyanobacteria&Bacillus   -   01/08/22', '   \\nRhonda Farmer-%2.91 -   Chloroflexi&Cyanobacteria&Bacillus   \\n-01/08/22', ' Darren Mckenzie -%22.94-Proteobacteria \\n-01/08/22', 'Rufus Malone-%4.70   - Proteobacteria&Bacillus \\n- 01/08/22   ', 'Hubert Miles-   %3.59   \\n-Proteobacteria&Bacillus&Acidobacteria-   01/08/22   ', ' Joseph Bridges  -%5.66   - Proteobacteria&Bacillus&Actinomycetes&Acidobacteria \\n-   01/08/22 ', ' Sergio Murphy   -%17.51   -   \\nCyanobacteria   -   01/08/22 ', ' Audrey Ferguson - \\n%5.54-Cyanobacteria&Acidobacteria   -01/08/22 ', 'Edna Williams - \\n%17.13- Cyanobacteria&Acidobacteria-   04/05/22', '   Randy Fleming-   %21.13 -Cyanobacteria -04/05/22 ', 'Elisa Hart- %0.35   - Cyanobacteria&Actinomycetes-   04/05/22   ', '\\nErnesto Hunt - %13.91   -   Cyanobacteria&Actinomycetes -   \\n04/05/22', '   Shannon Chavez   -%19.26   - \\nBacillus- 04/05/22   ', ' Sammy Cain- %5.45-   \\nBacillus&Firmicutes -04/05/22 ', '   Steven Reeves -%5.50   \\n-   Bacillus-   04/05/22', ' Ruben Jones   - \\n%14.56 -   Bacillus&Acidobacteria-04/05/22 ', ' Essie Hansen-   %7.33   -   Bacillus&Acidobacteria&Firmicutes\\n- 04/05/22   ', '   Rene Hardy   - %20.22   - \\nCyanobacteria -   04/05/22 ', '   Lucy Snyder   - %8.67   \\n-Cyanobacteria&Firmicutes  - 04/05/22 ', 'Dallas Obrien -   \\n%8.31-   Cyanobacteria&Firmicutes -   15/03/22', '   Stacey Payne \\n-   %15.70   -   Chloroflexi&Cyanobacteria&Firmicutes -15/03/22   \\n', '   Tanya Cox   -   %6.74   -Bacillus   - \\n15/03/22 ', ' Melody Moran -   %30.84   \\n-Bacillus&Cyanobacteria-   15/03/22 ', ' Louise Becker   - \\n%12.31 - Proteobacteria&Bacillus&Cyanobacteria-   15/03/22 ', '\\nRyan Webster-%2.94 - Bacillus - 15/03/22 \\n', 'Justin Blake - %22.46   -Chloroflexi&Bacillus -   \\n15/03/22', '   Beverly Baldwin -   %6.60-   \\nChloroflexi&Bacillus&Cyanobacteria -15/03/22   ', '   Dale Brady   \\n-   %6.27 - Bacillus   -15/03/22 ', 'Guadalupe Potter -%21.12   - Bacillus- 15/03/22   ', ' \\nDesiree Butler -%2.10   -Chloroflexi- 15/03/22  \\n', 'Sonja Barnett - %14.22 -Chloroflexi&Cyanobacteria-   \\n15/03/22', ' Angelica Garza-%11.60-Chloroflexi&Cyanobacteria   \\n-   15/03/22   ', '   Jamie Welch   - %25.27   - \\nChloroflexi&Cyanobacteria&Firmicutes -15/03/22   ', '   Rex Hudson   \\n-%8.26-   Actinomycetes- 04/05/22 ', '   Nadine Gibbs \\n-   %30.80 -   Actinomycetes&Bacillus   - 04/05/22   ', ' \\nHannah Pratt-   %22.61   -   Actinomycetes&Bacillus   \\n-04/05/22', 'Gayle Richards-%22.19 - \\nProteobacteria&Actinomycetes&Bacillus -04/05/22   ', 'Stanley Holland \\n- %7.47   - Firmicutes - 04/05/22 ', ' Anna Dean-%5.49 - Bacillus&Firmicutes -   04/05/22   ', '\\nTerrance Saunders -   %23.70  -Proteobacteria&Bacillus&Firmicutes \\n- 04/05/22 ', '   Brandi Zimmerman - %26.66 - \\nFirmicutes   -04/05/22 ', 'Guadalupe Freeman - %25.95- \\nProteobacteria&Firmicutes -   21/06/22   ', 'Irving Patterson \\n-%19.55 - Proteobacteria&Chloroflexi&Firmicutes -   21/06/22 ', 'Karl Ross-   %15.68-   Chloroflexi -   21/06/22 ', ' Brandy Cortez -%23.57-   Chloroflexi&Firmicutes   -21/06/22', ' \\nMamie Riley   -%29.32- Actinomycetes-21/06/22 ', 'Mike Thornton   - %26.44 -   Actinomycetes   - 21/06/22', ' \\nJamie Vaughn   - %17.24-Proteobacteria - 21/06/22   ', ' \\nNoah Day -   %8.49   -Proteobacteria   -21/06/22   \\n', 'Josephine Keller -%13.10 -Proteobacteria-   21/06/22 ', '   Tracey Wolfe-%20.39 - Firmicutes   - 21/06/22 ', '\\nIgnacio Parks-%14.70   - Chloroflexi&Firmicutes -21/06/22 \\n', ' Beatrice Newman -%22.45   -Chloroflexi&Actinomycetes&Firmicutes \\n-   21/06/22', ' Andre Norris   -   %28.46   -   \\nFirmicutes-   21/06/22 ', '   Albert Lewis - %23.89-   \\nCyanobacteria&Firmicutes- 01/08/22', '   Javier Bailey   -   \\n%24.49   - Cyanobacteria&Firmicutes - 01/08/22   ', ' Everett Lyons -%1.81-   Cyanobacteria&Firmicutes - 01/08/22 ', '   \\nAbraham Maxwell- %6.81   -Proteobacteria-   01/08/22   \\n', '   Traci Craig -%0.65- Proteobacteria&Bacillus- \\n01/08/22 ', ' Jeffrey Jenkins   -%26.45- \\nProteobacteria&Bacillus&Acidobacteria   -   01/08/22', '   Merle Wilson \\n-   %7.69 - Actinomycetes- 01/08/22', 'Janis Franklin   \\n-%8.74   - Actinomycetes&Cyanobacteria   -01/08/22 ', '  \\nLeonard Guerrero -   %1.86   -Bacillus  \\n-01/08/22', 'Lana Sanchez-%14.75   - Bacillus-   \\n01/08/22   ', 'Donna Ball - %28.10  - \\nBacillus&Acidobacteria-   01/08/22   ', ' Terrell Barber   - \\n%9.91   - Proteobacteria -01/08/22   ', 'Jody Flores- \\n%16.34 - Proteobacteria -   01/08/22', '   Daryl Herrera \\n-%27.57- Chloroflexi-   21/06/22   ', ' Miguel Mcguire-%5.25- Chloroflexi&Acidobacteria   -   01/08/22 ', '   \\nRogelio Gonzalez- %9.51-   Chloroflexi&Cyanobacteria&Acidobacteria   \\n-   21/06/22   ', '   Lora Hammond -%20.56 - \\nProteobacteria-   21/06/22', 'Owen Ward- %21.64   -   \\nProteobacteria&Bacillus-21/06/22', 'Malcolm Morales -   \\n%24.99   -   Proteobacteria&Bacillus&Cyanobacteria- 21/06/22 ', '   \\nEric Mcdaniel -%29.70- Proteobacteria - 21/06/22 \\n', 'Madeline Estrada-   %15.52-Proteobacteria-   21/06/22 \\n', ' Leticia Manning-%15.70 - Proteobacteria&Actinomycetes- \\n21/06/22 ', '   Mario Wallace - %12.36 -Proteobacteria - \\n21/06/22', 'Lewis Glover-   %13.66   -   \\nProteobacteria&Chloroflexi-21/06/22', '   Gail Phelps   -%30.52   \\n- Proteobacteria&Chloroflexi&Acidobacteria   - 21/06/22 ', ' Myrtle Morris \\n-   %22.66   - Proteobacteria&Chloroflexi&Acidobacteria-21/06/22\\n']\n",
            "~~~~~~~~~~~~~\n",
            "~~~~~~~~~~~~~\n",
            "[['Edith Mcbride', '%1.21', 'Chloroflexi', '04/05/22'], ['Herbert Tran', '%7.29', 'Chloroflexi&Acidobacteria', '04/05/22'], ['Paul Clarke', '%12.52', 'Chloroflexi&Acidobacteria', '04/05/22'], ['Lucille Caldwell', '%5.13', 'Chloroflexi', '04/05/22'], ['Eduardo George', '%20.39', 'Chloroflexi&Bacillus', '04/05/22'], ['Danny Mclaughlin', '%30.82', 'Actinomycetes', '04/05/22'], ['Stacy Vargas', '%1.85', 'Actinomycetes&Bacillus', '01/08/22'], ['Shaun Brock', '%17.98', 'Actinomycetes&Bacillus', '01/08/22'], ['Erick Harper', '%17.41', 'Acidobacteria', '01/08/22'], ['Michelle Howell', '%28.59', 'Acidobacteria', '01/08/22'], ['Carroll Boyd', '%14.51', 'Actinomycetes&Acidobacteria', '01/08/22'], ['Teresa Carter', '%19.64', 'Chloroflexi', '01/08/22'], ['Jacob Kennedy', '%11.40', 'Chloroflexi&Firmicutes', '01/08/22'], ['Craig Chambers', '%8.79', 'Chloroflexi&Acidobacteria&Firmicutes', '01/08/22'], ['Peggy Bell', '%8.65', 'Acidobacteria', '01/08/22'], ['Kenneth Cunningham', '%10.53', 'Proteobacteria&Acidobacteria', '01/08/22'], ['Marvin Morgan', '%16.49', 'Proteobacteria&Acidobacteria&Firmicutes', '01/08/22'], ['Marjorie Russell', '%6.55', 'Proteobacteria&Acidobacteria&Firmicutes', '01/08/22'], ['Israel Cummings', '%11.86', 'Cyanobacteria', '01/08/22'], ['June Doyle', '%22.29', 'Cyanobacteria&Bacillus', '01/08/22'], ['Jaime Buchanan', '%8.35', 'Chloroflexi&Cyanobacteria&Bacillus', '01/08/22'], ['Rhonda Farmer', '%2.91', 'Chloroflexi&Cyanobacteria&Bacillus', '01/08/22'], ['Darren Mckenzie', '%22.94', 'Proteobacteria', '01/08/22'], ['Rufus Malone', '%4.70', 'Proteobacteria&Bacillus', '01/08/22'], ['Hubert Miles', '%3.59', 'Proteobacteria&Bacillus&Acidobacteria', '01/08/22'], ['Joseph Bridges', '%5.66', 'Proteobacteria&Bacillus&Actinomycetes&Acidobacteria', '01/08/22'], ['Sergio Murphy', '%17.51', 'Cyanobacteria', '01/08/22'], ['Audrey Ferguson', '%5.54', 'Cyanobacteria&Acidobacteria', '01/08/22'], ['Edna Williams', '%17.13', 'Cyanobacteria&Acidobacteria', '04/05/22'], ['Randy Fleming', '%21.13', 'Cyanobacteria', '04/05/22'], ['Elisa Hart', '%0.35', 'Cyanobacteria&Actinomycetes', '04/05/22'], ['Ernesto Hunt', '%13.91', 'Cyanobacteria&Actinomycetes', '04/05/22'], ['Shannon Chavez', '%19.26', 'Bacillus', '04/05/22'], ['Sammy Cain', '%5.45', 'Bacillus&Firmicutes', '04/05/22'], ['Steven Reeves', '%5.50', 'Bacillus', '04/05/22'], ['Ruben Jones', '%14.56', 'Bacillus&Acidobacteria', '04/05/22'], ['Essie Hansen', '%7.33', 'Bacillus&Acidobacteria&Firmicutes', '04/05/22'], ['Rene Hardy', '%20.22', 'Cyanobacteria', '04/05/22'], ['Lucy Snyder', '%8.67', 'Cyanobacteria&Firmicutes', '04/05/22'], ['Dallas Obrien', '%8.31', 'Cyanobacteria&Firmicutes', '15/03/22'], ['Stacey Payne', '%15.70', 'Chloroflexi&Cyanobacteria&Firmicutes', '15/03/22'], ['Tanya Cox', '%6.74', 'Bacillus', '15/03/22'], ['Melody Moran', '%30.84', 'Bacillus&Cyanobacteria', '15/03/22'], ['Louise Becker', '%12.31', 'Proteobacteria&Bacillus&Cyanobacteria', '15/03/22'], ['Ryan Webster', '%2.94', 'Bacillus', '15/03/22'], ['Justin Blake', '%22.46', 'Chloroflexi&Bacillus', '15/03/22'], ['Beverly Baldwin', '%6.60', 'Chloroflexi&Bacillus&Cyanobacteria', '15/03/22'], ['Dale Brady', '%6.27', 'Bacillus', '15/03/22'], ['Guadalupe Potter', '%21.12', 'Bacillus', '15/03/22'], ['Desiree Butler', '%2.10', 'Chloroflexi', '15/03/22'], ['Sonja Barnett', '%14.22', 'Chloroflexi&Cyanobacteria', '15/03/22'], ['Angelica Garza', '%11.60', 'Chloroflexi&Cyanobacteria', '15/03/22'], ['Jamie Welch', '%25.27', 'Chloroflexi&Cyanobacteria&Firmicutes', '15/03/22'], ['Rex Hudson', '%8.26', 'Actinomycetes', '04/05/22'], ['Nadine Gibbs', '%30.80', 'Actinomycetes&Bacillus', '04/05/22'], ['Hannah Pratt', '%22.61', 'Actinomycetes&Bacillus', '04/05/22'], ['Gayle Richards', '%22.19', 'Proteobacteria&Actinomycetes&Bacillus', '04/05/22'], ['Stanley Holland', '%7.47', 'Firmicutes', '04/05/22'], ['Anna Dean', '%5.49', 'Bacillus&Firmicutes', '04/05/22'], ['Terrance Saunders', '%23.70', 'Proteobacteria&Bacillus&Firmicutes', '04/05/22'], ['Brandi Zimmerman', '%26.66', 'Firmicutes', '04/05/22'], ['Guadalupe Freeman', '%25.95', 'Proteobacteria&Firmicutes', '21/06/22'], ['Irving Patterson', '%19.55', 'Proteobacteria&Chloroflexi&Firmicutes', '21/06/22'], ['Karl Ross', '%15.68', 'Chloroflexi', '21/06/22'], ['Brandy Cortez', '%23.57', 'Chloroflexi&Firmicutes', '21/06/22'], ['Mamie Riley', '%29.32', 'Actinomycetes', '21/06/22'], ['Mike Thornton', '%26.44', 'Actinomycetes', '21/06/22'], ['Jamie Vaughn', '%17.24', 'Proteobacteria', '21/06/22'], ['Noah Day', '%8.49', 'Proteobacteria', '21/06/22'], ['Josephine Keller', '%13.10', 'Proteobacteria', '21/06/22'], ['Tracey Wolfe', '%20.39', 'Firmicutes', '21/06/22'], ['Ignacio Parks', '%14.70', 'Chloroflexi&Firmicutes', '21/06/22'], ['Beatrice Newman', '%22.45', 'Chloroflexi&Actinomycetes&Firmicutes', '21/06/22'], ['Andre Norris', '%28.46', 'Firmicutes', '21/06/22'], ['Albert Lewis', '%23.89', 'Cyanobacteria&Firmicutes', '01/08/22'], ['Javier Bailey', '%24.49', 'Cyanobacteria&Firmicutes', '01/08/22'], ['Everett Lyons', '%1.81', 'Cyanobacteria&Firmicutes', '01/08/22'], ['Abraham Maxwell', '%6.81', 'Proteobacteria', '01/08/22'], ['Traci Craig', '%0.65', 'Proteobacteria&Bacillus', '01/08/22'], ['Jeffrey Jenkins', '%26.45', 'Proteobacteria&Bacillus&Acidobacteria', '01/08/22'], ['Merle Wilson', '%7.69', 'Actinomycetes', '01/08/22'], ['Janis Franklin', '%8.74', 'Actinomycetes&Cyanobacteria', '01/08/22'], ['Leonard Guerrero', '%1.86', 'Bacillus', '01/08/22'], ['Lana Sanchez', '%14.75', 'Bacillus', '01/08/22'], ['Donna Ball', '%28.10', 'Bacillus&Acidobacteria', '01/08/22'], ['Terrell Barber', '%9.91', 'Proteobacteria', '01/08/22'], ['Jody Flores', '%16.34', 'Proteobacteria', '01/08/22'], ['Daryl Herrera', '%27.57', 'Chloroflexi', '21/06/22'], ['Miguel Mcguire', '%5.25', 'Chloroflexi&Acidobacteria', '01/08/22'], ['Rogelio Gonzalez', '%9.51', 'Chloroflexi&Cyanobacteria&Acidobacteria', '21/06/22'], ['Lora Hammond', '%20.56', 'Proteobacteria', '21/06/22'], ['Owen Ward', '%21.64', 'Proteobacteria&Bacillus', '21/06/22'], ['Malcolm Morales', '%24.99', 'Proteobacteria&Bacillus&Cyanobacteria', '21/06/22'], ['Eric Mcdaniel', '%29.70', 'Proteobacteria', '21/06/22'], ['Madeline Estrada', '%15.52', 'Proteobacteria', '21/06/22'], ['Leticia Manning', '%15.70', 'Proteobacteria&Actinomycetes', '21/06/22'], ['Mario Wallace', '%12.36', 'Proteobacteria', '21/06/22'], ['Lewis Glover', '%13.66', 'Proteobacteria&Chloroflexi', '21/06/22'], ['Gail Phelps', '%30.52', 'Proteobacteria&Chloroflexi&Acidobacteria', '21/06/22'], ['Myrtle Morris', '%22.66', 'Proteobacteria&Chloroflexi&Acidobacteria', '21/06/22']]\n"
          ]
        }
      ]
    },
    {
      "cell_type": "code",
      "execution_count": null,
      "metadata": {
        "id": "fTmdQ8xPuwzz"
      },
      "outputs": [],
      "source": [
        "# Name your final clean list of all phyla \"phyla_count\", then test it with this code block\n",
        "phyla = ['Actinomycetes', 'Proteobacteria', 'Cyanobacteria', 'Firmicutes', 'Chloroflexi', 'Acidobacteria', 'Bacillus']\n",
        "\n",
        "print(\"Phylum\\t\\tCount\")\n",
        "for p in phyla:\n",
        "    print(p, \"\\t\", phyla_count.count(p))\n",
        ""
      ]
    }
  ],
  "metadata": {
    "colab": {
      "provenance": []
    },
    "kernelspec": {
      "display_name": "Python 3",
      "name": "python3"
    },
    "language_info": {
      "codemirror_mode": {
        "name": "ipython",
        "version": 3
      },
      "file_extension": ".py",
      "mimetype": "text/x-python",
      "name": "python",
      "nbconvert_exporter": "python",
      "pygments_lexer": "ipython3",
      "version": "3.11.5"
    }
  },
  "nbformat": 4,
  "nbformat_minor": 0
}