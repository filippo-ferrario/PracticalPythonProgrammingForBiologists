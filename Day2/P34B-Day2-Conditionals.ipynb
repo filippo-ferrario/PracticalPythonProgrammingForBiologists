{
  "cells": [
    {
      "cell_type": "markdown",
      "metadata": {
        "id": "6bLlQkRwJcqY"
      },
      "source": [
        "# Practical Python Programming for Biologists\n",
        "Author: Dr. Daniel Pass | www.CompassBioinformatics.com\n",
        "\n",
        "---"
      ]
    },
    {
      "cell_type": "markdown",
      "metadata": {
        "id": "_by8rrdQ4yC_"
      },
      "source": [
        "# The Big If!\n",
        "\n",
        "Lets take a break from loops for a moment to talk about conditionals. These are basically \"**if** this **then** that\" statements. They are also super powerful and allow us lots of control over our data and code.\n",
        "\n",
        "When working with numerical data it follows normal mathematical symbols:\n",
        "```\n",
        "if x > y:    print(\"x is greater than y\")\n",
        "if x < y:    print(\"x is less than y\")\n",
        "if x == y:   print(\"x is equal to y\")\n",
        "if x != y:   print(\"x is NOT equal to y\")\n",
        "if x >= y:   print(\"x is greater than or equal to y\")\n",
        "if x <= y:   print(\"x is less than or equal to y\")\n",
        "```\n",
        "\n",
        "Note the ```==``` for equals. A common mistake is to use just one ```=``` character but as we know that assigns a variable value instead.\n",
        "\n",
        "**Exercise:** Test which if statements print when you change the values"
      ]
    },
    {
      "cell_type": "code",
      "execution_count": 2,
      "metadata": {
        "id": "Rraq4b3pogPW",
        "outputId": "508741ad-9ce2-4ec5-d324-c9606f087bda",
        "colab": {
          "base_uri": "https://localhost:8080/"
        }
      },
      "outputs": [
        {
          "output_type": "stream",
          "name": "stdout",
          "text": [
            "x is less than y\n",
            "x is NOT equal to y\n",
            "x is less than or equal to y\n"
          ]
        }
      ],
      "source": [
        "x = 5\n",
        "y = 10\n",
        "\n",
        "if x > y:    print(\"x is greater than y\")\n",
        "if x < y:    print(\"x is less than y\")\n",
        "if x == y:   print(\"x is equal to y\")\n",
        "if x != y:   print(\"x is NOT equal to y\")\n",
        "if x >= y:   print(\"x is greater than or equal to y\")\n",
        "if x <= y:   print(\"x is less than or equal to y\")"
      ]
    },
    {
      "cell_type": "markdown",
      "metadata": {
        "id": "08-XAuDl5oIs"
      },
      "source": [
        "Note: What we are really saying is  ```if x > y == True``` then do something, but we don't need to write the second part"
      ]
    },
    {
      "cell_type": "markdown",
      "metadata": {
        "id": "pt_Tjor2Bxaj"
      },
      "source": [
        "## Exercise - While and If\n",
        "\n",
        "Here we have a fastq style of DNA sequence - The bases themselves, and the quality of each base.\n",
        "\n",
        "1. Create a while loop to print both the base and the quality at each position\n",
        "2. Add an if statement to print only the bases where the quality is greater than 20 (What issue would happen with real data?)\n",
        "- Extension: plot a quick graph of the quality scores!"
      ]
    },
    {
      "cell_type": "markdown",
      "source": [],
      "metadata": {
        "id": "1H2x9lFX-Set"
      }
    },
    {
      "cell_type": "code",
      "execution_count": 7,
      "metadata": {
        "id": "zsL_9VsbB1xG",
        "outputId": "965f8fc5-bf84-4dda-f79f-29a121418492",
        "colab": {
          "base_uri": "https://localhost:8080/"
        }
      },
      "outputs": [
        {
          "output_type": "stream",
          "name": "stdout",
          "text": [
            "T 31\n",
            "G 29\n",
            "C 27\n",
            "A 35\n",
            "T 31\n",
            "G 29\n",
            "A 34\n",
            "C 39\n",
            "T 40\n",
            "G 30\n",
            "C 35\n",
            "A 38\n",
            "T 30\n",
            "C 28\n",
            "G 29\n",
            "A 30\n",
            "T 33\n",
            "C 26\n",
            "G 24\n",
            "T 29\n"
          ]
        }
      ],
      "source": [
        "sequence = \"TGCATGACTGCATCGATCGTACGATCGATCGATCGAT\"\n",
        "quality = [31, 29, 27, 35, 31, 29, 34, 39, 40, 30, 35, 38, 30, 28, 29, 30, 33, 26, 24, 29, 19, 11, 17, 16, 18, 17, 13, 11, 16, 19, 15, 3, 7, 15, 4, 10, 17]\n",
        "\n",
        "index = 0\n",
        "while index < len(quality) :\n",
        "  if quality[index] > 20 : print(sequence[index], quality[index])\n",
        "  index +=1"
      ]
    },
    {
      "cell_type": "markdown",
      "metadata": {
        "id": "z6ByRCjkoyFv"
      },
      "source": [
        "---\n",
        "A more real example. Lets check if a single value is less than the a 0.05 significance threshold. Here we have a 2D list which is more complex, but we can access the elements of each list easily with double square brackets ```[ ][ ]```"
      ]
    },
    {
      "cell_type": "code",
      "execution_count": null,
      "metadata": {
        "id": "AWuYCYIHfazI"
      },
      "outputs": [],
      "source": [
        "gene_data = [[\"TP53\", 0.0001],[\"BRCA1\", 0.002],[\"EGFR\", 0.15],[\"KRAS\", 0.00001],[\"MYC\", 0.05]]\n",
        "\n",
        "# If the value of the first list index (second element) is <0.05, then print the gene ID\n",
        "if gene_data[0][1] < 0.05:\n",
        "  print(gene_data[0][0], \"has p<0.05\")\n"
      ]
    },
    {
      "cell_type": "markdown",
      "metadata": {
        "id": "syi-ExdPgqhA"
      },
      "source": [
        "Now lets put that in a loop for all our genes\n",
        "(How could you re-write this code to use fewer lines?)"
      ]
    },
    {
      "cell_type": "code",
      "execution_count": null,
      "metadata": {
        "id": "cSlZKp4LgsXg"
      },
      "outputs": [],
      "source": [
        "for gene in gene_data:\n",
        "  geneID = gene[0]\n",
        "  geneValue = gene[1]\n",
        "\n",
        "  if geneValue < 0.05:\n",
        "    print(geneID, \"has p<0.05\")\n"
      ]
    },
    {
      "cell_type": "markdown",
      "metadata": {
        "id": "SpBIjrrAh9ZC"
      },
      "source": [
        "We can also use an if statement to search within a string. This is a very python-style type of writing as it is very simple and clear, where other languages may require more complexity for comparisons.\n",
        "\n",
        "Note that although it works nicely, there are more efficient ways to do this with larger datasets."
      ]
    },
    {
      "cell_type": "code",
      "execution_count": null,
      "metadata": {
        "id": "qgK1Flrne3Di"
      },
      "outputs": [],
      "source": [
        "# Check if a DNA sequence contains a specific motif\n",
        "sequence = \"ATGCTGACTGACGTGAGCTAGCTAGCTAGCTAGCTG\"\n",
        "motif = \"GCTAG\"\n",
        "\n",
        "if motif in sequence:\n",
        "    print(\"Motif found in the sequence\")\n",
        "\n",
        "\n",
        "species = ['Arabidopsis', 'Bos taurus', 'C. elegans', 'Drosophila', 'E. coli']\n",
        "\n",
        "if \"Arabaaadopsis\" in species:\n",
        "    print(\"found it!\")\n"
      ]
    },
    {
      "cell_type": "markdown",
      "metadata": {
        "id": "HCRhRr6wqF8C"
      },
      "source": [
        "## if/else/elif\n",
        "\n",
        "Ifs are good, but what about if not? We can do that using ```else```"
      ]
    },
    {
      "cell_type": "code",
      "execution_count": null,
      "metadata": {
        "id": "MNpCyr_zqaED"
      },
      "outputs": [],
      "source": [
        "# Check if a DNA sequence length is divisible by 3\n",
        "sequence = \"ATGCTGACTGACGTGAGCTAGCTAGCTAGCTAGCTG\"\n",
        "\n",
        "if len(sequence) % 3 == 0:\n",
        "    print(\"The Open Reading Frame has complete codon usage\")\n",
        "else:\n",
        "    print(\"The Open Reading Frame does not have complete codons\")\n"
      ]
    },
    {
      "cell_type": "markdown",
      "metadata": {
        "id": "Mb1ipY2Sqrgs"
      },
      "source": [
        "We can then make it more complicated with elif (short for else-if)."
      ]
    },
    {
      "cell_type": "code",
      "execution_count": null,
      "metadata": {
        "id": "sh3x19ebe6sm"
      },
      "outputs": [],
      "source": [
        "dna_motifs = [\"ATCG\", \"GCTAGA\", \"ACGAAAT\", \"TAGAC\", \"CGAT\", \"CTGATGGA\", \"GTTCACTACGGAC\", \"TGCGTTA\", \"AGTC\", \"CGGGAGT\", \"TATGCG\", \"GCATTG\", \"ACCACACACACACACCCC\"]\n",
        "\n",
        "for motif in dna_motifs:\n",
        "  if len(motif) <= 4:\n",
        "      print(\"Short:\\t\", motif)\n",
        "  elif len(motif) <= 6:\n",
        "      print(\"Medium:\\t\", motif)\n",
        "  elif len(motif) <= 8:\n",
        "      print(\"Long:\\t\", motif)\n",
        "  else:\n",
        "      print(\"Woah that's big!\", motif)\n"
      ]
    },
    {
      "cell_type": "markdown",
      "metadata": {
        "id": "Gf9iylyQN1Bw"
      },
      "source": [
        "We can access a dictionary in the same way. An ```if``` statement is a useful way to test if the key you are looking for exists. We have a dictionary of SampleIDs and their geographic locations.\n",
        "\n",
        "Often python is really helpful in it's simplicity because here it knows that asking \"if X in dictionary\" to check if it is in the keys and if true will come back and continue the statement (in a way that the .get() function doesn't)."
      ]
    },
    {
      "cell_type": "code",
      "execution_count": null,
      "metadata": {
        "id": "zIQ-iyddOCZf"
      },
      "outputs": [],
      "source": [
        "sample_locations = {\n",
        "    'DAP01': (40.7128, -74.0060),\n",
        "    'DAP02': (51.5074, -0.1278),\n",
        "    'DAP03': (48.8566, 2.3522),\n",
        "    'DAP05': (34.0522, -118.2437),\n",
        "    'DAP06': (35.6895, 139.6917)\n",
        "}\n",
        "\n",
        "sample_to_test = \"DAP04\"\n",
        "\n",
        "if sample_to_test in sample_locations:\n",
        "    print(sample_locations[sample_to_test])\n",
        "else:\n",
        "    print(\"That sample is missing\")"
      ]
    },
    {
      "cell_type": "markdown",
      "metadata": {
        "id": "vhBGH1mMtgUL"
      },
      "source": [
        "## AND/OR/NOT\n",
        "\n",
        "Just as we get our brains around ```ifs``` and ```elses```, we can also combine multiple together. This is useful for situations such as:\n",
        "\n",
        "- If gene binding site contains TATTA and is <100bp from TSS....\n",
        "- If sample count is >100 or in PIs favourite species list\n",
        "- If antibiotic resistance is present but not in my list of already tested....\n",
        "\n",
        "They're good examples, lets see what the code would look like:"
      ]
    },
    {
      "cell_type": "code",
      "execution_count": null,
      "metadata": {
        "id": "pSLhP0p0v55b"
      },
      "outputs": [],
      "source": [
        "# Sample TFBS sequences and their distances from TSS\n",
        "# Note the use of a tuple here for simplicity in the example.\n",
        "gene_binding_sites = [\n",
        "    (\"TFBS1\", \"CGTATTATCG\", 80),\n",
        "    (\"TFBS2\", \"ACGTATCGTATTA\", 120),\n",
        "    (\"TFBS3\", \"CTAGGTTA\", 90),\n",
        "    (\"TFBS4\", \"TATTACGTA\", 40),\n",
        "    (\"TFBS5\", \"ATGCTTACG\", 110)\n",
        "]\n",
        "\n",
        "# Loop over gene binding sites and check conditions\n",
        "for binding_site in gene_binding_sites:\n",
        "    # Using the special tuple assigning method\n",
        "    gene, sequence, distance = binding_site\n",
        "\n",
        "    if \"TATTA\" in sequence and distance < 100:\n",
        "        print(\"Gene\", gene, \"matches the conditions\")\n",
        "\n",
        "## Exercise - print only the genes which start with an A or C (there's a method named .startswith()) but are over 100 distance"
      ]
    },
    {
      "cell_type": "code",
      "execution_count": null,
      "metadata": {
        "id": "cOgNoMELxIVd"
      },
      "outputs": [],
      "source": [
        "# Sample data: animal names and their corresponding read counts\n",
        "animal_samples = [\n",
        "    (\"Lion\", 7500),\n",
        "    (\"Elephant\", 2100),\n",
        "    (\"Giraffe\", 1250),\n",
        "    (\"Tiger\", 950),\n",
        "    (\"Zebra\", 1800)\n",
        "]\n",
        "\n",
        "# List of PI's favorite species\n",
        "favorite_species = [\"Lion\", \"Giraffe\", \"Cheetah\"]\n",
        "\n",
        "# Iterate over animal samples and check conditions\n",
        "for animal, count in animal_samples:\n",
        "    if count > 2000 or animal in favorite_species:\n",
        "        print(\"Sample\", animal, \"matches the conditions\")"
      ]
    },
    {
      "cell_type": "code",
      "execution_count": null,
      "metadata": {
        "id": "EReDrNNfxhvM"
      },
      "outputs": [],
      "source": [
        "# antibiotics and resistance gene found\n",
        "antibiotics = [\n",
        "    (\"Amoxicillin\", True),\n",
        "    (\"Ciprofloxacin\", False),\n",
        "    (\"Gentamicin\", True),\n",
        "    (\"Tetracycline\", False),\n",
        "    (\"Vancomycin\", True)\n",
        "]\n",
        "\n",
        "already_tested = [\"Amoxicillin\", \"Ciprofloxacin\"]\n",
        "\n",
        "# Test if antibiotic is in the already_tested list\n",
        "print(\"Already testsed:\")\n",
        "for antibiotic_pair in antibiotics:\n",
        "  if antibiotic_pair[0] not in already_tested:\n",
        "    print(antibiotic_pair[0])\n",
        "\n",
        "print()\n",
        "# Test if resistance presence is known, AND NOT in already tested\n",
        "# Note the tuple assignment again\n",
        "for antibiotic, resistance in antibiotics:\n",
        "    if resistance and antibiotic not in already_tested:\n",
        "        print(\"Antibiotic\", antibiotic, \"matches the conditions\")"
      ]
    },
    {
      "cell_type": "markdown",
      "metadata": {
        "id": "OyjodSs3y2gl"
      },
      "source": [
        "## Exercises - ifs, buts, and maybes\n",
        "\n",
        "Lets practice. Make each statement indepentantly (they don't all connect together)\n",
        "\n",
        "1.   Print the genes with expression greater than 2\n",
        "2.   Print the genes with expression greater than 2 but less than 3\n",
        "3.   Print the genes with expression less than 1 or greater than 3, and print any other genes with the label \"medium\"\n",
        "4.   Print the genes with expression less than 2 but not called \"BRCA1\"\n",
        "5.   Print \"Low\", \"Medium\" or \"High\" based on if the value is <2, 2-3, or >3\n"
      ]
    },
    {
      "cell_type": "code",
      "execution_count": null,
      "metadata": {
        "id": "zPq-SzUdzZAc"
      },
      "outputs": [],
      "source": [
        "gene_expression = [(\"TP53\", 2.5), (\"BRCA1\", 1.8), (\"EGFR\", 3.2), (\"KRAS\", 0.9), (\"MYC\", 2.7), (\"PTEN\", 1.2), (\"CDKN2A\", 4.5), (\"AKT1\", 2.0), (\"ERBB2\", 1.5), (\"RB1\", 3.8)]\n",
        "\n",
        "for gene, expression in gene_expression:\n",
        "    ..."
      ]
    },
    {
      "cell_type": "markdown",
      "metadata": {
        "id": "ol-FPItjG42y"
      },
      "source": [
        "---\n",
        "## Advanced looping"
      ]
    },
    {
      "cell_type": "markdown",
      "metadata": {
        "id": "dMQeiv3YVTQP"
      },
      "source": [
        "### Loop control\n",
        "If we start running through a loop, it will continue to the end. If our objective is \"Do X for every item in list\" then that is good however, sometimes we don't want that to happen and once we have reached the data we want then we can stop, or skip that turn\n",
        "\n",
        "- ```continue``` - Move on to the next element in the loop immediately - don't do any more code on this itteration\n",
        "- ```break``` - Stop the loop right now, do no more processing"
      ]
    },
    {
      "cell_type": "code",
      "execution_count": null,
      "metadata": {
        "id": "3y7vx0vUEQ5c"
      },
      "outputs": [],
      "source": [
        "gene_list = [\"RB1\", \"PIK3CA\", \"BRAF\", \"HOX2\", \"JAK2\", \"HOX5\", \"NOTCH1\", \"FLT3\", \"KRAS\", \"EGFR\", \"PTEN\", \"HOX1\", \"BRAF\", \"PIK3CA\", \"HOX9\", \"JAK2\"]\n",
        "\n",
        "print(\"Skipping HOX genes:\")\n",
        "for gene in gene_list:\n",
        "    if \"HOX\" in gene:\n",
        "        # Don't do anything, just move on to next element\n",
        "        continue\n",
        "    print(gene)\n",
        "\n",
        "# Note here it stops before printing anything else on that loop\n",
        "print(\"\\nStopping if I find HOX5:\")\n",
        "for gene in gene_list:\n",
        "    if \"HOX5\" in gene:\n",
        "        # Stop the loop!\n",
        "        break\n",
        "    print(gene)\n"
      ]
    },
    {
      "cell_type": "markdown",
      "metadata": {
        "id": "1xQBECBVJ81M"
      },
      "source": [
        "## Exercise - Loop control\n",
        "\n",
        "When we did our quality filtering earlier, the data was designed to not raise above 20 after going below. But that's not realistic! Here is some more variable data.\n",
        "\n",
        "- Use your code from earlier (The While section) and include a ```break``` condition to stop looping when it first goes below 20"
      ]
    },
    {
      "cell_type": "code",
      "execution_count": null,
      "metadata": {
        "id": "BQlcbEDQJ8Y0"
      },
      "outputs": [],
      "source": [
        "sequence = \"TGCATGACTGCATCGATCGTACGATCGATCGATCGAT\"\n",
        "quality = [31, 29, 27, 35, 31, 29, 34, 39, 40, 30, 35, 38, 30, 28, 29, 30, 33, 26, 24, 29, 19, 11, 17, 16, 18, 17, 23, 21, 26, 29, 15, 3, 7, 15, 4, 10, 17]\n",
        "\n",
        "import matplotlib.pyplot as plt\n",
        "\n",
        "plt.plot(range(len(quality)), quality)\n",
        "plt.axhline(20, color = \"red\")\n",
        "plt.show()"
      ]
    },
    {
      "cell_type": "code",
      "execution_count": null,
      "metadata": {
        "id": "Kyhv4vGvKZ6E"
      },
      "outputs": [],
      "source": [
        "# Your code\n"
      ]
    },
    {
      "cell_type": "markdown",
      "metadata": {
        "id": "vfkv7KO9i7jp"
      },
      "source": [
        "# Exercise - Loops, lists, and ifs\n",
        "**Objective**: Take our list of genes and output the most up/down regulated genes with key information\n",
        "\n",
        "This exercise is the most dificult we've done and will need you to use lists, loops, ifs, and dictionaries! It is not supposed to be simple and probably will take 10-20 minutes.\n",
        "\n",
        "Suggested steps:\n",
        "\n",
        "1.   Make empty lists for your up/down gene lists\n",
        "2.   Make a loop to run through the list of gene expression values and use if/else to build your lists\n",
        "3.   Itterate through your new lists and use the dictionary to report if they have been qPCR tested\n",
        "4.   Output in a clean text format such as:\n",
        "\n",
        "\"Here we tested X genes resulting in Y upregulated and Z downregulated. qPCR confirmed A and B respectively. Here is the full list:\"\n",
        "\n",
        "\n",
        "**Extension:** Filter the data to greater than +/- 2 expression. What % of genes are removed by this filter?\n"
      ]
    },
    {
      "cell_type": "code",
      "execution_count": null,
      "metadata": {
        "id": "rLd2P31djxtx"
      },
      "outputs": [],
      "source": [
        "# Data for your analysis\n",
        "gene_list = [\"TP53\", \"BRCA1\", \"EGFR\", \"KRAS\", \"MYC\", \"PTEN\", \"CDKN2A\", \"AKT1\", \"ERBB2\", \"RB1\", \"PIK3CA\", \"BRAF\", \"MET\", \"JAK2\", \"MAPK1\", \"NOTCH1\", \"FLT3\", \"KRAS\", \"EGFR\", \"PTEN\", \"TP53\", \"BRAF\", \"PIK3CA\", \"MYC\", \"ERBB2\", \"RB1\", \"AKT1\", \"CDKN2A\", \"MAPK1\", \"JAK2\"]\n",
        "gene_exp = [['TP53', -1.4245], ['BRCA1', 4.0941], ['EGFR', 1.8266], ['KRAS', -0.8996], ['MYC', -2.1188], ['PTEN', -1.8499], ['CDKN2A', 4.2798], ['AKT1', 0.4709], ['ERBB2', 2.144], ['RB1', 4.7541], ['PIK3CA', 2.6291], ['BRAF', 2.1514], ['MET', 0.2558], ['JAK2', 5.0332], ['MAPK1', 5.295], ['NOTCH1', 2.5695], ['FLT3', 5.3211], ['KRAS', 3.064], ['EGFR', 0.1768], ['PTEN', -0.4923], ['TP53', -4.7796], ['BRAF', -3.8257], ['PIK3CA', 0.3357], ['MYC', -0.0917], ['ERBB2', -3.2586], ['RB1', -0.7903], ['AKT1', 0.6729], ['CDKN2A', 5.8131], ['MAPK1', -4.9549], ['JAK2', -0.936]]\n",
        "qPCR_status = {'TP53': False, 'BRCA1': False, 'EGFR': True, 'KRAS': False, 'MYC': True, 'PTEN': True, 'CDKN2A': False, 'AKT1': True, 'ERBB2': False, 'RB1': False, 'PIK3CA': True, 'BRAF': False, 'MET': False, 'JAK2': True, 'MAPK1': False, 'NOTCH1': False, 'FLT3': True}\n"
      ]
    },
    {
      "cell_type": "code",
      "execution_count": null,
      "metadata": {
        "id": "fOLCM_TIjTha"
      },
      "outputs": [],
      "source": [
        "# Your code here\n"
      ]
    }
  ],
  "metadata": {
    "colab": {
      "provenance": [],
      "toc_visible": true
    },
    "kernelspec": {
      "display_name": "Python 3",
      "name": "python3"
    },
    "language_info": {
      "codemirror_mode": {
        "name": "ipython",
        "version": 3
      },
      "file_extension": ".py",
      "mimetype": "text/x-python",
      "name": "python",
      "nbconvert_exporter": "python",
      "pygments_lexer": "ipython3",
      "version": "3.11.5"
    }
  },
  "nbformat": 4,
  "nbformat_minor": 0
}